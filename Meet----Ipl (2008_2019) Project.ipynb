{
 "cells": [
  {
   "cell_type": "markdown",
   "metadata": {},
   "source": [
    "# IPL Datasets Analysis\n",
    "\n",
    "## Indian Premier Legue"
   ]
  },
  {
   "cell_type": "markdown",
   "metadata": {},
   "source": [
    "<img src=\"Image/IPL_logo.jpg\" style=\"width:450px\"/>"
   ]
  },
  {
   "cell_type": "code",
   "execution_count": 1,
   "metadata": {},
   "outputs": [],
   "source": [
    "import numpy as np\n",
    "import pandas as pd"
   ]
  },
  {
   "cell_type": "code",
   "execution_count": 86,
   "metadata": {},
   "outputs": [],
   "source": [
    "import matplotlib.pyplot as plt\n",
    "import seaborn as sns\n",
    "%matplotlib inline"
   ]
  },
  {
   "cell_type": "code",
   "execution_count": 3,
   "metadata": {},
   "outputs": [],
   "source": [
    "import plotly\n",
    "from plotly.offline import download_plotlyjs,init_notebook_mode,plot,iplot\n",
    "import cufflinks as cf"
   ]
  },
  {
   "cell_type": "code",
   "execution_count": 4,
   "metadata": {},
   "outputs": [
    {
     "data": {
      "text/html": [
       "        <script type=\"text/javascript\">\n",
       "        window.PlotlyConfig = {MathJaxConfig: 'local'};\n",
       "        if (window.MathJax) {MathJax.Hub.Config({SVG: {font: \"STIX-Web\"}});}\n",
       "        if (typeof require !== 'undefined') {\n",
       "        require.undef(\"plotly\");\n",
       "        requirejs.config({\n",
       "            paths: {\n",
       "                'plotly': ['https://cdn.plot.ly/plotly-latest.min']\n",
       "            }\n",
       "        });\n",
       "        require(['plotly'], function(Plotly) {\n",
       "            window._Plotly = Plotly;\n",
       "        });\n",
       "        }\n",
       "        </script>\n",
       "        "
      ]
     },
     "metadata": {},
     "output_type": "display_data"
    },
    {
     "data": {
      "text/html": [
       "        <script type=\"text/javascript\">\n",
       "        window.PlotlyConfig = {MathJaxConfig: 'local'};\n",
       "        if (window.MathJax) {MathJax.Hub.Config({SVG: {font: \"STIX-Web\"}});}\n",
       "        if (typeof require !== 'undefined') {\n",
       "        require.undef(\"plotly\");\n",
       "        requirejs.config({\n",
       "            paths: {\n",
       "                'plotly': ['https://cdn.plot.ly/plotly-latest.min']\n",
       "            }\n",
       "        });\n",
       "        require(['plotly'], function(Plotly) {\n",
       "            window._Plotly = Plotly;\n",
       "        });\n",
       "        }\n",
       "        </script>\n",
       "        "
      ]
     },
     "metadata": {},
     "output_type": "display_data"
    }
   ],
   "source": [
    "cf.go_offline()\n",
    "init_notebook_mode(connected=True)"
   ]
  },
  {
   "cell_type": "markdown",
   "metadata": {},
   "source": [
    "# Using Mathematics With Pandas,Numpy"
   ]
  },
  {
   "cell_type": "code",
   "execution_count": 5,
   "metadata": {},
   "outputs": [],
   "source": [
    "df = pd.read_csv('matches.csv')"
   ]
  },
  {
   "cell_type": "code",
   "execution_count": 6,
   "metadata": {},
   "outputs": [
    {
     "data": {
      "text/html": [
       "<div>\n",
       "<style scoped>\n",
       "    .dataframe tbody tr th:only-of-type {\n",
       "        vertical-align: middle;\n",
       "    }\n",
       "\n",
       "    .dataframe tbody tr th {\n",
       "        vertical-align: top;\n",
       "    }\n",
       "\n",
       "    .dataframe thead th {\n",
       "        text-align: right;\n",
       "    }\n",
       "</style>\n",
       "<table border=\"1\" class=\"dataframe\">\n",
       "  <thead>\n",
       "    <tr style=\"text-align: right;\">\n",
       "      <th></th>\n",
       "      <th>id</th>\n",
       "      <th>season</th>\n",
       "      <th>city</th>\n",
       "      <th>date</th>\n",
       "      <th>team1</th>\n",
       "      <th>team2</th>\n",
       "      <th>toss_winner</th>\n",
       "      <th>toss_decision</th>\n",
       "      <th>result</th>\n",
       "      <th>dl_applied</th>\n",
       "      <th>winner</th>\n",
       "      <th>win_by_runs</th>\n",
       "      <th>win_by_wickets</th>\n",
       "      <th>player_of_match</th>\n",
       "      <th>venue</th>\n",
       "      <th>umpire1</th>\n",
       "      <th>umpire2</th>\n",
       "      <th>umpire3</th>\n",
       "    </tr>\n",
       "  </thead>\n",
       "  <tbody>\n",
       "    <tr>\n",
       "      <th>0</th>\n",
       "      <td>1</td>\n",
       "      <td>2017</td>\n",
       "      <td>Hyderabad</td>\n",
       "      <td>2017-04-05</td>\n",
       "      <td>Sunrisers Hyderabad</td>\n",
       "      <td>Royal Challengers Bangalore</td>\n",
       "      <td>Royal Challengers Bangalore</td>\n",
       "      <td>field</td>\n",
       "      <td>normal</td>\n",
       "      <td>0</td>\n",
       "      <td>Sunrisers Hyderabad</td>\n",
       "      <td>35</td>\n",
       "      <td>0</td>\n",
       "      <td>Yuvraj Singh</td>\n",
       "      <td>Rajiv Gandhi International Stadium, Uppal</td>\n",
       "      <td>AY Dandekar</td>\n",
       "      <td>NJ Llong</td>\n",
       "      <td>NaN</td>\n",
       "    </tr>\n",
       "    <tr>\n",
       "      <th>1</th>\n",
       "      <td>2</td>\n",
       "      <td>2017</td>\n",
       "      <td>Pune</td>\n",
       "      <td>2017-04-06</td>\n",
       "      <td>Mumbai Indians</td>\n",
       "      <td>Rising Pune Supergiant</td>\n",
       "      <td>Rising Pune Supergiant</td>\n",
       "      <td>field</td>\n",
       "      <td>normal</td>\n",
       "      <td>0</td>\n",
       "      <td>Rising Pune Supergiant</td>\n",
       "      <td>0</td>\n",
       "      <td>7</td>\n",
       "      <td>SPD Smith</td>\n",
       "      <td>Maharashtra Cricket Association Stadium</td>\n",
       "      <td>A Nand Kishore</td>\n",
       "      <td>S Ravi</td>\n",
       "      <td>NaN</td>\n",
       "    </tr>\n",
       "    <tr>\n",
       "      <th>2</th>\n",
       "      <td>3</td>\n",
       "      <td>2017</td>\n",
       "      <td>Rajkot</td>\n",
       "      <td>2017-04-07</td>\n",
       "      <td>Gujarat Lions</td>\n",
       "      <td>Kolkata Knight Riders</td>\n",
       "      <td>Kolkata Knight Riders</td>\n",
       "      <td>field</td>\n",
       "      <td>normal</td>\n",
       "      <td>0</td>\n",
       "      <td>Kolkata Knight Riders</td>\n",
       "      <td>0</td>\n",
       "      <td>10</td>\n",
       "      <td>CA Lynn</td>\n",
       "      <td>Saurashtra Cricket Association Stadium</td>\n",
       "      <td>Nitin Menon</td>\n",
       "      <td>CK Nandan</td>\n",
       "      <td>NaN</td>\n",
       "    </tr>\n",
       "    <tr>\n",
       "      <th>3</th>\n",
       "      <td>4</td>\n",
       "      <td>2017</td>\n",
       "      <td>Indore</td>\n",
       "      <td>2017-04-08</td>\n",
       "      <td>Rising Pune Supergiant</td>\n",
       "      <td>Kings XI Punjab</td>\n",
       "      <td>Kings XI Punjab</td>\n",
       "      <td>field</td>\n",
       "      <td>normal</td>\n",
       "      <td>0</td>\n",
       "      <td>Kings XI Punjab</td>\n",
       "      <td>0</td>\n",
       "      <td>6</td>\n",
       "      <td>GJ Maxwell</td>\n",
       "      <td>Holkar Cricket Stadium</td>\n",
       "      <td>AK Chaudhary</td>\n",
       "      <td>C Shamshuddin</td>\n",
       "      <td>NaN</td>\n",
       "    </tr>\n",
       "    <tr>\n",
       "      <th>4</th>\n",
       "      <td>5</td>\n",
       "      <td>2017</td>\n",
       "      <td>Bangalore</td>\n",
       "      <td>2017-04-08</td>\n",
       "      <td>Royal Challengers Bangalore</td>\n",
       "      <td>Delhi Daredevils</td>\n",
       "      <td>Royal Challengers Bangalore</td>\n",
       "      <td>bat</td>\n",
       "      <td>normal</td>\n",
       "      <td>0</td>\n",
       "      <td>Royal Challengers Bangalore</td>\n",
       "      <td>15</td>\n",
       "      <td>0</td>\n",
       "      <td>KM Jadhav</td>\n",
       "      <td>M Chinnaswamy Stadium</td>\n",
       "      <td>NaN</td>\n",
       "      <td>NaN</td>\n",
       "      <td>NaN</td>\n",
       "    </tr>\n",
       "  </tbody>\n",
       "</table>\n",
       "</div>"
      ],
      "text/plain": [
       "   id  season       city        date                        team1  \\\n",
       "0   1    2017  Hyderabad  2017-04-05          Sunrisers Hyderabad   \n",
       "1   2    2017       Pune  2017-04-06               Mumbai Indians   \n",
       "2   3    2017     Rajkot  2017-04-07                Gujarat Lions   \n",
       "3   4    2017     Indore  2017-04-08       Rising Pune Supergiant   \n",
       "4   5    2017  Bangalore  2017-04-08  Royal Challengers Bangalore   \n",
       "\n",
       "                         team2                  toss_winner toss_decision  \\\n",
       "0  Royal Challengers Bangalore  Royal Challengers Bangalore         field   \n",
       "1       Rising Pune Supergiant       Rising Pune Supergiant         field   \n",
       "2        Kolkata Knight Riders        Kolkata Knight Riders         field   \n",
       "3              Kings XI Punjab              Kings XI Punjab         field   \n",
       "4             Delhi Daredevils  Royal Challengers Bangalore           bat   \n",
       "\n",
       "   result  dl_applied                       winner  win_by_runs  \\\n",
       "0  normal           0          Sunrisers Hyderabad           35   \n",
       "1  normal           0       Rising Pune Supergiant            0   \n",
       "2  normal           0        Kolkata Knight Riders            0   \n",
       "3  normal           0              Kings XI Punjab            0   \n",
       "4  normal           0  Royal Challengers Bangalore           15   \n",
       "\n",
       "   win_by_wickets player_of_match                                      venue  \\\n",
       "0               0    Yuvraj Singh  Rajiv Gandhi International Stadium, Uppal   \n",
       "1               7       SPD Smith    Maharashtra Cricket Association Stadium   \n",
       "2              10         CA Lynn     Saurashtra Cricket Association Stadium   \n",
       "3               6      GJ Maxwell                     Holkar Cricket Stadium   \n",
       "4               0       KM Jadhav                      M Chinnaswamy Stadium   \n",
       "\n",
       "          umpire1        umpire2 umpire3  \n",
       "0     AY Dandekar       NJ Llong     NaN  \n",
       "1  A Nand Kishore         S Ravi     NaN  \n",
       "2     Nitin Menon      CK Nandan     NaN  \n",
       "3    AK Chaudhary  C Shamshuddin     NaN  \n",
       "4             NaN            NaN     NaN  "
      ]
     },
     "execution_count": 6,
     "metadata": {},
     "output_type": "execute_result"
    }
   ],
   "source": [
    "df.head()  "
   ]
  },
  {
   "cell_type": "code",
   "execution_count": 7,
   "metadata": {},
   "outputs": [],
   "source": [
    "teams = df.melt(value_vars=['team1','team2'],value_name='Total_Teams')  # 'Melt'  is used to reduce to columns in one associated with is't respective value..."
   ]
  },
  {
   "cell_type": "code",
   "execution_count": 8,
   "metadata": {},
   "outputs": [
    {
     "data": {
      "text/plain": [
       "array(['Sunrisers Hyderabad', 'Mumbai Indians', 'Gujarat Lions',\n",
       "       'Rising Pune Supergiant', 'Royal Challengers Bangalore',\n",
       "       'Kolkata Knight Riders', 'Delhi Daredevils', 'Kings XI Punjab',\n",
       "       'Chennai Super Kings', 'Rajasthan Royals', 'Deccan Chargers',\n",
       "       'Kochi Tuskers Kerala', 'Pune Warriors', 'Rising Pune Supergiants'],\n",
       "      dtype=object)"
      ]
     },
     "execution_count": 8,
     "metadata": {},
     "output_type": "execute_result"
    }
   ],
   "source": [
    "teams['Total_Teams'].unique()  # Till now 14 team has been a part of IPL.."
   ]
  },
  {
   "cell_type": "code",
   "execution_count": 9,
   "metadata": {},
   "outputs": [
    {
     "name": "stdout",
     "output_type": "stream",
     "text": [
      "Total played matches in Indian Premier Legue: 696\n"
     ]
    }
   ],
   "source": [
    "print('Total played matches in Indian Premier Legue:',df['season'].count())"
   ]
  },
  {
   "cell_type": "code",
   "execution_count": 10,
   "metadata": {},
   "outputs": [
    {
     "name": "stdout",
     "output_type": "stream",
     "text": [
      "Total matches played in each season:\n"
     ]
    },
    {
     "data": {
      "text/plain": [
       "2009    57\n",
       "2008    58\n",
       "2017    59\n",
       "2015    59\n",
       "2018    60\n",
       "2016    60\n",
       "2014    60\n",
       "2010    60\n",
       "2011    73\n",
       "2012    74\n",
       "2013    76\n",
       "Name: season, dtype: int64"
      ]
     },
     "execution_count": 10,
     "metadata": {},
     "output_type": "execute_result"
    }
   ],
   "source": [
    "print('Total matches played in each season:')\n",
    "df['season'].value_counts().sort_values()"
   ]
  },
  {
   "cell_type": "code",
   "execution_count": 11,
   "metadata": {},
   "outputs": [],
   "source": [
    "df.drop('id',axis=1,inplace=True) # I don't want another data for id so i drop it..."
   ]
  },
  {
   "cell_type": "code",
   "execution_count": 12,
   "metadata": {},
   "outputs": [
    {
     "name": "stdout",
     "output_type": "stream",
     "text": [
      "Individual team's total win in IPL\n"
     ]
    },
    {
     "data": {
      "text/plain": [
       "Mumbai Indians                 98\n",
       "Chennai Super Kings            90\n",
       "Kolkata Knight Riders          86\n",
       "Royal Challengers Bangalore    79\n",
       "Kings XI Punjab                76\n",
       "Rajasthan Royals               70\n",
       "Delhi Daredevils               67\n",
       "Sunrisers Hyderabad            52\n",
       "Deccan Chargers                29\n",
       "Gujarat Lions                  13\n",
       "Pune Warriors                  12\n",
       "Rising Pune Supergiant         10\n",
       "Kochi Tuskers Kerala            6\n",
       "Rising Pune Supergiants         5\n",
       "Name: winner, dtype: int64"
      ]
     },
     "execution_count": 12,
     "metadata": {},
     "output_type": "execute_result"
    }
   ],
   "source": [
    "print(\"Individual team's total win in IPL\")\n",
    "df['winner'].value_counts()"
   ]
  },
  {
   "cell_type": "code",
   "execution_count": 13,
   "metadata": {
    "scrolled": false
   },
   "outputs": [
    {
     "data": {
      "text/plain": [
       "field    413\n",
       "bat      283\n",
       "Name: toss_decision, dtype: int64"
      ]
     },
     "execution_count": 13,
     "metadata": {},
     "output_type": "execute_result"
    }
   ],
   "source": [
    "df['toss_decision'].value_counts()"
   ]
  },
  {
   "cell_type": "code",
   "execution_count": 14,
   "metadata": {},
   "outputs": [
    {
     "data": {
      "text/html": [
       "<div>\n",
       "<style scoped>\n",
       "    .dataframe tbody tr th:only-of-type {\n",
       "        vertical-align: middle;\n",
       "    }\n",
       "\n",
       "    .dataframe tbody tr th {\n",
       "        vertical-align: top;\n",
       "    }\n",
       "\n",
       "    .dataframe thead th {\n",
       "        text-align: right;\n",
       "    }\n",
       "</style>\n",
       "<table border=\"1\" class=\"dataframe\">\n",
       "  <thead>\n",
       "    <tr style=\"text-align: right;\">\n",
       "      <th></th>\n",
       "      <th>toss_winner</th>\n",
       "      <th>winner</th>\n",
       "    </tr>\n",
       "  </thead>\n",
       "  <tbody>\n",
       "    <tr>\n",
       "      <th>1</th>\n",
       "      <td>Rising Pune Supergiant</td>\n",
       "      <td>Rising Pune Supergiant</td>\n",
       "    </tr>\n",
       "    <tr>\n",
       "      <th>2</th>\n",
       "      <td>Kolkata Knight Riders</td>\n",
       "      <td>Kolkata Knight Riders</td>\n",
       "    </tr>\n",
       "    <tr>\n",
       "      <th>3</th>\n",
       "      <td>Kings XI Punjab</td>\n",
       "      <td>Kings XI Punjab</td>\n",
       "    </tr>\n",
       "    <tr>\n",
       "      <th>5</th>\n",
       "      <td>Sunrisers Hyderabad</td>\n",
       "      <td>Sunrisers Hyderabad</td>\n",
       "    </tr>\n",
       "    <tr>\n",
       "      <th>6</th>\n",
       "      <td>Mumbai Indians</td>\n",
       "      <td>Mumbai Indians</td>\n",
       "    </tr>\n",
       "    <tr>\n",
       "      <th>...</th>\n",
       "      <td>...</td>\n",
       "      <td>...</td>\n",
       "    </tr>\n",
       "    <tr>\n",
       "      <th>683</th>\n",
       "      <td>Royal Challengers Bangalore</td>\n",
       "      <td>Royal Challengers Bangalore</td>\n",
       "    </tr>\n",
       "    <tr>\n",
       "      <th>684</th>\n",
       "      <td>Kolkata Knight Riders</td>\n",
       "      <td>Kolkata Knight Riders</td>\n",
       "    </tr>\n",
       "    <tr>\n",
       "      <th>691</th>\n",
       "      <td>Chennai Super Kings</td>\n",
       "      <td>Chennai Super Kings</td>\n",
       "    </tr>\n",
       "    <tr>\n",
       "      <th>692</th>\n",
       "      <td>Chennai Super Kings</td>\n",
       "      <td>Chennai Super Kings</td>\n",
       "    </tr>\n",
       "    <tr>\n",
       "      <th>695</th>\n",
       "      <td>Chennai Super Kings</td>\n",
       "      <td>Chennai Super Kings</td>\n",
       "    </tr>\n",
       "  </tbody>\n",
       "</table>\n",
       "<p>228 rows × 2 columns</p>\n",
       "</div>"
      ],
      "text/plain": [
       "                     toss_winner                       winner\n",
       "1         Rising Pune Supergiant       Rising Pune Supergiant\n",
       "2          Kolkata Knight Riders        Kolkata Knight Riders\n",
       "3                Kings XI Punjab              Kings XI Punjab\n",
       "5            Sunrisers Hyderabad          Sunrisers Hyderabad\n",
       "6                 Mumbai Indians               Mumbai Indians\n",
       "..                           ...                          ...\n",
       "683  Royal Challengers Bangalore  Royal Challengers Bangalore\n",
       "684        Kolkata Knight Riders        Kolkata Knight Riders\n",
       "691          Chennai Super Kings          Chennai Super Kings\n",
       "692          Chennai Super Kings          Chennai Super Kings\n",
       "695          Chennai Super Kings          Chennai Super Kings\n",
       "\n",
       "[228 rows x 2 columns]"
      ]
     },
     "execution_count": 14,
     "metadata": {},
     "output_type": "execute_result"
    }
   ],
   "source": [
    "df[(df['toss_decision']=='field') & (df['toss_winner']==df['winner'])][['toss_winner','winner']]  "
   ]
  },
  {
   "cell_type": "markdown",
   "metadata": {},
   "source": [
    "# 55.2 chance for teams when they choose Field first...."
   ]
  },
  {
   "cell_type": "markdown",
   "metadata": {},
   "source": [
    "# 45.58 chance for teams when they choose bat first...\n",
    "\n",
    "## It is possible that captains and coach finds it bowling pitch or team loves to chase..."
   ]
  },
  {
   "cell_type": "code",
   "execution_count": 15,
   "metadata": {},
   "outputs": [
    {
     "data": {
      "text/html": [
       "<div>\n",
       "<style scoped>\n",
       "    .dataframe tbody tr th:only-of-type {\n",
       "        vertical-align: middle;\n",
       "    }\n",
       "\n",
       "    .dataframe tbody tr th {\n",
       "        vertical-align: top;\n",
       "    }\n",
       "\n",
       "    .dataframe thead th {\n",
       "        text-align: right;\n",
       "    }\n",
       "</style>\n",
       "<table border=\"1\" class=\"dataframe\">\n",
       "  <thead>\n",
       "    <tr style=\"text-align: right;\">\n",
       "      <th></th>\n",
       "      <th>toss_winner</th>\n",
       "      <th>winner</th>\n",
       "    </tr>\n",
       "  </thead>\n",
       "  <tbody>\n",
       "    <tr>\n",
       "      <th>4</th>\n",
       "      <td>Royal Challengers Bangalore</td>\n",
       "      <td>Royal Challengers Bangalore</td>\n",
       "    </tr>\n",
       "    <tr>\n",
       "      <th>14</th>\n",
       "      <td>Delhi Daredevils</td>\n",
       "      <td>Delhi Daredevils</td>\n",
       "    </tr>\n",
       "    <tr>\n",
       "      <th>20</th>\n",
       "      <td>Sunrisers Hyderabad</td>\n",
       "      <td>Sunrisers Hyderabad</td>\n",
       "    </tr>\n",
       "    <tr>\n",
       "      <th>50</th>\n",
       "      <td>Delhi Daredevils</td>\n",
       "      <td>Delhi Daredevils</td>\n",
       "    </tr>\n",
       "    <tr>\n",
       "      <th>54</th>\n",
       "      <td>Royal Challengers Bangalore</td>\n",
       "      <td>Royal Challengers Bangalore</td>\n",
       "    </tr>\n",
       "    <tr>\n",
       "      <th>...</th>\n",
       "      <td>...</td>\n",
       "      <td>...</td>\n",
       "    </tr>\n",
       "    <tr>\n",
       "      <th>651</th>\n",
       "      <td>Kings XI Punjab</td>\n",
       "      <td>Kings XI Punjab</td>\n",
       "    </tr>\n",
       "    <tr>\n",
       "      <th>663</th>\n",
       "      <td>Sunrisers Hyderabad</td>\n",
       "      <td>Sunrisers Hyderabad</td>\n",
       "    </tr>\n",
       "    <tr>\n",
       "      <th>675</th>\n",
       "      <td>Rajasthan Royals</td>\n",
       "      <td>Rajasthan Royals</td>\n",
       "    </tr>\n",
       "    <tr>\n",
       "      <th>688</th>\n",
       "      <td>Rajasthan Royals</td>\n",
       "      <td>Rajasthan Royals</td>\n",
       "    </tr>\n",
       "    <tr>\n",
       "      <th>690</th>\n",
       "      <td>Delhi Daredevils</td>\n",
       "      <td>Delhi Daredevils</td>\n",
       "    </tr>\n",
       "  </tbody>\n",
       "</table>\n",
       "<p>129 rows × 2 columns</p>\n",
       "</div>"
      ],
      "text/plain": [
       "                     toss_winner                       winner\n",
       "4    Royal Challengers Bangalore  Royal Challengers Bangalore\n",
       "14              Delhi Daredevils             Delhi Daredevils\n",
       "20           Sunrisers Hyderabad          Sunrisers Hyderabad\n",
       "50              Delhi Daredevils             Delhi Daredevils\n",
       "54   Royal Challengers Bangalore  Royal Challengers Bangalore\n",
       "..                           ...                          ...\n",
       "651              Kings XI Punjab              Kings XI Punjab\n",
       "663          Sunrisers Hyderabad          Sunrisers Hyderabad\n",
       "675             Rajasthan Royals             Rajasthan Royals\n",
       "688             Rajasthan Royals             Rajasthan Royals\n",
       "690             Delhi Daredevils             Delhi Daredevils\n",
       "\n",
       "[129 rows x 2 columns]"
      ]
     },
     "execution_count": 15,
     "metadata": {},
     "output_type": "execute_result"
    }
   ],
   "source": [
    "df[(df['toss_decision']=='bat') & (df['toss_winner']==df['winner'])][['toss_winner','winner']] "
   ]
  },
  {
   "cell_type": "markdown",
   "metadata": {},
   "source": [
    "# Winning ratio of each team ."
   ]
  },
  {
   "cell_type": "code",
   "execution_count": 16,
   "metadata": {},
   "outputs": [
    {
     "data": {
      "text/plain": [
       "Int64Index([  1,   6,   9,  11,  15,  21,  23,  27,  33,  36,\n",
       "            ...\n",
       "            656, 658, 662, 666, 669, 672, 676, 682, 685, 690],\n",
       "           dtype='int64', length=171)"
      ]
     },
     "execution_count": 16,
     "metadata": {},
     "output_type": "execute_result"
    }
   ],
   "source": [
    "df[(df['team1']=='Mumbai Indians') | (df['team2']=='Mumbai Indians')].index # (98/171) MI has won 57.3% of their matches in the history of IPL..."
   ]
  },
  {
   "cell_type": "code",
   "execution_count": 17,
   "metadata": {},
   "outputs": [
    {
     "data": {
      "text/plain": [
       "Int64Index([ 60,  66,  70,  73,  78,  82,  84,  86,  90,  95,\n",
       "            ...\n",
       "            662, 665, 668, 670, 678, 681, 687, 691, 692, 695],\n",
       "           dtype='int64', length=147)"
      ]
     },
     "execution_count": 17,
     "metadata": {},
     "output_type": "execute_result"
    }
   ],
   "source": [
    "df[(df['team1']=='Chennai Super Kings') | (df['team2']=='Chennai Super Kings')].index # (90/147) CSK has won 61.2% of their matches in the history of IPL..."
   ]
  },
  {
   "cell_type": "code",
   "execution_count": 18,
   "metadata": {},
   "outputs": [
    {
     "data": {
      "text/plain": [
       "Int64Index([  0,   4,   7,  11,  16,  19,  26,  29,  32,  36,\n",
       "            ...\n",
       "            654, 659, 664, 666, 670, 674, 680, 683, 686, 688],\n",
       "           dtype='int64', length=166)"
      ]
     },
     "execution_count": 18,
     "metadata": {},
     "output_type": "execute_result"
    }
   ],
   "source": [
    "df[(df['team1']=='Royal Challengers Bangalore') | (df['team2']=='Royal Challengers Bangalore')].index # (79/166) RCB has won 47.6% of their matches in the history of IPL..."
   ]
  },
  {
   "cell_type": "code",
   "execution_count": 19,
   "metadata": {},
   "outputs": [
    {
     "data": {
      "text/plain": [
       "Int64Index([  2,   6,  10,  13,  17,  22,  26,  28,  30,  35,\n",
       "            ...\n",
       "            661, 664, 668, 672, 676, 679, 684, 689, 693, 694],\n",
       "           dtype='int64', length=164)"
      ]
     },
     "execution_count": 19,
     "metadata": {},
     "output_type": "execute_result"
    }
   ],
   "source": [
    "df[(df['team1']=='Kolkata Knight Riders') | (df['team2']=='Kolkata Knight Riders')].index # (86/164) KKR has won 52.4% of their matches in the history of IPL..."
   ]
  },
  {
   "cell_type": "markdown",
   "metadata": {},
   "source": [
    "### As we can see CSK wins 61.2% of their matches means that they win 6 matches out of 10 probably and it is highest for any team..."
   ]
  },
  {
   "cell_type": "code",
   "execution_count": 20,
   "metadata": {},
   "outputs": [],
   "source": [
    "# pd.set_option('display.max_rows',None) # aana thi bdhi rows batade"
   ]
  },
  {
   "cell_type": "markdown",
   "metadata": {},
   "source": [
    "# Man Of The Match"
   ]
  },
  {
   "cell_type": "code",
   "execution_count": 21,
   "metadata": {
    "scrolled": true
   },
   "outputs": [
    {
     "data": {
      "text/plain": [
       "MF Maharoof        1\n",
       "MA Starc           1\n",
       "NV Ojha            1\n",
       "A Singh            1\n",
       "S Gopal            1\n",
       "                  ..\n",
       "DA Warner         15\n",
       "RG Sharma         16\n",
       "YK Pathan         16\n",
       "AB de Villiers    18\n",
       "CH Gayle          20\n",
       "Name: player_of_match, Length: 214, dtype: int64"
      ]
     },
     "execution_count": 21,
     "metadata": {},
     "output_type": "execute_result"
    }
   ],
   "source": [
    "df['player_of_match'].value_counts().sort_values()"
   ]
  },
  {
   "cell_type": "code",
   "execution_count": 22,
   "metadata": {
    "scrolled": true
   },
   "outputs": [
    {
     "data": {
      "text/html": [
       "<div>\n",
       "<style scoped>\n",
       "    .dataframe tbody tr th:only-of-type {\n",
       "        vertical-align: middle;\n",
       "    }\n",
       "\n",
       "    .dataframe tbody tr th {\n",
       "        vertical-align: top;\n",
       "    }\n",
       "\n",
       "    .dataframe thead th {\n",
       "        text-align: right;\n",
       "    }\n",
       "</style>\n",
       "<table border=\"1\" class=\"dataframe\">\n",
       "  <thead>\n",
       "    <tr style=\"text-align: right;\">\n",
       "      <th></th>\n",
       "      <th>winner</th>\n",
       "      <th>venue</th>\n",
       "      <th>team1</th>\n",
       "      <th>team2</th>\n",
       "      <th>toss_winner</th>\n",
       "    </tr>\n",
       "    <tr>\n",
       "      <th>player_of_match</th>\n",
       "      <th></th>\n",
       "      <th></th>\n",
       "      <th></th>\n",
       "      <th></th>\n",
       "      <th></th>\n",
       "    </tr>\n",
       "  </thead>\n",
       "  <tbody>\n",
       "    <tr>\n",
       "      <th>A Chandila</th>\n",
       "      <td>Rajasthan Royals</td>\n",
       "      <td>Sawai Mansingh Stadium</td>\n",
       "      <td>Rajasthan Royals</td>\n",
       "      <td>Pune Warriors</td>\n",
       "      <td>Rajasthan Royals</td>\n",
       "    </tr>\n",
       "    <tr>\n",
       "      <th>A Kumble</th>\n",
       "      <td>Royal Challengers BangaloreDeccan ChargersRoya...</td>\n",
       "      <td>MA Chidambaram Stadium, ChepaukNew Wanderers S...</td>\n",
       "      <td>Royal Challengers BangaloreDeccan ChargersDecc...</td>\n",
       "      <td>Chennai Super KingsRoyal Challengers Bangalore...</td>\n",
       "      <td>Royal Challengers BangaloreRoyal Challengers B...</td>\n",
       "    </tr>\n",
       "    <tr>\n",
       "      <th>A Mishra</th>\n",
       "      <td>Delhi DaredevilsDelhi DaredevilsDeccan Charger...</td>\n",
       "      <td>Feroz Shah KotlaNew Wanderers StadiumWankhede ...</td>\n",
       "      <td>Delhi DaredevilsKolkata Knight RidersDeccan Ch...</td>\n",
       "      <td>Deccan ChargersDelhi DaredevilsMumbai IndiansD...</td>\n",
       "      <td>Deccan ChargersDelhi DaredevilsDeccan Chargers...</td>\n",
       "    </tr>\n",
       "    <tr>\n",
       "      <th>A Nehra</th>\n",
       "      <td>Mumbai IndiansDelhi DaredevilsChennai Super Ki...</td>\n",
       "      <td>Dr DY Patil Sports AcademyBuffalo ParkMA Chida...</td>\n",
       "      <td>Rajasthan RoyalsMumbai IndiansChennai Super Ki...</td>\n",
       "      <td>Mumbai IndiansDelhi DaredevilsDelhi Daredevils...</td>\n",
       "      <td>Mumbai IndiansMumbai IndiansDelhi DaredevilsMu...</td>\n",
       "    </tr>\n",
       "    <tr>\n",
       "      <th>A Singh</th>\n",
       "      <td>Rajasthan Royals</td>\n",
       "      <td>SuperSport Park</td>\n",
       "      <td>Royal Challengers Bangalore</td>\n",
       "      <td>Rajasthan Royals</td>\n",
       "      <td>Rajasthan Royals</td>\n",
       "    </tr>\n",
       "    <tr>\n",
       "      <th>...</th>\n",
       "      <td>...</td>\n",
       "      <td>...</td>\n",
       "      <td>...</td>\n",
       "      <td>...</td>\n",
       "      <td>...</td>\n",
       "    </tr>\n",
       "    <tr>\n",
       "      <th>Washington Sundar</th>\n",
       "      <td>Rising Pune Supergiant</td>\n",
       "      <td>Wankhede Stadium</td>\n",
       "      <td>Rising Pune Supergiant</td>\n",
       "      <td>Mumbai Indians</td>\n",
       "      <td>Mumbai Indians</td>\n",
       "    </tr>\n",
       "    <tr>\n",
       "      <th>YK Pathan</th>\n",
       "      <td>Rajasthan RoyalsRajasthan RoyalsRajasthan Roya...</td>\n",
       "      <td>Rajiv Gandhi International Stadium, UppalSawai...</td>\n",
       "      <td>Deccan ChargersDeccan ChargersKolkata Knight R...</td>\n",
       "      <td>Rajasthan RoyalsRajasthan RoyalsRajasthan Roya...</td>\n",
       "      <td>Rajasthan RoyalsRajasthan RoyalsRajasthan Roya...</td>\n",
       "    </tr>\n",
       "    <tr>\n",
       "      <th>YS Chahal</th>\n",
       "      <td>Royal Challengers Bangalore</td>\n",
       "      <td>Sharjah Cricket Stadium</td>\n",
       "      <td>Delhi Daredevils</td>\n",
       "      <td>Royal Challengers Bangalore</td>\n",
       "      <td>Royal Challengers Bangalore</td>\n",
       "    </tr>\n",
       "    <tr>\n",
       "      <th>Yuvraj Singh</th>\n",
       "      <td>Sunrisers HyderabadRoyal Challengers Bangalore...</td>\n",
       "      <td>Rajiv Gandhi International Stadium, UppalKings...</td>\n",
       "      <td>Sunrisers HyderabadRoyal Challengers Bangalore...</td>\n",
       "      <td>Royal Challengers BangaloreKings XI PunjabDecc...</td>\n",
       "      <td>Royal Challengers BangaloreRoyal Challengers B...</td>\n",
       "    </tr>\n",
       "    <tr>\n",
       "      <th>Z Khan</th>\n",
       "      <td>Delhi Daredevils</td>\n",
       "      <td>Shaheed Veer Narayan Singh International Stadium</td>\n",
       "      <td>Chennai Super Kings</td>\n",
       "      <td>Delhi Daredevils</td>\n",
       "      <td>Chennai Super Kings</td>\n",
       "    </tr>\n",
       "  </tbody>\n",
       "</table>\n",
       "<p>214 rows × 5 columns</p>\n",
       "</div>"
      ],
      "text/plain": [
       "                                                              winner  \\\n",
       "player_of_match                                                        \n",
       "A Chandila                                          Rajasthan Royals   \n",
       "A Kumble           Royal Challengers BangaloreDeccan ChargersRoya...   \n",
       "A Mishra           Delhi DaredevilsDelhi DaredevilsDeccan Charger...   \n",
       "A Nehra            Mumbai IndiansDelhi DaredevilsChennai Super Ki...   \n",
       "A Singh                                             Rajasthan Royals   \n",
       "...                                                              ...   \n",
       "Washington Sundar                             Rising Pune Supergiant   \n",
       "YK Pathan          Rajasthan RoyalsRajasthan RoyalsRajasthan Roya...   \n",
       "YS Chahal                                Royal Challengers Bangalore   \n",
       "Yuvraj Singh       Sunrisers HyderabadRoyal Challengers Bangalore...   \n",
       "Z Khan                                              Delhi Daredevils   \n",
       "\n",
       "                                                               venue  \\\n",
       "player_of_match                                                        \n",
       "A Chandila                                    Sawai Mansingh Stadium   \n",
       "A Kumble           MA Chidambaram Stadium, ChepaukNew Wanderers S...   \n",
       "A Mishra           Feroz Shah KotlaNew Wanderers StadiumWankhede ...   \n",
       "A Nehra            Dr DY Patil Sports AcademyBuffalo ParkMA Chida...   \n",
       "A Singh                                              SuperSport Park   \n",
       "...                                                              ...   \n",
       "Washington Sundar                                   Wankhede Stadium   \n",
       "YK Pathan          Rajiv Gandhi International Stadium, UppalSawai...   \n",
       "YS Chahal                                    Sharjah Cricket Stadium   \n",
       "Yuvraj Singh       Rajiv Gandhi International Stadium, UppalKings...   \n",
       "Z Khan              Shaheed Veer Narayan Singh International Stadium   \n",
       "\n",
       "                                                               team1  \\\n",
       "player_of_match                                                        \n",
       "A Chandila                                          Rajasthan Royals   \n",
       "A Kumble           Royal Challengers BangaloreDeccan ChargersDecc...   \n",
       "A Mishra           Delhi DaredevilsKolkata Knight RidersDeccan Ch...   \n",
       "A Nehra            Rajasthan RoyalsMumbai IndiansChennai Super Ki...   \n",
       "A Singh                                  Royal Challengers Bangalore   \n",
       "...                                                              ...   \n",
       "Washington Sundar                             Rising Pune Supergiant   \n",
       "YK Pathan          Deccan ChargersDeccan ChargersKolkata Knight R...   \n",
       "YS Chahal                                           Delhi Daredevils   \n",
       "Yuvraj Singh       Sunrisers HyderabadRoyal Challengers Bangalore...   \n",
       "Z Khan                                           Chennai Super Kings   \n",
       "\n",
       "                                                               team2  \\\n",
       "player_of_match                                                        \n",
       "A Chandila                                             Pune Warriors   \n",
       "A Kumble           Chennai Super KingsRoyal Challengers Bangalore...   \n",
       "A Mishra           Deccan ChargersDelhi DaredevilsMumbai IndiansD...   \n",
       "A Nehra            Mumbai IndiansDelhi DaredevilsDelhi Daredevils...   \n",
       "A Singh                                             Rajasthan Royals   \n",
       "...                                                              ...   \n",
       "Washington Sundar                                     Mumbai Indians   \n",
       "YK Pathan          Rajasthan RoyalsRajasthan RoyalsRajasthan Roya...   \n",
       "YS Chahal                                Royal Challengers Bangalore   \n",
       "Yuvraj Singh       Royal Challengers BangaloreKings XI PunjabDecc...   \n",
       "Z Khan                                              Delhi Daredevils   \n",
       "\n",
       "                                                         toss_winner  \n",
       "player_of_match                                                       \n",
       "A Chandila                                          Rajasthan Royals  \n",
       "A Kumble           Royal Challengers BangaloreRoyal Challengers B...  \n",
       "A Mishra           Deccan ChargersDelhi DaredevilsDeccan Chargers...  \n",
       "A Nehra            Mumbai IndiansMumbai IndiansDelhi DaredevilsMu...  \n",
       "A Singh                                             Rajasthan Royals  \n",
       "...                                                              ...  \n",
       "Washington Sundar                                     Mumbai Indians  \n",
       "YK Pathan          Rajasthan RoyalsRajasthan RoyalsRajasthan Roya...  \n",
       "YS Chahal                                Royal Challengers Bangalore  \n",
       "Yuvraj Singh       Royal Challengers BangaloreRoyal Challengers B...  \n",
       "Z Khan                                           Chennai Super Kings  \n",
       "\n",
       "[214 rows x 5 columns]"
      ]
     },
     "execution_count": 22,
     "metadata": {},
     "output_type": "execute_result"
    }
   ],
   "source": [
    "df.groupby('player_of_match')[['winner','venue','team1','team2','toss_winner']].sum()  # This data shows you in which condition player performed well,and won MOM.."
   ]
  },
  {
   "cell_type": "code",
   "execution_count": 23,
   "metadata": {
    "scrolled": false
   },
   "outputs": [
    {
     "data": {
      "text/plain": [
       "0    677\n",
       "1     19\n",
       "Name: dl_applied, dtype: int64"
      ]
     },
     "execution_count": 23,
     "metadata": {},
     "output_type": "execute_result"
    }
   ],
   "source": [
    "df['dl_applied'].value_counts()"
   ]
  },
  {
   "cell_type": "code",
   "execution_count": 24,
   "metadata": {},
   "outputs": [
    {
     "data": {
      "text/plain": [
       "array(['Bangalore', 'Delhi', 'Kolkata', 'Cape Town', 'Durban',\n",
       "       'Centurion', 'Kochi', 'Visakhapatnam', 'Hyderabad', 'Jaipur'],\n",
       "      dtype=object)"
      ]
     },
     "execution_count": 24,
     "metadata": {},
     "output_type": "execute_result"
    }
   ],
   "source": [
    "df[df['dl_applied']==1]['city'].unique() # probebility off raining here to watch for...."
   ]
  },
  {
   "cell_type": "code",
   "execution_count": 25,
   "metadata": {},
   "outputs": [
    {
     "data": {
      "text/html": [
       "<div>\n",
       "<style scoped>\n",
       "    .dataframe tbody tr th:only-of-type {\n",
       "        vertical-align: middle;\n",
       "    }\n",
       "\n",
       "    .dataframe tbody tr th {\n",
       "        vertical-align: top;\n",
       "    }\n",
       "\n",
       "    .dataframe thead th {\n",
       "        text-align: right;\n",
       "    }\n",
       "</style>\n",
       "<table border=\"1\" class=\"dataframe\">\n",
       "  <thead>\n",
       "    <tr style=\"text-align: right;\">\n",
       "      <th></th>\n",
       "      <th>winner</th>\n",
       "      <th>win_by_runs</th>\n",
       "      <th>win_by_wickets</th>\n",
       "    </tr>\n",
       "  </thead>\n",
       "  <tbody>\n",
       "    <tr>\n",
       "      <th>33</th>\n",
       "      <td>Mumbai Indians</td>\n",
       "      <td>0</td>\n",
       "      <td>0</td>\n",
       "    </tr>\n",
       "    <tr>\n",
       "      <th>125</th>\n",
       "      <td>Rajasthan Royals</td>\n",
       "      <td>0</td>\n",
       "      <td>0</td>\n",
       "    </tr>\n",
       "    <tr>\n",
       "      <th>189</th>\n",
       "      <td>Kings XI Punjab</td>\n",
       "      <td>0</td>\n",
       "      <td>0</td>\n",
       "    </tr>\n",
       "    <tr>\n",
       "      <th>300</th>\n",
       "      <td>NaN</td>\n",
       "      <td>0</td>\n",
       "      <td>0</td>\n",
       "    </tr>\n",
       "    <tr>\n",
       "      <th>387</th>\n",
       "      <td>Sunrisers Hyderabad</td>\n",
       "      <td>0</td>\n",
       "      <td>0</td>\n",
       "    </tr>\n",
       "    <tr>\n",
       "      <th>...</th>\n",
       "      <td>...</td>\n",
       "      <td>...</td>\n",
       "      <td>...</td>\n",
       "    </tr>\n",
       "    <tr>\n",
       "      <th>410</th>\n",
       "      <td>Royal Challengers Bangalore</td>\n",
       "      <td>130</td>\n",
       "      <td>0</td>\n",
       "    </tr>\n",
       "    <tr>\n",
       "      <th>556</th>\n",
       "      <td>Royal Challengers Bangalore</td>\n",
       "      <td>138</td>\n",
       "      <td>0</td>\n",
       "    </tr>\n",
       "    <tr>\n",
       "      <th>59</th>\n",
       "      <td>Kolkata Knight Riders</td>\n",
       "      <td>140</td>\n",
       "      <td>0</td>\n",
       "    </tr>\n",
       "    <tr>\n",
       "      <th>619</th>\n",
       "      <td>Royal Challengers Bangalore</td>\n",
       "      <td>144</td>\n",
       "      <td>0</td>\n",
       "    </tr>\n",
       "    <tr>\n",
       "      <th>43</th>\n",
       "      <td>Mumbai Indians</td>\n",
       "      <td>146</td>\n",
       "      <td>0</td>\n",
       "    </tr>\n",
       "  </tbody>\n",
       "</table>\n",
       "<p>696 rows × 3 columns</p>\n",
       "</div>"
      ],
      "text/plain": [
       "                          winner  win_by_runs  win_by_wickets\n",
       "33                Mumbai Indians            0               0\n",
       "125             Rajasthan Royals            0               0\n",
       "189              Kings XI Punjab            0               0\n",
       "300                          NaN            0               0\n",
       "387          Sunrisers Hyderabad            0               0\n",
       "..                           ...          ...             ...\n",
       "410  Royal Challengers Bangalore          130               0\n",
       "556  Royal Challengers Bangalore          138               0\n",
       "59         Kolkata Knight Riders          140               0\n",
       "619  Royal Challengers Bangalore          144               0\n",
       "43                Mumbai Indians          146               0\n",
       "\n",
       "[696 rows x 3 columns]"
      ]
     },
     "execution_count": 25,
     "metadata": {},
     "output_type": "execute_result"
    }
   ],
   "source": [
    "df[['winner','win_by_runs','win_by_wickets']].sort_values(by=['win_by_runs','win_by_wickets'])"
   ]
  },
  {
   "cell_type": "code",
   "execution_count": 26,
   "metadata": {},
   "outputs": [
    {
     "data": {
      "text/plain": [
       "Royal Challengers Bangalore    3\n",
       "Mumbai Indians                 2\n",
       "Kings XI Punjab                1\n",
       "Kolkata Knight Riders          1\n",
       "Rajasthan Royals               1\n",
       "Name: winner, dtype: int64"
      ]
     },
     "execution_count": 26,
     "metadata": {},
     "output_type": "execute_result"
    }
   ],
   "source": [
    "df[df['win_by_runs']>100]['winner'].value_counts()  # RCB has the potential to make big scores and convert match one sided"
   ]
  },
  {
   "cell_type": "code",
   "execution_count": 27,
   "metadata": {},
   "outputs": [
    {
     "data": {
      "text/plain": [
       "Kolkata Knight Riders          25\n",
       "Royal Challengers Bangalore    23\n",
       "Delhi Daredevils               21\n",
       "Mumbai Indians                 19\n",
       "Chennai Super Kings            18\n",
       "Rajasthan Royals               18\n",
       "Kings XI Punjab                16\n",
       "Sunrisers Hyderabad            13\n",
       "Kochi Tuskers Kerala            4\n",
       "Deccan Chargers                 4\n",
       "Pune Warriors                   3\n",
       "Gujarat Lions                   3\n",
       "Rising Pune Supergiant          2\n",
       "Rising Pune Supergiants         2\n",
       "Name: winner, dtype: int64"
      ]
     },
     "execution_count": 27,
     "metadata": {},
     "output_type": "execute_result"
    }
   ],
   "source": [
    "df[df['win_by_wickets']>=7]['winner'].value_counts() # make comparison between this with total win of team.. "
   ]
  },
  {
   "cell_type": "code",
   "execution_count": 28,
   "metadata": {},
   "outputs": [],
   "source": [
    "# Make this function to find the winning ratio of Chennai Super Kings, For all teams you have to find 'total matches'...\n",
    "def Win_ratio(win,total):\n",
    "    return win/total*100"
   ]
  },
  {
   "cell_type": "code",
   "execution_count": 29,
   "metadata": {},
   "outputs": [],
   "source": [
    "umpire_info = pd.melt(df,value_vars=['umpire1','umpire2','umpire3'],var_name='Umpires')"
   ]
  },
  {
   "cell_type": "code",
   "execution_count": 30,
   "metadata": {},
   "outputs": [],
   "source": [
    "umpire_info.dropna(inplace=True)"
   ]
  },
  {
   "cell_type": "code",
   "execution_count": 31,
   "metadata": {},
   "outputs": [],
   "source": [
    "umpire_info.rename(columns={'Umpires':'U_ID','value':'U_name'},inplace=True)"
   ]
  },
  {
   "cell_type": "markdown",
   "metadata": {},
   "source": [
    "# TOP Umpires"
   ]
  },
  {
   "cell_type": "code",
   "execution_count": 32,
   "metadata": {},
   "outputs": [
    {
     "data": {
      "text/plain": [
       "S Ravi             101\n",
       "HDPK Dharmasena     87\n",
       "C Shamshuddin       71\n",
       "AK Chaudhary        58\n",
       "SJA Taufel          55\n",
       "M Erasmus           54\n",
       "Asad Rauf           51\n",
       "BR Doctrove         42\n",
       "CK Nandan           41\n",
       "RE Koertzen         41\n",
       "Name: U_name, dtype: int64"
      ]
     },
     "execution_count": 32,
     "metadata": {},
     "output_type": "execute_result"
    }
   ],
   "source": [
    "umpire_info['U_name'].value_counts().head(10)  # These are the top 10 most used 'Umpires' in world's most popular cricket(IPL) legue..."
   ]
  },
  {
   "cell_type": "code",
   "execution_count": 33,
   "metadata": {},
   "outputs": [
    {
     "data": {
      "text/html": [
       "<div>\n",
       "<style scoped>\n",
       "    .dataframe tbody tr th:only-of-type {\n",
       "        vertical-align: middle;\n",
       "    }\n",
       "\n",
       "    .dataframe tbody tr th {\n",
       "        vertical-align: top;\n",
       "    }\n",
       "\n",
       "    .dataframe thead th {\n",
       "        text-align: right;\n",
       "    }\n",
       "</style>\n",
       "<table border=\"1\" class=\"dataframe\">\n",
       "  <thead>\n",
       "    <tr style=\"text-align: right;\">\n",
       "      <th></th>\n",
       "      <th>season</th>\n",
       "      <th>city</th>\n",
       "      <th>date</th>\n",
       "      <th>team1</th>\n",
       "      <th>team2</th>\n",
       "      <th>toss_winner</th>\n",
       "      <th>toss_decision</th>\n",
       "      <th>result</th>\n",
       "      <th>dl_applied</th>\n",
       "      <th>winner</th>\n",
       "      <th>win_by_runs</th>\n",
       "      <th>win_by_wickets</th>\n",
       "      <th>player_of_match</th>\n",
       "      <th>venue</th>\n",
       "      <th>umpire1</th>\n",
       "      <th>umpire2</th>\n",
       "      <th>umpire3</th>\n",
       "    </tr>\n",
       "  </thead>\n",
       "  <tbody>\n",
       "    <tr>\n",
       "      <th>33</th>\n",
       "      <td>2017</td>\n",
       "      <td>Rajkot</td>\n",
       "      <td>2017-04-29</td>\n",
       "      <td>Gujarat Lions</td>\n",
       "      <td>Mumbai Indians</td>\n",
       "      <td>Gujarat Lions</td>\n",
       "      <td>bat</td>\n",
       "      <td>tie</td>\n",
       "      <td>0</td>\n",
       "      <td>Mumbai Indians</td>\n",
       "      <td>0</td>\n",
       "      <td>0</td>\n",
       "      <td>KH Pandya</td>\n",
       "      <td>Saurashtra Cricket Association Stadium</td>\n",
       "      <td>AK Chaudhary</td>\n",
       "      <td>CB Gaffaney</td>\n",
       "      <td>NaN</td>\n",
       "    </tr>\n",
       "    <tr>\n",
       "      <th>125</th>\n",
       "      <td>2009</td>\n",
       "      <td>Cape Town</td>\n",
       "      <td>2009-04-23</td>\n",
       "      <td>Rajasthan Royals</td>\n",
       "      <td>Kolkata Knight Riders</td>\n",
       "      <td>Kolkata Knight Riders</td>\n",
       "      <td>field</td>\n",
       "      <td>tie</td>\n",
       "      <td>0</td>\n",
       "      <td>Rajasthan Royals</td>\n",
       "      <td>0</td>\n",
       "      <td>0</td>\n",
       "      <td>YK Pathan</td>\n",
       "      <td>Newlands</td>\n",
       "      <td>MR Benson</td>\n",
       "      <td>M Erasmus</td>\n",
       "      <td>NaN</td>\n",
       "    </tr>\n",
       "    <tr>\n",
       "      <th>189</th>\n",
       "      <td>2010</td>\n",
       "      <td>Chennai</td>\n",
       "      <td>2010-03-21</td>\n",
       "      <td>Kings XI Punjab</td>\n",
       "      <td>Chennai Super Kings</td>\n",
       "      <td>Chennai Super Kings</td>\n",
       "      <td>field</td>\n",
       "      <td>tie</td>\n",
       "      <td>0</td>\n",
       "      <td>Kings XI Punjab</td>\n",
       "      <td>0</td>\n",
       "      <td>0</td>\n",
       "      <td>J Theron</td>\n",
       "      <td>MA Chidambaram Stadium, Chepauk</td>\n",
       "      <td>K Hariharan</td>\n",
       "      <td>DJ Harper</td>\n",
       "      <td>NaN</td>\n",
       "    </tr>\n",
       "    <tr>\n",
       "      <th>387</th>\n",
       "      <td>2013</td>\n",
       "      <td>Hyderabad</td>\n",
       "      <td>2013-04-07</td>\n",
       "      <td>Royal Challengers Bangalore</td>\n",
       "      <td>Sunrisers Hyderabad</td>\n",
       "      <td>Royal Challengers Bangalore</td>\n",
       "      <td>bat</td>\n",
       "      <td>tie</td>\n",
       "      <td>0</td>\n",
       "      <td>Sunrisers Hyderabad</td>\n",
       "      <td>0</td>\n",
       "      <td>0</td>\n",
       "      <td>GH Vihari</td>\n",
       "      <td>Rajiv Gandhi International Stadium, Uppal</td>\n",
       "      <td>AK Chaudhary</td>\n",
       "      <td>S Ravi</td>\n",
       "      <td>NaN</td>\n",
       "    </tr>\n",
       "    <tr>\n",
       "      <th>400</th>\n",
       "      <td>2013</td>\n",
       "      <td>Bangalore</td>\n",
       "      <td>2013-04-16</td>\n",
       "      <td>Delhi Daredevils</td>\n",
       "      <td>Royal Challengers Bangalore</td>\n",
       "      <td>Royal Challengers Bangalore</td>\n",
       "      <td>field</td>\n",
       "      <td>tie</td>\n",
       "      <td>0</td>\n",
       "      <td>Royal Challengers Bangalore</td>\n",
       "      <td>0</td>\n",
       "      <td>0</td>\n",
       "      <td>V Kohli</td>\n",
       "      <td>M Chinnaswamy Stadium</td>\n",
       "      <td>M Erasmus</td>\n",
       "      <td>VA Kulkarni</td>\n",
       "      <td>NaN</td>\n",
       "    </tr>\n",
       "    <tr>\n",
       "      <th>475</th>\n",
       "      <td>2014</td>\n",
       "      <td>Abu Dhabi</td>\n",
       "      <td>2014-04-29</td>\n",
       "      <td>Rajasthan Royals</td>\n",
       "      <td>Kolkata Knight Riders</td>\n",
       "      <td>Rajasthan Royals</td>\n",
       "      <td>bat</td>\n",
       "      <td>tie</td>\n",
       "      <td>0</td>\n",
       "      <td>Rajasthan Royals</td>\n",
       "      <td>0</td>\n",
       "      <td>0</td>\n",
       "      <td>JP Faulkner</td>\n",
       "      <td>Sheikh Zayed Stadium</td>\n",
       "      <td>Aleem Dar</td>\n",
       "      <td>AK Chaudhary</td>\n",
       "      <td>NaN</td>\n",
       "    </tr>\n",
       "    <tr>\n",
       "      <th>535</th>\n",
       "      <td>2015</td>\n",
       "      <td>Ahmedabad</td>\n",
       "      <td>2015-04-21</td>\n",
       "      <td>Rajasthan Royals</td>\n",
       "      <td>Kings XI Punjab</td>\n",
       "      <td>Kings XI Punjab</td>\n",
       "      <td>field</td>\n",
       "      <td>tie</td>\n",
       "      <td>0</td>\n",
       "      <td>Kings XI Punjab</td>\n",
       "      <td>0</td>\n",
       "      <td>0</td>\n",
       "      <td>SE Marsh</td>\n",
       "      <td>Sardar Patel Stadium, Motera</td>\n",
       "      <td>M Erasmus</td>\n",
       "      <td>S Ravi</td>\n",
       "      <td>NaN</td>\n",
       "    </tr>\n",
       "  </tbody>\n",
       "</table>\n",
       "</div>"
      ],
      "text/plain": [
       "     season       city        date                        team1  \\\n",
       "33     2017     Rajkot  2017-04-29                Gujarat Lions   \n",
       "125    2009  Cape Town  2009-04-23             Rajasthan Royals   \n",
       "189    2010    Chennai  2010-03-21              Kings XI Punjab   \n",
       "387    2013  Hyderabad  2013-04-07  Royal Challengers Bangalore   \n",
       "400    2013  Bangalore  2013-04-16             Delhi Daredevils   \n",
       "475    2014  Abu Dhabi  2014-04-29             Rajasthan Royals   \n",
       "535    2015  Ahmedabad  2015-04-21             Rajasthan Royals   \n",
       "\n",
       "                           team2                  toss_winner toss_decision  \\\n",
       "33                Mumbai Indians                Gujarat Lions           bat   \n",
       "125        Kolkata Knight Riders        Kolkata Knight Riders         field   \n",
       "189          Chennai Super Kings          Chennai Super Kings         field   \n",
       "387          Sunrisers Hyderabad  Royal Challengers Bangalore           bat   \n",
       "400  Royal Challengers Bangalore  Royal Challengers Bangalore         field   \n",
       "475        Kolkata Knight Riders             Rajasthan Royals           bat   \n",
       "535              Kings XI Punjab              Kings XI Punjab         field   \n",
       "\n",
       "    result  dl_applied                       winner  win_by_runs  \\\n",
       "33     tie           0               Mumbai Indians            0   \n",
       "125    tie           0             Rajasthan Royals            0   \n",
       "189    tie           0              Kings XI Punjab            0   \n",
       "387    tie           0          Sunrisers Hyderabad            0   \n",
       "400    tie           0  Royal Challengers Bangalore            0   \n",
       "475    tie           0             Rajasthan Royals            0   \n",
       "535    tie           0              Kings XI Punjab            0   \n",
       "\n",
       "     win_by_wickets player_of_match  \\\n",
       "33                0       KH Pandya   \n",
       "125               0       YK Pathan   \n",
       "189               0        J Theron   \n",
       "387               0       GH Vihari   \n",
       "400               0         V Kohli   \n",
       "475               0     JP Faulkner   \n",
       "535               0        SE Marsh   \n",
       "\n",
       "                                         venue       umpire1       umpire2  \\\n",
       "33      Saurashtra Cricket Association Stadium  AK Chaudhary   CB Gaffaney   \n",
       "125                                   Newlands     MR Benson     M Erasmus   \n",
       "189            MA Chidambaram Stadium, Chepauk   K Hariharan     DJ Harper   \n",
       "387  Rajiv Gandhi International Stadium, Uppal  AK Chaudhary        S Ravi   \n",
       "400                      M Chinnaswamy Stadium     M Erasmus   VA Kulkarni   \n",
       "475                       Sheikh Zayed Stadium     Aleem Dar  AK Chaudhary   \n",
       "535               Sardar Patel Stadium, Motera     M Erasmus        S Ravi   \n",
       "\n",
       "    umpire3  \n",
       "33      NaN  \n",
       "125     NaN  \n",
       "189     NaN  \n",
       "387     NaN  \n",
       "400     NaN  \n",
       "475     NaN  \n",
       "535     NaN  "
      ]
     },
     "execution_count": 33,
     "metadata": {},
     "output_type": "execute_result"
    }
   ],
   "source": [
    "df[df['result']=='tie']  # these are the closest encountered matches, you should watch..."
   ]
  },
  {
   "cell_type": "code",
   "execution_count": 34,
   "metadata": {},
   "outputs": [
    {
     "data": {
      "text/html": [
       "<div>\n",
       "<style scoped>\n",
       "    .dataframe tbody tr th:only-of-type {\n",
       "        vertical-align: middle;\n",
       "    }\n",
       "\n",
       "    .dataframe tbody tr th {\n",
       "        vertical-align: top;\n",
       "    }\n",
       "\n",
       "    .dataframe thead th {\n",
       "        text-align: right;\n",
       "    }\n",
       "</style>\n",
       "<table border=\"1\" class=\"dataframe\">\n",
       "  <thead>\n",
       "    <tr style=\"text-align: right;\">\n",
       "      <th></th>\n",
       "      <th>season</th>\n",
       "      <th>city</th>\n",
       "      <th>date</th>\n",
       "      <th>team1</th>\n",
       "      <th>team2</th>\n",
       "      <th>toss_winner</th>\n",
       "      <th>toss_decision</th>\n",
       "      <th>result</th>\n",
       "      <th>dl_applied</th>\n",
       "      <th>winner</th>\n",
       "      <th>win_by_runs</th>\n",
       "      <th>win_by_wickets</th>\n",
       "      <th>player_of_match</th>\n",
       "      <th>venue</th>\n",
       "      <th>umpire1</th>\n",
       "      <th>umpire2</th>\n",
       "      <th>umpire3</th>\n",
       "    </tr>\n",
       "  </thead>\n",
       "  <tbody>\n",
       "    <tr>\n",
       "      <th>117</th>\n",
       "      <td>2009</td>\n",
       "      <td>Cape Town</td>\n",
       "      <td>2009-04-18</td>\n",
       "      <td>Mumbai Indians</td>\n",
       "      <td>Chennai Super Kings</td>\n",
       "      <td>Chennai Super Kings</td>\n",
       "      <td>field</td>\n",
       "      <td>normal</td>\n",
       "      <td>0</td>\n",
       "      <td>Mumbai Indians</td>\n",
       "      <td>19</td>\n",
       "      <td>0</td>\n",
       "      <td>SR Tendulkar</td>\n",
       "      <td>Newlands</td>\n",
       "      <td>BR Doctrove</td>\n",
       "      <td>K Hariharan</td>\n",
       "      <td>NaN</td>\n",
       "    </tr>\n",
       "    <tr>\n",
       "      <th>118</th>\n",
       "      <td>2009</td>\n",
       "      <td>Cape Town</td>\n",
       "      <td>2009-04-18</td>\n",
       "      <td>Royal Challengers Bangalore</td>\n",
       "      <td>Rajasthan Royals</td>\n",
       "      <td>Royal Challengers Bangalore</td>\n",
       "      <td>bat</td>\n",
       "      <td>normal</td>\n",
       "      <td>0</td>\n",
       "      <td>Royal Challengers Bangalore</td>\n",
       "      <td>75</td>\n",
       "      <td>0</td>\n",
       "      <td>R Dravid</td>\n",
       "      <td>Newlands</td>\n",
       "      <td>BR Doctrove</td>\n",
       "      <td>RB Tiffin</td>\n",
       "      <td>NaN</td>\n",
       "    </tr>\n",
       "    <tr>\n",
       "      <th>119</th>\n",
       "      <td>2009</td>\n",
       "      <td>Cape Town</td>\n",
       "      <td>2009-04-19</td>\n",
       "      <td>Kings XI Punjab</td>\n",
       "      <td>Delhi Daredevils</td>\n",
       "      <td>Delhi Daredevils</td>\n",
       "      <td>field</td>\n",
       "      <td>normal</td>\n",
       "      <td>1</td>\n",
       "      <td>Delhi Daredevils</td>\n",
       "      <td>0</td>\n",
       "      <td>10</td>\n",
       "      <td>DL Vettori</td>\n",
       "      <td>Newlands</td>\n",
       "      <td>MR Benson</td>\n",
       "      <td>SD Ranade</td>\n",
       "      <td>NaN</td>\n",
       "    </tr>\n",
       "    <tr>\n",
       "      <th>120</th>\n",
       "      <td>2009</td>\n",
       "      <td>Cape Town</td>\n",
       "      <td>2009-04-19</td>\n",
       "      <td>Kolkata Knight Riders</td>\n",
       "      <td>Deccan Chargers</td>\n",
       "      <td>Kolkata Knight Riders</td>\n",
       "      <td>bat</td>\n",
       "      <td>normal</td>\n",
       "      <td>0</td>\n",
       "      <td>Deccan Chargers</td>\n",
       "      <td>0</td>\n",
       "      <td>8</td>\n",
       "      <td>RP Singh</td>\n",
       "      <td>Newlands</td>\n",
       "      <td>MR Benson</td>\n",
       "      <td>BR Doctrove</td>\n",
       "      <td>NaN</td>\n",
       "    </tr>\n",
       "    <tr>\n",
       "      <th>121</th>\n",
       "      <td>2009</td>\n",
       "      <td>Port Elizabeth</td>\n",
       "      <td>2009-04-20</td>\n",
       "      <td>Chennai Super Kings</td>\n",
       "      <td>Royal Challengers Bangalore</td>\n",
       "      <td>Chennai Super Kings</td>\n",
       "      <td>bat</td>\n",
       "      <td>normal</td>\n",
       "      <td>0</td>\n",
       "      <td>Chennai Super Kings</td>\n",
       "      <td>92</td>\n",
       "      <td>0</td>\n",
       "      <td>M Muralitharan</td>\n",
       "      <td>St George's Park</td>\n",
       "      <td>BG Jerling</td>\n",
       "      <td>SJA Taufel</td>\n",
       "      <td>NaN</td>\n",
       "    </tr>\n",
       "    <tr>\n",
       "      <th>...</th>\n",
       "      <td>...</td>\n",
       "      <td>...</td>\n",
       "      <td>...</td>\n",
       "      <td>...</td>\n",
       "      <td>...</td>\n",
       "      <td>...</td>\n",
       "      <td>...</td>\n",
       "      <td>...</td>\n",
       "      <td>...</td>\n",
       "      <td>...</td>\n",
       "      <td>...</td>\n",
       "      <td>...</td>\n",
       "      <td>...</td>\n",
       "      <td>...</td>\n",
       "      <td>...</td>\n",
       "      <td>...</td>\n",
       "      <td>...</td>\n",
       "    </tr>\n",
       "    <tr>\n",
       "      <th>512</th>\n",
       "      <td>2014</td>\n",
       "      <td>Mumbai</td>\n",
       "      <td>2014-05-25</td>\n",
       "      <td>Rajasthan Royals</td>\n",
       "      <td>Mumbai Indians</td>\n",
       "      <td>Mumbai Indians</td>\n",
       "      <td>field</td>\n",
       "      <td>normal</td>\n",
       "      <td>0</td>\n",
       "      <td>Mumbai Indians</td>\n",
       "      <td>0</td>\n",
       "      <td>5</td>\n",
       "      <td>CJ Anderson</td>\n",
       "      <td>Wankhede Stadium</td>\n",
       "      <td>K Srinath</td>\n",
       "      <td>RJ Tucker</td>\n",
       "      <td>NaN</td>\n",
       "    </tr>\n",
       "    <tr>\n",
       "      <th>513</th>\n",
       "      <td>2014</td>\n",
       "      <td>Kolkata</td>\n",
       "      <td>2014-05-27</td>\n",
       "      <td>Kolkata Knight Riders</td>\n",
       "      <td>Kings XI Punjab</td>\n",
       "      <td>Kings XI Punjab</td>\n",
       "      <td>field</td>\n",
       "      <td>normal</td>\n",
       "      <td>0</td>\n",
       "      <td>Kolkata Knight Riders</td>\n",
       "      <td>28</td>\n",
       "      <td>0</td>\n",
       "      <td>UT Yadav</td>\n",
       "      <td>Eden Gardens</td>\n",
       "      <td>NJ Llong</td>\n",
       "      <td>S Ravi</td>\n",
       "      <td>NaN</td>\n",
       "    </tr>\n",
       "    <tr>\n",
       "      <th>514</th>\n",
       "      <td>2014</td>\n",
       "      <td>Mumbai</td>\n",
       "      <td>2014-05-28</td>\n",
       "      <td>Mumbai Indians</td>\n",
       "      <td>Chennai Super Kings</td>\n",
       "      <td>Chennai Super Kings</td>\n",
       "      <td>field</td>\n",
       "      <td>normal</td>\n",
       "      <td>0</td>\n",
       "      <td>Chennai Super Kings</td>\n",
       "      <td>0</td>\n",
       "      <td>7</td>\n",
       "      <td>SK Raina</td>\n",
       "      <td>Brabourne Stadium</td>\n",
       "      <td>VA Kulkarni</td>\n",
       "      <td>BNJ Oxenford</td>\n",
       "      <td>NaN</td>\n",
       "    </tr>\n",
       "    <tr>\n",
       "      <th>515</th>\n",
       "      <td>2014</td>\n",
       "      <td>Mumbai</td>\n",
       "      <td>2014-05-30</td>\n",
       "      <td>Kings XI Punjab</td>\n",
       "      <td>Chennai Super Kings</td>\n",
       "      <td>Chennai Super Kings</td>\n",
       "      <td>field</td>\n",
       "      <td>normal</td>\n",
       "      <td>0</td>\n",
       "      <td>Kings XI Punjab</td>\n",
       "      <td>24</td>\n",
       "      <td>0</td>\n",
       "      <td>V Sehwag</td>\n",
       "      <td>Wankhede Stadium</td>\n",
       "      <td>HDPK Dharmasena</td>\n",
       "      <td>RJ Tucker</td>\n",
       "      <td>NaN</td>\n",
       "    </tr>\n",
       "    <tr>\n",
       "      <th>516</th>\n",
       "      <td>2014</td>\n",
       "      <td>Bangalore</td>\n",
       "      <td>2014-06-01</td>\n",
       "      <td>Kings XI Punjab</td>\n",
       "      <td>Kolkata Knight Riders</td>\n",
       "      <td>Kolkata Knight Riders</td>\n",
       "      <td>field</td>\n",
       "      <td>normal</td>\n",
       "      <td>0</td>\n",
       "      <td>Kolkata Knight Riders</td>\n",
       "      <td>0</td>\n",
       "      <td>3</td>\n",
       "      <td>MK Pandey</td>\n",
       "      <td>M Chinnaswamy Stadium</td>\n",
       "      <td>HDPK Dharmasena</td>\n",
       "      <td>BNJ Oxenford</td>\n",
       "      <td>NaN</td>\n",
       "    </tr>\n",
       "  </tbody>\n",
       "</table>\n",
       "<p>117 rows × 17 columns</p>\n",
       "</div>"
      ],
      "text/plain": [
       "     season            city        date                        team1  \\\n",
       "117    2009       Cape Town  2009-04-18               Mumbai Indians   \n",
       "118    2009       Cape Town  2009-04-18  Royal Challengers Bangalore   \n",
       "119    2009       Cape Town  2009-04-19              Kings XI Punjab   \n",
       "120    2009       Cape Town  2009-04-19        Kolkata Knight Riders   \n",
       "121    2009  Port Elizabeth  2009-04-20          Chennai Super Kings   \n",
       "..      ...             ...         ...                          ...   \n",
       "512    2014          Mumbai  2014-05-25             Rajasthan Royals   \n",
       "513    2014         Kolkata  2014-05-27        Kolkata Knight Riders   \n",
       "514    2014          Mumbai  2014-05-28               Mumbai Indians   \n",
       "515    2014          Mumbai  2014-05-30              Kings XI Punjab   \n",
       "516    2014       Bangalore  2014-06-01              Kings XI Punjab   \n",
       "\n",
       "                           team2                  toss_winner toss_decision  \\\n",
       "117          Chennai Super Kings          Chennai Super Kings         field   \n",
       "118             Rajasthan Royals  Royal Challengers Bangalore           bat   \n",
       "119             Delhi Daredevils             Delhi Daredevils         field   \n",
       "120              Deccan Chargers        Kolkata Knight Riders           bat   \n",
       "121  Royal Challengers Bangalore          Chennai Super Kings           bat   \n",
       "..                           ...                          ...           ...   \n",
       "512               Mumbai Indians               Mumbai Indians         field   \n",
       "513              Kings XI Punjab              Kings XI Punjab         field   \n",
       "514          Chennai Super Kings          Chennai Super Kings         field   \n",
       "515          Chennai Super Kings          Chennai Super Kings         field   \n",
       "516        Kolkata Knight Riders        Kolkata Knight Riders         field   \n",
       "\n",
       "     result  dl_applied                       winner  win_by_runs  \\\n",
       "117  normal           0               Mumbai Indians           19   \n",
       "118  normal           0  Royal Challengers Bangalore           75   \n",
       "119  normal           1             Delhi Daredevils            0   \n",
       "120  normal           0              Deccan Chargers            0   \n",
       "121  normal           0          Chennai Super Kings           92   \n",
       "..      ...         ...                          ...          ...   \n",
       "512  normal           0               Mumbai Indians            0   \n",
       "513  normal           0        Kolkata Knight Riders           28   \n",
       "514  normal           0          Chennai Super Kings            0   \n",
       "515  normal           0              Kings XI Punjab           24   \n",
       "516  normal           0        Kolkata Knight Riders            0   \n",
       "\n",
       "     win_by_wickets player_of_match                  venue          umpire1  \\\n",
       "117               0    SR Tendulkar               Newlands      BR Doctrove   \n",
       "118               0        R Dravid               Newlands      BR Doctrove   \n",
       "119              10      DL Vettori               Newlands        MR Benson   \n",
       "120               8        RP Singh               Newlands        MR Benson   \n",
       "121               0  M Muralitharan       St George's Park       BG Jerling   \n",
       "..              ...             ...                    ...              ...   \n",
       "512               5     CJ Anderson       Wankhede Stadium        K Srinath   \n",
       "513               0        UT Yadav           Eden Gardens         NJ Llong   \n",
       "514               7        SK Raina      Brabourne Stadium      VA Kulkarni   \n",
       "515               0        V Sehwag       Wankhede Stadium  HDPK Dharmasena   \n",
       "516               3       MK Pandey  M Chinnaswamy Stadium  HDPK Dharmasena   \n",
       "\n",
       "          umpire2 umpire3  \n",
       "117   K Hariharan     NaN  \n",
       "118     RB Tiffin     NaN  \n",
       "119     SD Ranade     NaN  \n",
       "120   BR Doctrove     NaN  \n",
       "121    SJA Taufel     NaN  \n",
       "..            ...     ...  \n",
       "512     RJ Tucker     NaN  \n",
       "513        S Ravi     NaN  \n",
       "514  BNJ Oxenford     NaN  \n",
       "515     RJ Tucker     NaN  \n",
       "516  BNJ Oxenford     NaN  \n",
       "\n",
       "[117 rows x 17 columns]"
      ]
     },
     "execution_count": 34,
     "metadata": {},
     "output_type": "execute_result"
    }
   ],
   "source": [
    "df.query('season==[2009,2014]') # As You can see in 2009 the tournament was held out of india(South Africa)..."
   ]
  },
  {
   "cell_type": "code",
   "execution_count": 35,
   "metadata": {},
   "outputs": [],
   "source": [
    "# Here 'duplicates' is used to manage duplicate data in our dataset.....By doing this we can know the winner of each year's IPL finals..Because we \"keep\" Last data so....."
   ]
  },
  {
   "cell_type": "code",
   "execution_count": 36,
   "metadata": {},
   "outputs": [],
   "source": [
    "Trophy = df.drop_duplicates(subset=['season'],keep='last')[['season','winner','venue']].sort_values(by='season').reset_index(drop=True)"
   ]
  },
  {
   "cell_type": "code",
   "execution_count": 37,
   "metadata": {},
   "outputs": [
    {
     "name": "stdout",
     "output_type": "stream",
     "text": [
      "IPl Season Winner Each Year:\n"
     ]
    },
    {
     "data": {
      "text/plain": [
       "Chennai Super Kings      3\n",
       "Mumbai Indians           3\n",
       "Kolkata Knight Riders    2\n",
       "Rajasthan Royals         1\n",
       "Sunrisers Hyderabad      1\n",
       "Deccan Chargers          1\n",
       "Name: winner, dtype: int64"
      ]
     },
     "execution_count": 37,
     "metadata": {},
     "output_type": "execute_result"
    }
   ],
   "source": [
    "print('IPl Season Winner Each Year:')\n",
    "Trophy['winner'].value_counts()  # MI And CSK are the way too ahead then many teams...most trophies are in their hand..Only 6/14 teams were able to win trophies till now..."
   ]
  },
  {
   "cell_type": "code",
   "execution_count": 38,
   "metadata": {},
   "outputs": [],
   "source": [
    "stadium = Trophy['venue'].value_counts() # Names of stadium where finals held..."
   ]
  },
  {
   "cell_type": "markdown",
   "metadata": {},
   "source": [
    "# Let's Visualize This"
   ]
  },
  {
   "cell_type": "code",
   "execution_count": 39,
   "metadata": {},
   "outputs": [
    {
     "data": {
      "text/html": [
       "<div>\n",
       "<style scoped>\n",
       "    .dataframe tbody tr th:only-of-type {\n",
       "        vertical-align: middle;\n",
       "    }\n",
       "\n",
       "    .dataframe tbody tr th {\n",
       "        vertical-align: top;\n",
       "    }\n",
       "\n",
       "    .dataframe thead th {\n",
       "        text-align: right;\n",
       "    }\n",
       "</style>\n",
       "<table border=\"1\" class=\"dataframe\">\n",
       "  <thead>\n",
       "    <tr style=\"text-align: right;\">\n",
       "      <th></th>\n",
       "      <th>season</th>\n",
       "      <th>city</th>\n",
       "      <th>date</th>\n",
       "      <th>team1</th>\n",
       "      <th>team2</th>\n",
       "      <th>toss_winner</th>\n",
       "      <th>toss_decision</th>\n",
       "      <th>result</th>\n",
       "      <th>dl_applied</th>\n",
       "      <th>winner</th>\n",
       "      <th>win_by_runs</th>\n",
       "      <th>win_by_wickets</th>\n",
       "      <th>player_of_match</th>\n",
       "      <th>venue</th>\n",
       "      <th>umpire1</th>\n",
       "      <th>umpire2</th>\n",
       "      <th>umpire3</th>\n",
       "    </tr>\n",
       "  </thead>\n",
       "  <tbody>\n",
       "    <tr>\n",
       "      <th>0</th>\n",
       "      <td>2017</td>\n",
       "      <td>Hyderabad</td>\n",
       "      <td>2017-04-05</td>\n",
       "      <td>Sunrisers Hyderabad</td>\n",
       "      <td>Royal Challengers Bangalore</td>\n",
       "      <td>Royal Challengers Bangalore</td>\n",
       "      <td>field</td>\n",
       "      <td>normal</td>\n",
       "      <td>0</td>\n",
       "      <td>Sunrisers Hyderabad</td>\n",
       "      <td>35</td>\n",
       "      <td>0</td>\n",
       "      <td>Yuvraj Singh</td>\n",
       "      <td>Rajiv Gandhi International Stadium, Uppal</td>\n",
       "      <td>AY Dandekar</td>\n",
       "      <td>NJ Llong</td>\n",
       "      <td>NaN</td>\n",
       "    </tr>\n",
       "    <tr>\n",
       "      <th>1</th>\n",
       "      <td>2017</td>\n",
       "      <td>Pune</td>\n",
       "      <td>2017-04-06</td>\n",
       "      <td>Mumbai Indians</td>\n",
       "      <td>Rising Pune Supergiant</td>\n",
       "      <td>Rising Pune Supergiant</td>\n",
       "      <td>field</td>\n",
       "      <td>normal</td>\n",
       "      <td>0</td>\n",
       "      <td>Rising Pune Supergiant</td>\n",
       "      <td>0</td>\n",
       "      <td>7</td>\n",
       "      <td>SPD Smith</td>\n",
       "      <td>Maharashtra Cricket Association Stadium</td>\n",
       "      <td>A Nand Kishore</td>\n",
       "      <td>S Ravi</td>\n",
       "      <td>NaN</td>\n",
       "    </tr>\n",
       "    <tr>\n",
       "      <th>2</th>\n",
       "      <td>2017</td>\n",
       "      <td>Rajkot</td>\n",
       "      <td>2017-04-07</td>\n",
       "      <td>Gujarat Lions</td>\n",
       "      <td>Kolkata Knight Riders</td>\n",
       "      <td>Kolkata Knight Riders</td>\n",
       "      <td>field</td>\n",
       "      <td>normal</td>\n",
       "      <td>0</td>\n",
       "      <td>Kolkata Knight Riders</td>\n",
       "      <td>0</td>\n",
       "      <td>10</td>\n",
       "      <td>CA Lynn</td>\n",
       "      <td>Saurashtra Cricket Association Stadium</td>\n",
       "      <td>Nitin Menon</td>\n",
       "      <td>CK Nandan</td>\n",
       "      <td>NaN</td>\n",
       "    </tr>\n",
       "    <tr>\n",
       "      <th>3</th>\n",
       "      <td>2017</td>\n",
       "      <td>Indore</td>\n",
       "      <td>2017-04-08</td>\n",
       "      <td>Rising Pune Supergiant</td>\n",
       "      <td>Kings XI Punjab</td>\n",
       "      <td>Kings XI Punjab</td>\n",
       "      <td>field</td>\n",
       "      <td>normal</td>\n",
       "      <td>0</td>\n",
       "      <td>Kings XI Punjab</td>\n",
       "      <td>0</td>\n",
       "      <td>6</td>\n",
       "      <td>GJ Maxwell</td>\n",
       "      <td>Holkar Cricket Stadium</td>\n",
       "      <td>AK Chaudhary</td>\n",
       "      <td>C Shamshuddin</td>\n",
       "      <td>NaN</td>\n",
       "    </tr>\n",
       "    <tr>\n",
       "      <th>4</th>\n",
       "      <td>2017</td>\n",
       "      <td>Bangalore</td>\n",
       "      <td>2017-04-08</td>\n",
       "      <td>Royal Challengers Bangalore</td>\n",
       "      <td>Delhi Daredevils</td>\n",
       "      <td>Royal Challengers Bangalore</td>\n",
       "      <td>bat</td>\n",
       "      <td>normal</td>\n",
       "      <td>0</td>\n",
       "      <td>Royal Challengers Bangalore</td>\n",
       "      <td>15</td>\n",
       "      <td>0</td>\n",
       "      <td>KM Jadhav</td>\n",
       "      <td>M Chinnaswamy Stadium</td>\n",
       "      <td>NaN</td>\n",
       "      <td>NaN</td>\n",
       "      <td>NaN</td>\n",
       "    </tr>\n",
       "  </tbody>\n",
       "</table>\n",
       "</div>"
      ],
      "text/plain": [
       "   season       city        date                        team1  \\\n",
       "0    2017  Hyderabad  2017-04-05          Sunrisers Hyderabad   \n",
       "1    2017       Pune  2017-04-06               Mumbai Indians   \n",
       "2    2017     Rajkot  2017-04-07                Gujarat Lions   \n",
       "3    2017     Indore  2017-04-08       Rising Pune Supergiant   \n",
       "4    2017  Bangalore  2017-04-08  Royal Challengers Bangalore   \n",
       "\n",
       "                         team2                  toss_winner toss_decision  \\\n",
       "0  Royal Challengers Bangalore  Royal Challengers Bangalore         field   \n",
       "1       Rising Pune Supergiant       Rising Pune Supergiant         field   \n",
       "2        Kolkata Knight Riders        Kolkata Knight Riders         field   \n",
       "3              Kings XI Punjab              Kings XI Punjab         field   \n",
       "4             Delhi Daredevils  Royal Challengers Bangalore           bat   \n",
       "\n",
       "   result  dl_applied                       winner  win_by_runs  \\\n",
       "0  normal           0          Sunrisers Hyderabad           35   \n",
       "1  normal           0       Rising Pune Supergiant            0   \n",
       "2  normal           0        Kolkata Knight Riders            0   \n",
       "3  normal           0              Kings XI Punjab            0   \n",
       "4  normal           0  Royal Challengers Bangalore           15   \n",
       "\n",
       "   win_by_wickets player_of_match                                      venue  \\\n",
       "0               0    Yuvraj Singh  Rajiv Gandhi International Stadium, Uppal   \n",
       "1               7       SPD Smith    Maharashtra Cricket Association Stadium   \n",
       "2              10         CA Lynn     Saurashtra Cricket Association Stadium   \n",
       "3               6      GJ Maxwell                     Holkar Cricket Stadium   \n",
       "4               0       KM Jadhav                      M Chinnaswamy Stadium   \n",
       "\n",
       "          umpire1        umpire2 umpire3  \n",
       "0     AY Dandekar       NJ Llong     NaN  \n",
       "1  A Nand Kishore         S Ravi     NaN  \n",
       "2     Nitin Menon      CK Nandan     NaN  \n",
       "3    AK Chaudhary  C Shamshuddin     NaN  \n",
       "4             NaN            NaN     NaN  "
      ]
     },
     "execution_count": 39,
     "metadata": {},
     "output_type": "execute_result"
    }
   ],
   "source": [
    "df.head()"
   ]
  },
  {
   "cell_type": "code",
   "execution_count": 40,
   "metadata": {},
   "outputs": [
    {
     "data": {
      "text/plain": [
       "<matplotlib.axes._subplots.AxesSubplot at 0x249d32f0908>"
      ]
     },
     "execution_count": 40,
     "metadata": {},
     "output_type": "execute_result"
    },
    {
     "data": {
      "image/png": "[encoded data removed]",
      "text/plain": [
       "<Figure size 432x288 with 1 Axes>"
      ]
     },
     "metadata": {},
     "output_type": "display_data"
    }
   ],
   "source": [
    "sns.set_style('darkgrid')\n",
    "sns.countplot(x='season',data=df,palette='viridis') # as we can see 2011-13 are the years having most matches played...almost more han 70..."
   ]
  },
  {
   "cell_type": "code",
   "execution_count": 107,
   "metadata": {},
   "outputs": [
    {
     "data": {
      "application/vnd.plotly.v1+json": {
       "config": {
        "linkText": "Export to plot.ly",
        "plotlyServerURL": "https://plot.ly",
        "showLink": true
       },
       "data": [
        {
         "histfunc": "count",
         "histnorm": "",
         "marker": {
          "color": "rgba(128, 0, 128, 1.0)",
          "line": {
           "color": "#4D5663",
           "width": 1.3
          }
         },
         "name": "season",
         "nbinsx": 30,
         "opacity": 0.8,
         "orientation": "v",
         "type": "histogram",
         "x": [
          2017,
          2017,
          2017,
          2017,
          2017,
          2017,
          2017,
          2017,
          2017,
          2017,
          2017,
          2017,
          2017,
          2017,
          2017,
          2017,
          2017,
          2017,
          2017,
          2017,
          2017,
          2017,
          2017,
          2017,
          2017,
          2017,
          2017,
          2017,
          2017,
          2017,
          2017,
          2017,
          2017,
          2017,
          2017,
          2017,
          2017,
          2017,
          2017,
          2017,
          2017,
          2017,
          2017,
          2017,
          2017,
          2017,
          2017,
          2017,
          2017,
          2017,
          2017,
          2017,
          2017,
          2017,
          2017,
          2017,
          2017,
          2017,
          2017,
          2008,
          2008,
          2008,
          2008,
          2008,
          2008,
          2008,
          2008,
          2008,
          2008,
          2008,
          2008,
          2008,
          2008,
          2008,
          2008,
          2008,
          2008,
          2008,
          2008,
          2008,
          2008,
          2008,
          2008,
          2008,
          2008,
          2008,
          2008,
          2008,
          2008,
          2008,
          2008,
          2008,
          2008,
          2008,
          2008,
          2008,
          2008,
          2008,
          2008,
          2008,
          2008,
          2008,
          2008,
          2008,
          2008,
          2008,
          2008,
          2008,
          2008,
          2008,
          2008,
          2008,
          2008,
          2008,
          2008,
          2008,
          2008,
          2009,
          2009,
          2009,
          2009,
          2009,
          2009,
          2009,
          2009,
          2009,
          2009,
          2009,
          2009,
          2009,
          2009,
          2009,
          2009,
          2009,
          2009,
          2009,
          2009,
          2009,
          2009,
          2009,
          2009,
          2009,
          2009,
          2009,
          2009,
          2009,
          2009,
          2009,
          2009,
          2009,
          2009,
          2009,
          2009,
          2009,
          2009,
          2009,
          2009,
          2009,
          2009,
          2009,
          2009,
          2009,
          2009,
          2009,
          2009,
          2009,
          2009,
          2009,
          2009,
          2009,
          2009,
          2009,
          2009,
          2009,
          2010,
          2010,
          2010,
          2010,
          2010,
          2010,
          2010,
          2010,
          2010,
          2010,
          2010,
          2010,
          2010,
          2010,
          2010,
          2010,
          2010,
          2010,
          2010,
          2010,
          2010,
          2010,
          2010,
          2010,
          2010,
          2010,
          2010,
          2010,
          2010,
          2010,
          2010,
          2010,
          2010,
          2010,
          2010,
          2010,
          2010,
          2010,
          2010,
          2010,
          2010,
          2010,
          2010,
          2010,
          2010,
          2010,
          2010,
          2010,
          2010,
          2010,
          2010,
          2010,
          2010,
          2010,
          2010,
          2010,
          2010,
          2010,
          2010,
          2010,
          2011,
          2011,
          2011,
          2011,
          2011,
          2011,
          2011,
          2011,
          2011,
          2011,
          2011,
          2011,
          2011,
          2011,
          2011,
          2011,
          2011,
          2011,
          2011,
          2011,
          2011,
          2011,
          2011,
          2011,
          2011,
          2011,
          2011,
          2011,
          2011,
          2011,
          2011,
          2011,
          2011,
          2011,
          2011,
          2011,
          2011,
          2011,
          2011,
          2011,
          2011,
          2011,
          2011,
          2011,
          2011,
          2011,
          2011,
          2011,
          2011,
          2011,
          2011,
          2011,
          2011,
          2011,
          2011,
          2011,
          2011,
          2011,
          2011,
          2011,
          2011,
          2011,
          2011,
          2011,
          2011,
          2011,
          2011,
          2011,
          2011,
          2011,
          2011,
          2011,
          2011,
          2012,
          2012,
          2012,
          2012,
          2012,
          2012,
          2012,
          2012,
          2012,
          2012,
          2012,
          2012,
          2012,
          2012,
          2012,
          2012,
          2012,
          2012,
          2012,
          2012,
          2012,
          2012,
          2012,
          2012,
          2012,
          2012,
          2012,
          2012,
          2012,
          2012,
          2012,
          2012,
          2012,
          2012,
          2012,
          2012,
          2012,
          2012,
          2012,
          2012,
          2012,
          2012,
          2012,
          2012,
          2012,
          2012,
          2012,
          2012,
          2012,
          2012,
          2012,
          2012,
          2012,
          2012,
          2012,
          2012,
          2012,
          2012,
          2012,
          2012,
          2012,
          2012,
          2012,
          2012,
          2012,
          2012,
          2012,
          2012,
          2012,
          2012,
          2012,
          2012,
          2012,
          2012,
          2013,
          2013,
          2013,
          2013,
          2013,
          2013,
          2013,
          2013,
          2013,
          2013,
          2013,
          2013,
          2013,
          2013,
          2013,
          2013,
          2013,
          2013,
          2013,
          2013,
          2013,
          2013,
          2013,
          2013,
          2013,
          2013,
          2013,
          2013,
          2013,
          2013,
          2013,
          2013,
          2013,
          2013,
          2013,
          2013,
          2013,
          2013,
          2013,
          2013,
          2013,
          2013,
          2013,
          2013,
          2013,
          2013,
          2013,
          2013,
          2013,
          2013,
          2013,
          2013,
          2013,
          2013,
          2013,
          2013,
          2013,
          2013,
          2013,
          2013,
          2013,
          2013,
          2013,
          2013,
          2013,
          2013,
          2013,
          2013,
          2013,
          2013,
          2013,
          2013,
          2013,
          2013,
          2013,
          2013,
          2014,
          2014,
          2014,
          2014,
          2014,
          2014,
          2014,
          2014,
          2014,
          2014,
          2014,
          2014,
          2014,
          2014,
          2014,
          2014,
          2014,
          2014,
          2014,
          2014,
          2014,
          2014,
          2014,
          2014,
          2014,
          2014,
          2014,
          2014,
          2014,
          2014,
          2014,
          2014,
          2014,
          2014,
          2014,
          2014,
          2014,
          2014,
          2014,
          2014,
          2014,
          2014,
          2014,
          2014,
          2014,
          2014,
          2014,
          2014,
          2014,
          2014,
          2014,
          2014,
          2014,
          2014,
          2014,
          2014,
          2014,
          2014,
          2014,
          2014,
          2015,
          2015,
          2015,
          2015,
          2015,
          2015,
          2015,
          2015,
          2015,
          2015,
          2015,
          2015,
          2015,
          2015,
          2015,
          2015,
          2015,
          2015,
          2015,
          2015,
          2015,
          2015,
          2015,
          2015,
          2015,
          2015,
          2015,
          2015,
          2015,
          2015,
          2015,
          2015,
          2015,
          2015,
          2015,
          2015,
          2015,
          2015,
          2015,
          2015,
          2015,
          2015,
          2015,
          2015,
          2015,
          2015,
          2015,
          2015,
          2015,
          2015,
          2015,
          2015,
          2015,
          2015,
          2015,
          2015,
          2015,
          2015,
          2015,
          2016,
          2016,
          2016,
          2016,
          2016,
          2016,
          2016,
          2016,
          2016,
          2016,
          2016,
          2016,
          2016,
          2016,
          2016,
          2016,
          2016,
          2016,
          2016,
          2016,
          2016,
          2016,
          2016,
          2016,
          2016,
          2016,
          2016,
          2016,
          2016,
          2016,
          2016,
          2016,
          2016,
          2016,
          2016,
          2016,
          2016,
          2016,
          2016,
          2016,
          2016,
          2016,
          2016,
          2016,
          2016,
          2016,
          2016,
          2016,
          2016,
          2016,
          2016,
          2016,
          2016,
          2016,
          2016,
          2016,
          2016,
          2016,
          2016,
          2016,
          2018,
          2018,
          2018,
          2018,
          2018,
          2018,
          2018,
          2018,
          2018,
          2018,
          2018,
          2018,
          2018,
          2018,
          2018,
          2018,
          2018,
          2018,
          2018,
          2018,
          2018,
          2018,
          2018,
          2018,
          2018,
          2018,
          2018,
          2018,
          2018,
          2018,
          2018,
          2018,
          2018,
          2018,
          2018,
          2018,
          2018,
          2018,
          2018,
          2018,
          2018,
          2018,
          2018,
          2018,
          2018,
          2018,
          2018,
          2018,
          2018,
          2018,
          2018,
          2018,
          2018,
          2018,
          2018,
          2018,
          2018,
          2018,
          2018,
          2018
         ]
        }
       ],
       "layout": {
        "barmode": "overlay",
        "legend": {
         "bgcolor": "#F5F6F9",
         "font": {
          "color": "#4D5663"
         }
        },
        "paper_bgcolor": "#F5F6F9",
        "plot_bgcolor": "#F5F6F9",
        "template": {
         "data": {
          "bar": [
           {
            "error_x": {
             "color": "#2a3f5f"
            },
            "error_y": {
             "color": "#2a3f5f"
            },
            "marker": {
             "line": {
              "color": "#E5ECF6",
              "width": 0.5
             }
            },
            "type": "bar"
           }
          ],
          "barpolar": [
           {
            "marker": {
             "line": {
              "color": "#E5ECF6",
              "width": 0.5
             }
            },
            "type": "barpolar"
           }
          ],
          "carpet": [
           {
            "aaxis": {
             "endlinecolor": "#2a3f5f",
             "gridcolor": "white",
             "linecolor": "white",
             "minorgridcolor": "white",
             "startlinecolor": "#2a3f5f"
            },
            "baxis": {
             "endlinecolor": "#2a3f5f",
             "gridcolor": "white",
             "linecolor": "white",
             "minorgridcolor": "white",
             "startlinecolor": "#2a3f5f"
            },
            "type": "carpet"
           }
          ],
          "choropleth": [
           {
            "colorbar": {
             "outlinewidth": 0,
             "ticks": ""
            },
            "type": "choropleth"
           }
          ],
          "contour": [
           {
            "colorbar": {
             "outlinewidth": 0,
             "ticks": ""
            },
            "colorscale": [
             [
              0,
              "#0d0887"
             ],
             [
              0.1111111111111111,
              "#46039f"
             ],
             [
              0.2222222222222222,
              "#7201a8"
             ],
             [
              0.3333333333333333,
              "#9c179e"
             ],
             [
              0.4444444444444444,
              "#bd3786"
             ],
             [
              0.5555555555555556,
              "#d8576b"
             ],
             [
              0.6666666666666666,
              "#ed7953"
             ],
             [
              0.7777777777777778,
              "#fb9f3a"
             ],
             [
              0.8888888888888888,
              "#fdca26"
             ],
             [
              1,
              "#f0f921"
             ]
            ],
            "type": "contour"
           }
          ],
          "contourcarpet": [
           {
            "colorbar": {
             "outlinewidth": 0,
             "ticks": ""
            },
            "type": "contourcarpet"
           }
          ],
          "heatmap": [
           {
            "colorbar": {
             "outlinewidth": 0,
             "ticks": ""
            },
            "colorscale": [
             [
              0,
              "#0d0887"
             ],
             [
              0.1111111111111111,
              "#46039f"
             ],
             [
              0.2222222222222222,
              "#7201a8"
             ],
             [
              0.3333333333333333,
              "#9c179e"
             ],
             [
              0.4444444444444444,
              "#bd3786"
             ],
             [
              0.5555555555555556,
              "#d8576b"
             ],
             [
              0.6666666666666666,
              "#ed7953"
             ],
             [
              0.7777777777777778,
              "#fb9f3a"
             ],
             [
              0.8888888888888888,
              "#fdca26"
             ],
             [
              1,
              "#f0f921"
             ]
            ],
            "type": "heatmap"
           }
          ],
          "heatmapgl": [
           {
            "colorbar": {
             "outlinewidth": 0,
             "ticks": ""
            },
            "colorscale": [
             [
              0,
              "#0d0887"
             ],
             [
              0.1111111111111111,
              "#46039f"
             ],
             [
              0.2222222222222222,
              "#7201a8"
             ],
             [
              0.3333333333333333,
              "#9c179e"
             ],
             [
              0.4444444444444444,
              "#bd3786"
             ],
             [
              0.5555555555555556,
              "#d8576b"
             ],
             [
              0.6666666666666666,
              "#ed7953"
             ],
             [
              0.7777777777777778,
              "#fb9f3a"
             ],
             [
              0.8888888888888888,
              "#fdca26"
             ],
             [
              1,
              "#f0f921"
             ]
            ],
            "type": "heatmapgl"
           }
          ],
          "histogram": [
           {
            "marker": {
             "colorbar": {
              "outlinewidth": 0,
              "ticks": ""
             }
            },
            "type": "histogram"
           }
          ],
          "histogram2d": [
           {
            "colorbar": {
             "outlinewidth": 0,
             "ticks": ""
            },
            "colorscale": [
             [
              0,
              "#0d0887"
             ],
             [
              0.1111111111111111,
              "#46039f"
             ],
             [
              0.2222222222222222,
              "#7201a8"
             ],
             [
              0.3333333333333333,
              "#9c179e"
             ],
             [
              0.4444444444444444,
              "#bd3786"
             ],
             [
              0.5555555555555556,
              "#d8576b"
             ],
             [
              0.6666666666666666,
              "#ed7953"
             ],
             [
              0.7777777777777778,
              "#fb9f3a"
             ],
             [
              0.8888888888888888,
              "#fdca26"
             ],
             [
              1,
              "#f0f921"
             ]
            ],
            "type": "histogram2d"
           }
          ],
          "histogram2dcontour": [
           {
            "colorbar": {
             "outlinewidth": 0,
             "ticks": ""
            },
            "colorscale": [
             [
              0,
              "#0d0887"
             ],
             [
              0.1111111111111111,
              "#46039f"
             ],
             [
              0.2222222222222222,
              "#7201a8"
             ],
             [
              0.3333333333333333,
              "#9c179e"
             ],
             [
              0.4444444444444444,
              "#bd3786"
             ],
             [
              0.5555555555555556,
              "#d8576b"
             ],
             [
              0.6666666666666666,
              "#ed7953"
             ],
             [
              0.7777777777777778,
              "#fb9f3a"
             ],
             [
              0.8888888888888888,
              "#fdca26"
             ],
             [
              1,
              "#f0f921"
             ]
            ],
            "type": "histogram2dcontour"
           }
          ],
          "mesh3d": [
           {
            "colorbar": {
             "outlinewidth": 0,
             "ticks": ""
            },
            "type": "mesh3d"
           }
          ],
          "parcoords": [
           {
            "line": {
             "colorbar": {
              "outlinewidth": 0,
              "ticks": ""
             }
            },
            "type": "parcoords"
           }
          ],
          "pie": [
           {
            "automargin": true,
            "type": "pie"
           }
          ],
          "scatter": [
           {
            "marker": {
             "colorbar": {
              "outlinewidth": 0,
              "ticks": ""
             }
            },
            "type": "scatter"
           }
          ],
          "scatter3d": [
           {
            "line": {
             "colorbar": {
              "outlinewidth": 0,
              "ticks": ""
             }
            },
            "marker": {
             "colorbar": {
              "outlinewidth": 0,
              "ticks": ""
             }
            },
            "type": "scatter3d"
           }
          ],
          "scattercarpet": [
           {
            "marker": {
             "colorbar": {
              "outlinewidth": 0,
              "ticks": ""
             }
            },
            "type": "scattercarpet"
           }
          ],
          "scattergeo": [
           {
            "marker": {
             "colorbar": {
              "outlinewidth": 0,
              "ticks": ""
             }
            },
            "type": "scattergeo"
           }
          ],
          "scattergl": [
           {
            "marker": {
             "colorbar": {
              "outlinewidth": 0,
              "ticks": ""
             }
            },
            "type": "scattergl"
           }
          ],
          "scattermapbox": [
           {
            "marker": {
             "colorbar": {
              "outlinewidth": 0,
              "ticks": ""
             }
            },
            "type": "scattermapbox"
           }
          ],
          "scatterpolar": [
           {
            "marker": {
             "colorbar": {
              "outlinewidth": 0,
              "ticks": ""
             }
            },
            "type": "scatterpolar"
           }
          ],
          "scatterpolargl": [
           {
            "marker": {
             "colorbar": {
              "outlinewidth": 0,
              "ticks": ""
             }
            },
            "type": "scatterpolargl"
           }
          ],
          "scatterternary": [
           {
            "marker": {
             "colorbar": {
              "outlinewidth": 0,
              "ticks": ""
             }
            },
            "type": "scatterternary"
           }
          ],
          "surface": [
           {
            "colorbar": {
             "outlinewidth": 0,
             "ticks": ""
            },
            "colorscale": [
             [
              0,
              "#0d0887"
             ],
             [
              0.1111111111111111,
              "#46039f"
             ],
             [
              0.2222222222222222,
              "#7201a8"
             ],
             [
              0.3333333333333333,
              "#9c179e"
             ],
             [
              0.4444444444444444,
              "#bd3786"
             ],
             [
              0.5555555555555556,
              "#d8576b"
             ],
             [
              0.6666666666666666,
              "#ed7953"
             ],
             [
              0.7777777777777778,
              "#fb9f3a"
             ],
             [
              0.8888888888888888,
              "#fdca26"
             ],
             [
              1,
              "#f0f921"
             ]
            ],
            "type": "surface"
           }
          ],
          "table": [
           {
            "cells": {
             "fill": {
              "color": "#EBF0F8"
             },
             "line": {
              "color": "white"
             }
            },
            "header": {
             "fill": {
              "color": "#C8D4E3"
             },
             "line": {
              "color": "white"
             }
            },
            "type": "table"
           }
          ]
         },
         "layout": {
          "annotationdefaults": {
           "arrowcolor": "#2a3f5f",
           "arrowhead": 0,
           "arrowwidth": 1
          },
          "coloraxis": {
           "colorbar": {
            "outlinewidth": 0,
            "ticks": ""
           }
          },
          "colorscale": {
           "diverging": [
            [
             0,
             "#8e0152"
            ],
            [
             0.1,
             "#c51b7d"
            ],
            [
             0.2,
             "#de77ae"
            ],
            [
             0.3,
             "#f1b6da"
            ],
            [
             0.4,
             "#fde0ef"
            ],
            [
             0.5,
             "#f7f7f7"
            ],
            [
             0.6,
             "#e6f5d0"
            ],
            [
             0.7,
             "#b8e186"
            ],
            [
             0.8,
             "#7fbc41"
            ],
            [
             0.9,
             "#4d9221"
            ],
            [
             1,
             "#276419"
            ]
           ],
           "sequential": [
            [
             0,
             "#0d0887"
            ],
            [
             0.1111111111111111,
             "#46039f"
            ],
            [
             0.2222222222222222,
             "#7201a8"
            ],
            [
             0.3333333333333333,
             "#9c179e"
            ],
            [
             0.4444444444444444,
             "#bd3786"
            ],
            [
             0.5555555555555556,
             "#d8576b"
            ],
            [
             0.6666666666666666,
             "#ed7953"
            ],
            [
             0.7777777777777778,
             "#fb9f3a"
            ],
            [
             0.8888888888888888,
             "#fdca26"
            ],
            [
             1,
             "#f0f921"
            ]
           ],
           "sequentialminus": [
            [
             0,
             "#0d0887"
            ],
            [
             0.1111111111111111,
             "#46039f"
            ],
            [
             0.2222222222222222,
             "#7201a8"
            ],
            [
             0.3333333333333333,
             "#9c179e"
            ],
            [
             0.4444444444444444,
             "#bd3786"
            ],
            [
             0.5555555555555556,
             "#d8576b"
            ],
            [
             0.6666666666666666,
             "#ed7953"
            ],
            [
             0.7777777777777778,
             "#fb9f3a"
            ],
            [
             0.8888888888888888,
             "#fdca26"
            ],
            [
             1,
             "#f0f921"
            ]
           ]
          },
          "colorway": [
           "#636efa",
           "#EF553B",
           "#00cc96",
           "#ab63fa",
           "#FFA15A",
           "#19d3f3",
           "#FF6692",
           "#B6E880",
           "#FF97FF",
           "#FECB52"
          ],
          "font": {
           "color": "#2a3f5f"
          },
          "geo": {
           "bgcolor": "white",
           "lakecolor": "white",
           "landcolor": "#E5ECF6",
           "showlakes": true,
           "showland": true,
           "subunitcolor": "white"
          },
          "hoverlabel": {
           "align": "left"
          },
          "hovermode": "closest",
          "mapbox": {
           "style": "light"
          },
          "paper_bgcolor": "white",
          "plot_bgcolor": "#E5ECF6",
          "polar": {
           "angularaxis": {
            "gridcolor": "white",
            "linecolor": "white",
            "ticks": ""
           },
           "bgcolor": "#E5ECF6",
           "radialaxis": {
            "gridcolor": "white",
            "linecolor": "white",
            "ticks": ""
           }
          },
          "scene": {
           "xaxis": {
            "backgroundcolor": "#E5ECF6",
            "gridcolor": "white",
            "gridwidth": 2,
            "linecolor": "white",
            "showbackground": true,
            "ticks": "",
            "zerolinecolor": "white"
           },
           "yaxis": {
            "backgroundcolor": "#E5ECF6",
            "gridcolor": "white",
            "gridwidth": 2,
            "linecolor": "white",
            "showbackground": true,
            "ticks": "",
            "zerolinecolor": "white"
           },
           "zaxis": {
            "backgroundcolor": "#E5ECF6",
            "gridcolor": "white",
            "gridwidth": 2,
            "linecolor": "white",
            "showbackground": true,
            "ticks": "",
            "zerolinecolor": "white"
           }
          },
          "shapedefaults": {
           "line": {
            "color": "#2a3f5f"
           }
          },
          "ternary": {
           "aaxis": {
            "gridcolor": "white",
            "linecolor": "white",
            "ticks": ""
           },
           "baxis": {
            "gridcolor": "white",
            "linecolor": "white",
            "ticks": ""
           },
           "bgcolor": "#E5ECF6",
           "caxis": {
            "gridcolor": "white",
            "linecolor": "white",
            "ticks": ""
           }
          },
          "title": {
           "x": 0.05
          },
          "xaxis": {
           "automargin": true,
           "gridcolor": "white",
           "linecolor": "white",
           "ticks": "",
           "title": {
            "standoff": 15
           },
           "zerolinecolor": "white",
           "zerolinewidth": 2
          },
          "yaxis": {
           "automargin": true,
           "gridcolor": "white",
           "linecolor": "white",
           "ticks": "",
           "title": {
            "standoff": 15
           },
           "zerolinecolor": "white",
           "zerolinewidth": 2
          }
         }
        },
        "title": {
         "font": {
          "color": "#4D5663"
         },
         "text": "Total matches per season"
        },
        "xaxis": {
         "gridcolor": "#E1E5ED",
         "showgrid": true,
         "tickfont": {
          "color": "#4D5663"
         },
         "title": {
          "font": {
           "color": "#4D5663"
          },
          "text": "Season"
         },
         "zerolinecolor": "#E1E5ED"
        },
        "yaxis": {
         "gridcolor": "#E1E5ED",
         "showgrid": true,
         "tickfont": {
          "color": "#4D5663"
         },
         "title": {
          "font": {
           "color": "#4D5663"
          },
          "text": "Matches"
         },
         "zerolinecolor": "#E1E5ED"
        }
       }
      },
      "text/html": [
       "<div>\n",
       "        \n",
       "        \n",
       "            <div id=\"13920b70-d4fe-443f-a004-89a69bc7192e\" class=\"plotly-graph-div\" style=\"height:525px; width:100%;\"></div>\n",
       "            <script type=\"text/javascript\">\n",
       "                require([\"plotly\"], function(Plotly) {\n",
       "                    window.PLOTLYENV=window.PLOTLYENV || {};\n",
       "                    window.PLOTLYENV.BASE_URL='https://plot.ly';\n",
       "                    \n",
       "                if (document.getElementById(\"13920b70-d4fe-443f-a004-89a69bc7192e\")) {\n",
       "                    Plotly.newPlot(\n",
       "                        '13920b70-d4fe-443f-a004-89a69bc7192e',\n",
       "                        [{\"histfunc\": \"count\", \"histnorm\": \"\", \"marker\": {\"color\": \"rgba(128, 0, 128, 1.0)\", \"line\": {\"color\": \"#4D5663\", \"width\": 1.3}}, \"name\": \"season\", \"nbinsx\": 30, \"opacity\": 0.8, \"orientation\": \"v\", \"type\": \"histogram\", \"x\": [2017, 2017, 2017, 2017, 2017, 2017, 2017, 2017, 2017, 2017, 2017, 2017, 2017, 2017, 2017, 2017, 2017, 2017, 2017, 2017, 2017, 2017, 2017, 2017, 2017, 2017, 2017, 2017, 2017, 2017, 2017, 2017, 2017, 2017, 2017, 2017, 2017, 2017, 2017, 2017, 2017, 2017, 2017, 2017, 2017, 2017, 2017, 2017, 2017, 2017, 2017, 2017, 2017, 2017, 2017, 2017, 2017, 2017, 2017, 2008, 2008, 2008, 2008, 2008, 2008, 2008, 2008, 2008, 2008, 2008, 2008, 2008, 2008, 2008, 2008, 2008, 2008, 2008, 2008, 2008, 2008, 2008, 2008, 2008, 2008, 2008, 2008, 2008, 2008, 2008, 2008, 2008, 2008, 2008, 2008, 2008, 2008, 2008, 2008, 2008, 2008, 2008, 2008, 2008, 2008, 2008, 2008, 2008, 2008, 2008, 2008, 2008, 2008, 2008, 2008, 2008, 2008, 2009, 2009, 2009, 2009, 2009, 2009, 2009, 2009, 2009, 2009, 2009, 2009, 2009, 2009, 2009, 2009, 2009, 2009, 2009, 2009, 2009, 2009, 2009, 2009, 2009, 2009, 2009, 2009, 2009, 2009, 2009, 2009, 2009, 2009, 2009, 2009, 2009, 2009, 2009, 2009, 2009, 2009, 2009, 2009, 2009, 2009, 2009, 2009, 2009, 2009, 2009, 2009, 2009, 2009, 2009, 2009, 2009, 2010, 2010, 2010, 2010, 2010, 2010, 2010, 2010, 2010, 2010, 2010, 2010, 2010, 2010, 2010, 2010, 2010, 2010, 2010, 2010, 2010, 2010, 2010, 2010, 2010, 2010, 2010, 2010, 2010, 2010, 2010, 2010, 2010, 2010, 2010, 2010, 2010, 2010, 2010, 2010, 2010, 2010, 2010, 2010, 2010, 2010, 2010, 2010, 2010, 2010, 2010, 2010, 2010, 2010, 2010, 2010, 2010, 2010, 2010, 2010, 2011, 2011, 2011, 2011, 2011, 2011, 2011, 2011, 2011, 2011, 2011, 2011, 2011, 2011, 2011, 2011, 2011, 2011, 2011, 2011, 2011, 2011, 2011, 2011, 2011, 2011, 2011, 2011, 2011, 2011, 2011, 2011, 2011, 2011, 2011, 2011, 2011, 2011, 2011, 2011, 2011, 2011, 2011, 2011, 2011, 2011, 2011, 2011, 2011, 2011, 2011, 2011, 2011, 2011, 2011, 2011, 2011, 2011, 2011, 2011, 2011, 2011, 2011, 2011, 2011, 2011, 2011, 2011, 2011, 2011, 2011, 2011, 2011, 2012, 2012, 2012, 2012, 2012, 2012, 2012, 2012, 2012, 2012, 2012, 2012, 2012, 2012, 2012, 2012, 2012, 2012, 2012, 2012, 2012, 2012, 2012, 2012, 2012, 2012, 2012, 2012, 2012, 2012, 2012, 2012, 2012, 2012, 2012, 2012, 2012, 2012, 2012, 2012, 2012, 2012, 2012, 2012, 2012, 2012, 2012, 2012, 2012, 2012, 2012, 2012, 2012, 2012, 2012, 2012, 2012, 2012, 2012, 2012, 2012, 2012, 2012, 2012, 2012, 2012, 2012, 2012, 2012, 2012, 2012, 2012, 2012, 2012, 2013, 2013, 2013, 2013, 2013, 2013, 2013, 2013, 2013, 2013, 2013, 2013, 2013, 2013, 2013, 2013, 2013, 2013, 2013, 2013, 2013, 2013, 2013, 2013, 2013, 2013, 2013, 2013, 2013, 2013, 2013, 2013, 2013, 2013, 2013, 2013, 2013, 2013, 2013, 2013, 2013, 2013, 2013, 2013, 2013, 2013, 2013, 2013, 2013, 2013, 2013, 2013, 2013, 2013, 2013, 2013, 2013, 2013, 2013, 2013, 2013, 2013, 2013, 2013, 2013, 2013, 2013, 2013, 2013, 2013, 2013, 2013, 2013, 2013, 2013, 2013, 2014, 2014, 2014, 2014, 2014, 2014, 2014, 2014, 2014, 2014, 2014, 2014, 2014, 2014, 2014, 2014, 2014, 2014, 2014, 2014, 2014, 2014, 2014, 2014, 2014, 2014, 2014, 2014, 2014, 2014, 2014, 2014, 2014, 2014, 2014, 2014, 2014, 2014, 2014, 2014, 2014, 2014, 2014, 2014, 2014, 2014, 2014, 2014, 2014, 2014, 2014, 2014, 2014, 2014, 2014, 2014, 2014, 2014, 2014, 2014, 2015, 2015, 2015, 2015, 2015, 2015, 2015, 2015, 2015, 2015, 2015, 2015, 2015, 2015, 2015, 2015, 2015, 2015, 2015, 2015, 2015, 2015, 2015, 2015, 2015, 2015, 2015, 2015, 2015, 2015, 2015, 2015, 2015, 2015, 2015, 2015, 2015, 2015, 2015, 2015, 2015, 2015, 2015, 2015, 2015, 2015, 2015, 2015, 2015, 2015, 2015, 2015, 2015, 2015, 2015, 2015, 2015, 2015, 2015, 2016, 2016, 2016, 2016, 2016, 2016, 2016, 2016, 2016, 2016, 2016, 2016, 2016, 2016, 2016, 2016, 2016, 2016, 2016, 2016, 2016, 2016, 2016, 2016, 2016, 2016, 2016, 2016, 2016, 2016, 2016, 2016, 2016, 2016, 2016, 2016, 2016, 2016, 2016, 2016, 2016, 2016, 2016, 2016, 2016, 2016, 2016, 2016, 2016, 2016, 2016, 2016, 2016, 2016, 2016, 2016, 2016, 2016, 2016, 2016, 2018, 2018, 2018, 2018, 2018, 2018, 2018, 2018, 2018, 2018, 2018, 2018, 2018, 2018, 2018, 2018, 2018, 2018, 2018, 2018, 2018, 2018, 2018, 2018, 2018, 2018, 2018, 2018, 2018, 2018, 2018, 2018, 2018, 2018, 2018, 2018, 2018, 2018, 2018, 2018, 2018, 2018, 2018, 2018, 2018, 2018, 2018, 2018, 2018, 2018, 2018, 2018, 2018, 2018, 2018, 2018, 2018, 2018, 2018, 2018]}],\n",
       "                        {\"barmode\": \"overlay\", \"legend\": {\"bgcolor\": \"#F5F6F9\", \"font\": {\"color\": \"#4D5663\"}}, \"paper_bgcolor\": \"#F5F6F9\", \"plot_bgcolor\": \"#F5F6F9\", \"template\": {\"data\": {\"bar\": [{\"error_x\": {\"color\": \"#2a3f5f\"}, \"error_y\": {\"color\": \"#2a3f5f\"}, \"marker\": {\"line\": {\"color\": \"#E5ECF6\", \"width\": 0.5}}, \"type\": \"bar\"}], \"barpolar\": [{\"marker\": {\"line\": {\"color\": \"#E5ECF6\", \"width\": 0.5}}, \"type\": \"barpolar\"}], \"carpet\": [{\"aaxis\": {\"endlinecolor\": \"#2a3f5f\", \"gridcolor\": \"white\", \"linecolor\": \"white\", \"minorgridcolor\": \"white\", \"startlinecolor\": \"#2a3f5f\"}, \"baxis\": {\"endlinecolor\": \"#2a3f5f\", \"gridcolor\": \"white\", \"linecolor\": \"white\", \"minorgridcolor\": \"white\", \"startlinecolor\": \"#2a3f5f\"}, \"type\": \"carpet\"}], \"choropleth\": [{\"colorbar\": {\"outlinewidth\": 0, \"ticks\": \"\"}, \"type\": \"choropleth\"}], \"contour\": [{\"colorbar\": {\"outlinewidth\": 0, \"ticks\": \"\"}, \"colorscale\": [[0.0, \"#0d0887\"], [0.1111111111111111, \"#46039f\"], [0.2222222222222222, \"#7201a8\"], [0.3333333333333333, \"#9c179e\"], [0.4444444444444444, \"#bd3786\"], [0.5555555555555556, \"#d8576b\"], [0.6666666666666666, \"#ed7953\"], [0.7777777777777778, \"#fb9f3a\"], [0.8888888888888888, \"#fdca26\"], [1.0, \"#f0f921\"]], \"type\": \"contour\"}], \"contourcarpet\": [{\"colorbar\": {\"outlinewidth\": 0, \"ticks\": \"\"}, \"type\": \"contourcarpet\"}], \"heatmap\": [{\"colorbar\": {\"outlinewidth\": 0, \"ticks\": \"\"}, \"colorscale\": [[0.0, \"#0d0887\"], [0.1111111111111111, \"#46039f\"], [0.2222222222222222, \"#7201a8\"], [0.3333333333333333, \"#9c179e\"], [0.4444444444444444, \"#bd3786\"], [0.5555555555555556, \"#d8576b\"], [0.6666666666666666, \"#ed7953\"], [0.7777777777777778, \"#fb9f3a\"], [0.8888888888888888, \"#fdca26\"], [1.0, \"#f0f921\"]], \"type\": \"heatmap\"}], \"heatmapgl\": [{\"colorbar\": {\"outlinewidth\": 0, \"ticks\": \"\"}, \"colorscale\": [[0.0, \"#0d0887\"], [0.1111111111111111, \"#46039f\"], [0.2222222222222222, \"#7201a8\"], [0.3333333333333333, \"#9c179e\"], [0.4444444444444444, \"#bd3786\"], [0.5555555555555556, \"#d8576b\"], [0.6666666666666666, \"#ed7953\"], [0.7777777777777778, \"#fb9f3a\"], [0.8888888888888888, \"#fdca26\"], [1.0, \"#f0f921\"]], \"type\": \"heatmapgl\"}], \"histogram\": [{\"marker\": {\"colorbar\": {\"outlinewidth\": 0, \"ticks\": \"\"}}, \"type\": \"histogram\"}], \"histogram2d\": [{\"colorbar\": {\"outlinewidth\": 0, \"ticks\": \"\"}, \"colorscale\": [[0.0, \"#0d0887\"], [0.1111111111111111, \"#46039f\"], [0.2222222222222222, \"#7201a8\"], [0.3333333333333333, \"#9c179e\"], [0.4444444444444444, \"#bd3786\"], [0.5555555555555556, \"#d8576b\"], [0.6666666666666666, \"#ed7953\"], [0.7777777777777778, \"#fb9f3a\"], [0.8888888888888888, \"#fdca26\"], [1.0, \"#f0f921\"]], \"type\": \"histogram2d\"}], \"histogram2dcontour\": [{\"colorbar\": {\"outlinewidth\": 0, \"ticks\": \"\"}, \"colorscale\": [[0.0, \"#0d0887\"], [0.1111111111111111, \"#46039f\"], [0.2222222222222222, \"#7201a8\"], [0.3333333333333333, \"#9c179e\"], [0.4444444444444444, \"#bd3786\"], [0.5555555555555556, \"#d8576b\"], [0.6666666666666666, \"#ed7953\"], [0.7777777777777778, \"#fb9f3a\"], [0.8888888888888888, \"#fdca26\"], [1.0, \"#f0f921\"]], \"type\": \"histogram2dcontour\"}], \"mesh3d\": [{\"colorbar\": {\"outlinewidth\": 0, \"ticks\": \"\"}, \"type\": \"mesh3d\"}], \"parcoords\": [{\"line\": {\"colorbar\": {\"outlinewidth\": 0, \"ticks\": \"\"}}, \"type\": \"parcoords\"}], \"pie\": [{\"automargin\": true, \"type\": \"pie\"}], \"scatter\": [{\"marker\": {\"colorbar\": {\"outlinewidth\": 0, \"ticks\": \"\"}}, \"type\": \"scatter\"}], \"scatter3d\": [{\"line\": {\"colorbar\": {\"outlinewidth\": 0, \"ticks\": \"\"}}, \"marker\": {\"colorbar\": {\"outlinewidth\": 0, \"ticks\": \"\"}}, \"type\": \"scatter3d\"}], \"scattercarpet\": [{\"marker\": {\"colorbar\": {\"outlinewidth\": 0, \"ticks\": \"\"}}, \"type\": \"scattercarpet\"}], \"scattergeo\": [{\"marker\": {\"colorbar\": {\"outlinewidth\": 0, \"ticks\": \"\"}}, \"type\": \"scattergeo\"}], \"scattergl\": [{\"marker\": {\"colorbar\": {\"outlinewidth\": 0, \"ticks\": \"\"}}, \"type\": \"scattergl\"}], \"scattermapbox\": [{\"marker\": {\"colorbar\": {\"outlinewidth\": 0, \"ticks\": \"\"}}, \"type\": \"scattermapbox\"}], \"scatterpolar\": [{\"marker\": {\"colorbar\": {\"outlinewidth\": 0, \"ticks\": \"\"}}, \"type\": \"scatterpolar\"}], \"scatterpolargl\": [{\"marker\": {\"colorbar\": {\"outlinewidth\": 0, \"ticks\": \"\"}}, \"type\": \"scatterpolargl\"}], \"scatterternary\": [{\"marker\": {\"colorbar\": {\"outlinewidth\": 0, \"ticks\": \"\"}}, \"type\": \"scatterternary\"}], \"surface\": [{\"colorbar\": {\"outlinewidth\": 0, \"ticks\": \"\"}, \"colorscale\": [[0.0, \"#0d0887\"], [0.1111111111111111, \"#46039f\"], [0.2222222222222222, \"#7201a8\"], [0.3333333333333333, \"#9c179e\"], [0.4444444444444444, \"#bd3786\"], [0.5555555555555556, \"#d8576b\"], [0.6666666666666666, \"#ed7953\"], [0.7777777777777778, \"#fb9f3a\"], [0.8888888888888888, \"#fdca26\"], [1.0, \"#f0f921\"]], \"type\": \"surface\"}], \"table\": [{\"cells\": {\"fill\": {\"color\": \"#EBF0F8\"}, \"line\": {\"color\": \"white\"}}, \"header\": {\"fill\": {\"color\": \"#C8D4E3\"}, \"line\": {\"color\": \"white\"}}, \"type\": \"table\"}]}, \"layout\": {\"annotationdefaults\": {\"arrowcolor\": \"#2a3f5f\", \"arrowhead\": 0, \"arrowwidth\": 1}, \"coloraxis\": {\"colorbar\": {\"outlinewidth\": 0, \"ticks\": \"\"}}, \"colorscale\": {\"diverging\": [[0, \"#8e0152\"], [0.1, \"#c51b7d\"], [0.2, \"#de77ae\"], [0.3, \"#f1b6da\"], [0.4, \"#fde0ef\"], [0.5, \"#f7f7f7\"], [0.6, \"#e6f5d0\"], [0.7, \"#b8e186\"], [0.8, \"#7fbc41\"], [0.9, \"#4d9221\"], [1, \"#276419\"]], \"sequential\": [[0.0, \"#0d0887\"], [0.1111111111111111, \"#46039f\"], [0.2222222222222222, \"#7201a8\"], [0.3333333333333333, \"#9c179e\"], [0.4444444444444444, \"#bd3786\"], [0.5555555555555556, \"#d8576b\"], [0.6666666666666666, \"#ed7953\"], [0.7777777777777778, \"#fb9f3a\"], [0.8888888888888888, \"#fdca26\"], [1.0, \"#f0f921\"]], \"sequentialminus\": [[0.0, \"#0d0887\"], [0.1111111111111111, \"#46039f\"], [0.2222222222222222, \"#7201a8\"], [0.3333333333333333, \"#9c179e\"], [0.4444444444444444, \"#bd3786\"], [0.5555555555555556, \"#d8576b\"], [0.6666666666666666, \"#ed7953\"], [0.7777777777777778, \"#fb9f3a\"], [0.8888888888888888, \"#fdca26\"], [1.0, \"#f0f921\"]]}, \"colorway\": [\"#636efa\", \"#EF553B\", \"#00cc96\", \"#ab63fa\", \"#FFA15A\", \"#19d3f3\", \"#FF6692\", \"#B6E880\", \"#FF97FF\", \"#FECB52\"], \"font\": {\"color\": \"#2a3f5f\"}, \"geo\": {\"bgcolor\": \"white\", \"lakecolor\": \"white\", \"landcolor\": \"#E5ECF6\", \"showlakes\": true, \"showland\": true, \"subunitcolor\": \"white\"}, \"hoverlabel\": {\"align\": \"left\"}, \"hovermode\": \"closest\", \"mapbox\": {\"style\": \"light\"}, \"paper_bgcolor\": \"white\", \"plot_bgcolor\": \"#E5ECF6\", \"polar\": {\"angularaxis\": {\"gridcolor\": \"white\", \"linecolor\": \"white\", \"ticks\": \"\"}, \"bgcolor\": \"#E5ECF6\", \"radialaxis\": {\"gridcolor\": \"white\", \"linecolor\": \"white\", \"ticks\": \"\"}}, \"scene\": {\"xaxis\": {\"backgroundcolor\": \"#E5ECF6\", \"gridcolor\": \"white\", \"gridwidth\": 2, \"linecolor\": \"white\", \"showbackground\": true, \"ticks\": \"\", \"zerolinecolor\": \"white\"}, \"yaxis\": {\"backgroundcolor\": \"#E5ECF6\", \"gridcolor\": \"white\", \"gridwidth\": 2, \"linecolor\": \"white\", \"showbackground\": true, \"ticks\": \"\", \"zerolinecolor\": \"white\"}, \"zaxis\": {\"backgroundcolor\": \"#E5ECF6\", \"gridcolor\": \"white\", \"gridwidth\": 2, \"linecolor\": \"white\", \"showbackground\": true, \"ticks\": \"\", \"zerolinecolor\": \"white\"}}, \"shapedefaults\": {\"line\": {\"color\": \"#2a3f5f\"}}, \"ternary\": {\"aaxis\": {\"gridcolor\": \"white\", \"linecolor\": \"white\", \"ticks\": \"\"}, \"baxis\": {\"gridcolor\": \"white\", \"linecolor\": \"white\", \"ticks\": \"\"}, \"bgcolor\": \"#E5ECF6\", \"caxis\": {\"gridcolor\": \"white\", \"linecolor\": \"white\", \"ticks\": \"\"}}, \"title\": {\"x\": 0.05}, \"xaxis\": {\"automargin\": true, \"gridcolor\": \"white\", \"linecolor\": \"white\", \"ticks\": \"\", \"title\": {\"standoff\": 15}, \"zerolinecolor\": \"white\", \"zerolinewidth\": 2}, \"yaxis\": {\"automargin\": true, \"gridcolor\": \"white\", \"linecolor\": \"white\", \"ticks\": \"\", \"title\": {\"standoff\": 15}, \"zerolinecolor\": \"white\", \"zerolinewidth\": 2}}}, \"title\": {\"font\": {\"color\": \"#4D5663\"}, \"text\": \"Total matches per season\"}, \"xaxis\": {\"gridcolor\": \"#E1E5ED\", \"showgrid\": true, \"tickfont\": {\"color\": \"#4D5663\"}, \"title\": {\"font\": {\"color\": \"#4D5663\"}, \"text\": \"Season\"}, \"zerolinecolor\": \"#E1E5ED\"}, \"yaxis\": {\"gridcolor\": \"#E1E5ED\", \"showgrid\": true, \"tickfont\": {\"color\": \"#4D5663\"}, \"title\": {\"font\": {\"color\": \"#4D5663\"}, \"text\": \"Matches\"}, \"zerolinecolor\": \"#E1E5ED\"}},\n",
       "                        {\"showLink\": true, \"linkText\": \"Export to plot.ly\", \"plotlyServerURL\": \"https://plot.ly\", \"responsive\": true}\n",
       "                    ).then(function(){\n",
       "                            \n",
       "var gd = document.getElementById('13920b70-d4fe-443f-a004-89a69bc7192e');\n",
       "var x = new MutationObserver(function (mutations, observer) {{\n",
       "        var display = window.getComputedStyle(gd).display;\n",
       "        if (!display || display === 'none') {{\n",
       "            console.log([gd, 'removed!']);\n",
       "            Plotly.purge(gd);\n",
       "            observer.disconnect();\n",
       "        }}\n",
       "}});\n",
       "\n",
       "// Listen for the removal of the full notebook cells\n",
       "var notebookContainer = gd.closest('#notebook-container');\n",
       "if (notebookContainer) {{\n",
       "    x.observe(notebookContainer, {childList: true});\n",
       "}}\n",
       "\n",
       "// Listen for the clearing of the current output cell\n",
       "var outputEl = gd.closest('.output');\n",
       "if (outputEl) {{\n",
       "    x.observe(outputEl, {childList: true});\n",
       "}}\n",
       "\n",
       "                        })\n",
       "                };\n",
       "                });\n",
       "            </script>\n",
       "        </div>"
      ]
     },
     "metadata": {},
     "output_type": "display_data"
    }
   ],
   "source": [
    "# Plotly is used here for more interactive diagram...\n",
    "df['season'].iplot(kind='hist',colors='purple',bins=30,xTitle='Season',yTitle='Matches',title='Total matches per season')"
   ]
  },
  {
   "cell_type": "code",
   "execution_count": 42,
   "metadata": {},
   "outputs": [
    {
     "data": {
      "text/plain": [
       "(array([ 0,  1,  2,  3,  4,  5,  6,  7,  8,  9, 10, 11, 12, 13, 14, 15, 16,\n",
       "        17, 18, 19, 20, 21, 22, 23, 24, 25, 26, 27, 28, 29, 30, 31, 32, 33,\n",
       "        34]),\n",
       " <a list of 35 Text xticklabel objects>)"
      ]
     },
     "execution_count": 42,
     "metadata": {},
     "output_type": "execute_result"
    },
    {
     "data": {
      "image/png": "[encoded data removed]",
      "text/plain": [
       "<Figure size 864x432 with 1 Axes>"
      ]
     },
     "metadata": {},
     "output_type": "display_data"
    }
   ],
   "source": [
    "plt.figure(figsize=(12,6))\n",
    "sns.countplot(x='venue',data=df,palette='viridis')\n",
    "plt.xticks(rotation='vertical')  # Number of times matches has played in such grounds.."
   ]
  },
  {
   "cell_type": "code",
   "execution_count": 43,
   "metadata": {},
   "outputs": [
    {
     "data": {
      "application/vnd.plotly.v1+json": {
       "config": {
        "linkText": "Export to plot.ly",
        "plotlyServerURL": "https://plot.ly",
        "showLink": true
       },
       "data": [
        {
         "histfunc": "count",
         "histnorm": "",
         "marker": {
          "color": "rgba(219, 64, 82, 1.0)",
          "line": {
           "color": "#4D5663",
           "width": 1.3
          }
         },
         "name": "venue",
         "opacity": 0.8,
         "orientation": "v",
         "type": "histogram",
         "x": [
          "Rajiv Gandhi International Stadium, Uppal",
          "Maharashtra Cricket Association Stadium",
          "Saurashtra Cricket Association Stadium",
          "Holkar Cricket Stadium",
          "M Chinnaswamy Stadium",
          "Rajiv Gandhi International Stadium, Uppal",
          "Wankhede Stadium",
          "Holkar Cricket Stadium",
          "Maharashtra Cricket Association Stadium",
          "Wankhede Stadium",
          "Eden Gardens",
          "M Chinnaswamy Stadium",
          "Saurashtra Cricket Association Stadium",
          "Eden Gardens",
          "Feroz Shah Kotla",
          "Wankhede Stadium",
          "M Chinnaswamy Stadium",
          "Feroz Shah Kotla",
          "Rajiv Gandhi International Stadium, Uppal",
          "Saurashtra Cricket Association Stadium",
          "Rajiv Gandhi International Stadium, Uppal",
          "Holkar Cricket Stadium",
          "Eden Gardens",
          "Wankhede Stadium",
          "Maharashtra Cricket Association Stadium",
          "Saurashtra Cricket Association Stadium",
          "Eden Gardens",
          "Wankhede Stadium",
          "Maharashtra Cricket Association Stadium",
          "M Chinnaswamy Stadium",
          "Eden Gardens",
          "Punjab Cricket Association IS Bindra Stadium, Mohali",
          "Maharashtra Cricket Association Stadium",
          "Saurashtra Cricket Association Stadium",
          "Punjab Cricket Association IS Bindra Stadium, Mohali",
          "Rajiv Gandhi International Stadium, Uppal",
          "Wankhede Stadium",
          "Maharashtra Cricket Association Stadium",
          "Feroz Shah Kotla",
          "Eden Gardens",
          "Feroz Shah Kotla",
          "M Chinnaswamy Stadium",
          "Rajiv Gandhi International Stadium, Uppal",
          "Feroz Shah Kotla",
          "M Chinnaswamy Stadium",
          "Punjab Cricket Association IS Bindra Stadium, Mohali",
          "Rajiv Gandhi International Stadium, Uppal",
          "Punjab Cricket Association IS Bindra Stadium, Mohali",
          "Green Park",
          "Wankhede Stadium",
          "Feroz Shah Kotla",
          "Green Park",
          "Eden Gardens",
          "Maharashtra Cricket Association Stadium",
          "Feroz Shah Kotla",
          "Wankhede Stadium",
          "M Chinnaswamy Stadium",
          "M Chinnaswamy Stadium",
          "Rajiv Gandhi International Stadium, Uppal",
          "M Chinnaswamy Stadium",
          "Punjab Cricket Association Stadium, Mohali",
          "Feroz Shah Kotla",
          "Wankhede Stadium",
          "Eden Gardens",
          "Sawai Mansingh Stadium",
          "Rajiv Gandhi International Stadium, Uppal",
          "MA Chidambaram Stadium, Chepauk",
          "Rajiv Gandhi International Stadium, Uppal",
          "Punjab Cricket Association Stadium, Mohali",
          "M Chinnaswamy Stadium",
          "MA Chidambaram Stadium, Chepauk",
          "Dr DY Patil Sports Academy",
          "Punjab Cricket Association Stadium, Mohali",
          "M Chinnaswamy Stadium",
          "Eden Gardens",
          "Feroz Shah Kotla",
          "Rajiv Gandhi International Stadium, Uppal",
          "Sawai Mansingh Stadium",
          "MA Chidambaram Stadium, Chepauk",
          "Rajiv Gandhi International Stadium, Uppal",
          "Punjab Cricket Association Stadium, Mohali",
          "Dr DY Patil Sports Academy",
          "Sawai Mansingh Stadium",
          "M Chinnaswamy Stadium",
          "MA Chidambaram Stadium, Chepauk",
          "Dr DY Patil Sports Academy",
          "Feroz Shah Kotla",
          "Eden Gardens",
          "Sawai Mansingh Stadium",
          "M Chinnaswamy Stadium",
          "MA Chidambaram Stadium, Chepauk",
          "Rajiv Gandhi International Stadium, Uppal",
          "Sawai Mansingh Stadium",
          "Punjab Cricket Association Stadium, Mohali",
          "Eden Gardens",
          "Wankhede Stadium",
          "Punjab Cricket Association Stadium, Mohali",
          "Feroz Shah Kotla",
          "Wankhede Stadium",
          "Feroz Shah Kotla",
          "Sawai Mansingh Stadium",
          "Rajiv Gandhi International Stadium, Uppal",
          "Eden Gardens",
          "M Chinnaswamy Stadium",
          "Eden Gardens",
          "Wankhede Stadium",
          "MA Chidambaram Stadium, Chepauk",
          "Punjab Cricket Association Stadium, Mohali",
          "Feroz Shah Kotla",
          "MA Chidambaram Stadium, Chepauk",
          "M Chinnaswamy Stadium",
          "Eden Gardens",
          "Sawai Mansingh Stadium",
          "Rajiv Gandhi International Stadium, Uppal",
          "Wankhede Stadium",
          "Wankhede Stadium",
          "Dr DY Patil Sports Academy",
          "Newlands",
          "Newlands",
          "Newlands",
          "Newlands",
          "St George's Park",
          "Kingsmead",
          "Newlands",
          "Kingsmead",
          "Newlands",
          "Kingsmead",
          "Kingsmead",
          "St George's Park",
          "Newlands",
          "Kingsmead",
          "St George's Park",
          "SuperSport Park",
          "Kingsmead",
          "Kingsmead",
          "SuperSport Park",
          "SuperSport Park",
          "Buffalo Park",
          "Kingsmead",
          "St George's Park",
          "New Wanderers Stadium",
          "St George's Park",
          "New Wanderers Stadium",
          "Buffalo Park",
          "Kingsmead",
          "Kingsmead",
          "SuperSport Park",
          "SuperSport Park",
          "SuperSport Park",
          "Buffalo Park",
          "De Beers Diamond Oval",
          "De Beers Diamond Oval",
          "St George's Park",
          "New Wanderers Stadium",
          "De Beers Diamond Oval",
          "SuperSport Park",
          "SuperSport Park",
          "Kingsmead",
          "Kingsmead",
          "Kingsmead",
          "OUTsurance Oval",
          "St George's Park",
          "New Wanderers Stadium",
          "New Wanderers Stadium",
          "OUTsurance Oval",
          "SuperSport Park",
          "New Wanderers Stadium",
          "Kingsmead",
          "Kingsmead",
          "SuperSport Park",
          "SuperSport Park",
          "SuperSport Park",
          "New Wanderers Stadium",
          "New Wanderers Stadium",
          "Dr DY Patil Sports Academy",
          "Brabourne Stadium",
          "Punjab Cricket Association Stadium, Mohali",
          "Eden Gardens",
          "MA Chidambaram Stadium, Chepauk",
          "Sardar Patel Stadium, Motera",
          "M Chinnaswamy Stadium",
          "Eden Gardens",
          "Feroz Shah Kotla",
          "M Chinnaswamy Stadium",
          "Feroz Shah Kotla",
          "Barabati Stadium",
          "Sardar Patel Stadium, Motera",
          "Brabourne Stadium",
          "Barabati Stadium",
          "MA Chidambaram Stadium, Chepauk",
          "Brabourne Stadium",
          "M Chinnaswamy Stadium",
          "Punjab Cricket Association Stadium, Mohali",
          "Brabourne Stadium",
          "Sardar Patel Stadium, Motera",
          "Punjab Cricket Association Stadium, Mohali",
          "M Chinnaswamy Stadium",
          "Sardar Patel Stadium, Motera",
          "Dr DY Patil Sports Academy",
          "Feroz Shah Kotla",
          "Brabourne Stadium",
          "MA Chidambaram Stadium, Chepauk",
          "Feroz Shah Kotla",
          "Eden Gardens",
          "Punjab Cricket Association Stadium, Mohali",
          "MA Chidambaram Stadium, Chepauk",
          "Brabourne Stadium",
          "Eden Gardens",
          "Feroz Shah Kotla",
          "Vidarbha Cricket Association Stadium, Jamtha",
          "MA Chidambaram Stadium, Chepauk",
          "Sawai Mansingh Stadium",
          "Eden Gardens",
          "M Chinnaswamy Stadium",
          "Punjab Cricket Association Stadium, Mohali",
          "Vidarbha Cricket Association Stadium, Jamtha",
          "M Chinnaswamy Stadium",
          "Feroz Shah Kotla",
          "Sawai Mansingh Stadium",
          "Vidarbha Cricket Association Stadium, Jamtha",
          "Brabourne Stadium",
          "MA Chidambaram Stadium, Chepauk",
          "Sawai Mansingh Stadium",
          "MA Chidambaram Stadium, Chepauk",
          "Himachal Pradesh Cricket Association Stadium",
          "M Chinnaswamy Stadium",
          "Eden Gardens",
          "Himachal Pradesh Cricket Association Stadium",
          "Feroz Shah Kotla",
          "Eden Gardens",
          "Dr DY Patil Sports Academy",
          "Dr DY Patil Sports Academy",
          "Dr DY Patil Sports Academy",
          "Dr DY Patil Sports Academy",
          "MA Chidambaram Stadium, Chepauk",
          "Rajiv Gandhi International Stadium, Uppal",
          "Nehru Stadium",
          "Feroz Shah Kotla",
          "Dr DY Patil Sports Academy",
          "Eden Gardens",
          "Sawai Mansingh Stadium",
          "M Chinnaswamy Stadium",
          "Punjab Cricket Association Stadium, Mohali",
          "Dr DY Patil Sports Academy",
          "Rajiv Gandhi International Stadium, Uppal",
          "Sawai Mansingh Stadium",
          "Wankhede Stadium",
          "MA Chidambaram Stadium, Chepauk",
          "Rajiv Gandhi International Stadium, Uppal",
          "Dr DY Patil Sports Academy",
          "Eden Gardens",
          "Nehru Stadium",
          "Feroz Shah Kotla",
          "Wankhede Stadium",
          "Eden Gardens",
          "Punjab Cricket Association Stadium, Mohali",
          "Wankhede Stadium",
          "Eden Gardens",
          "Feroz Shah Kotla",
          "Rajiv Gandhi International Stadium, Uppal",
          "Sawai Mansingh Stadium",
          "MA Chidambaram Stadium, Chepauk",
          "Feroz Shah Kotla",
          "Dr DY Patil Sports Academy",
          "Nehru Stadium",
          "Feroz Shah Kotla",
          "Sawai Mansingh Stadium",
          "M Chinnaswamy Stadium",
          "Nehru Stadium",
          "Eden Gardens",
          "Sawai Mansingh Stadium",
          "MA Chidambaram Stadium, Chepauk",
          "Wankhede Stadium",
          "Feroz Shah Kotla",
          "Rajiv Gandhi International Stadium, Uppal",
          "MA Chidambaram Stadium, Chepauk",
          "Dr DY Patil Sports Academy",
          "Nehru Stadium",
          "Rajiv Gandhi International Stadium, Uppal",
          "M Chinnaswamy Stadium",
          "Eden Gardens",
          "Wankhede Stadium",
          "M Chinnaswamy Stadium",
          "Punjab Cricket Association Stadium, Mohali",
          "Sawai Mansingh Stadium",
          "Rajiv Gandhi International Stadium, Uppal",
          "Punjab Cricket Association Stadium, Mohali",
          "Sawai Mansingh Stadium",
          "MA Chidambaram Stadium, Chepauk",
          "Holkar Cricket Stadium",
          "M Chinnaswamy Stadium",
          "Wankhede Stadium",
          "Himachal Pradesh Cricket Association Stadium",
          "Holkar Cricket Stadium",
          "Dr DY Patil Sports Academy",
          "Himachal Pradesh Cricket Association Stadium",
          "MA Chidambaram Stadium, Chepauk",
          "Dr DY Patil Sports Academy",
          "Wankhede Stadium",
          "Himachal Pradesh Cricket Association Stadium",
          "Feroz Shah Kotla",
          "M Chinnaswamy Stadium",
          "Eden Gardens",
          "Wankhede Stadium",
          "Wankhede Stadium",
          "MA Chidambaram Stadium, Chepauk",
          "MA Chidambaram Stadium, Chepauk",
          "MA Chidambaram Stadium, Chepauk",
          "Eden Gardens",
          "Wankhede Stadium",
          "Sawai Mansingh Stadium",
          "M Chinnaswamy Stadium",
          "Dr. Y.S. Rajasekhara Reddy ACA-VDCA Cricket Stadium",
          "Sawai Mansingh Stadium",
          "Subrata Roy Sahara Stadium",
          "Dr. Y.S. Rajasekhara Reddy ACA-VDCA Cricket Stadium",
          "M Chinnaswamy Stadium",
          "Feroz Shah Kotla",
          "Wankhede Stadium",
          "MA Chidambaram Stadium, Chepauk",
          "Punjab Cricket Association Stadium, Mohali",
          "Eden Gardens",
          "Feroz Shah Kotla",
          "Subrata Roy Sahara Stadium",
          "Eden Gardens",
          "M Chinnaswamy Stadium",
          "Wankhede Stadium",
          "Sawai Mansingh Stadium",
          "M Chinnaswamy Stadium",
          "Punjab Cricket Association Stadium, Mohali",
          "Rajiv Gandhi International Stadium, Uppal",
          "MA Chidambaram Stadium, Chepauk",
          "Punjab Cricket Association Stadium, Mohali",
          "MA Chidambaram Stadium, Chepauk",
          "Feroz Shah Kotla",
          "Wankhede Stadium",
          "Barabati Stadium",
          "Sawai Mansingh Stadium",
          "Subrata Roy Sahara Stadium",
          "Punjab Cricket Association Stadium, Mohali",
          "Subrata Roy Sahara Stadium",
          "Feroz Shah Kotla",
          "MA Chidambaram Stadium, Chepauk",
          "Eden Gardens",
          "Feroz Shah Kotla",
          "Wankhede Stadium",
          "MA Chidambaram Stadium, Chepauk",
          "Barabati Stadium",
          "Sawai Mansingh Stadium",
          "M Chinnaswamy Stadium",
          "Subrata Roy Sahara Stadium",
          "MA Chidambaram Stadium, Chepauk",
          "Eden Gardens",
          "Punjab Cricket Association Stadium, Mohali",
          "Wankhede Stadium",
          "M Chinnaswamy Stadium",
          "Feroz Shah Kotla",
          "Subrata Roy Sahara Stadium",
          "Rajiv Gandhi International Stadium, Uppal",
          "Wankhede Stadium",
          "Sawai Mansingh Stadium",
          "Subrata Roy Sahara Stadium",
          "Eden Gardens",
          "MA Chidambaram Stadium, Chepauk",
          "Sawai Mansingh Stadium",
          "Punjab Cricket Association Stadium, Mohali",
          "M Chinnaswamy Stadium",
          "Eden Gardens",
          "Feroz Shah Kotla",
          "Wankhede Stadium",
          "Himachal Pradesh Cricket Association Stadium",
          "Feroz Shah Kotla",
          "Rajiv Gandhi International Stadium, Uppal",
          "Himachal Pradesh Cricket Association Stadium",
          "Subrata Roy Sahara Stadium",
          "Rajiv Gandhi International Stadium, Uppal",
          "Sawai Mansingh Stadium",
          "Subrata Roy Sahara Stadium",
          "M Chinnaswamy Stadium",
          "MA Chidambaram Stadium, Chepauk",
          "MA Chidambaram Stadium, Chepauk",
          "Eden Gardens",
          "M Chinnaswamy Stadium",
          "Rajiv Gandhi International Stadium, Uppal",
          "Feroz Shah Kotla",
          "MA Chidambaram Stadium, Chepauk",
          "Subrata Roy Sahara Stadium",
          "Rajiv Gandhi International Stadium, Uppal",
          "Sawai Mansingh Stadium",
          "Wankhede Stadium",
          "Punjab Cricket Association Stadium, Mohali",
          "M Chinnaswamy Stadium",
          "Subrata Roy Sahara Stadium",
          "Feroz Shah Kotla",
          "Wankhede Stadium",
          "MA Chidambaram Stadium, Chepauk",
          "Eden Gardens",
          "Sawai Mansingh Stadium",
          "MA Chidambaram Stadium, Chepauk",
          "Punjab Cricket Association Stadium, Mohali",
          "M Chinnaswamy Stadium",
          "Subrata Roy Sahara Stadium",
          "Sawai Mansingh Stadium",
          "Feroz Shah Kotla",
          "Rajiv Gandhi International Stadium, Uppal",
          "Eden Gardens",
          "M Chinnaswamy Stadium",
          "Feroz Shah Kotla",
          "Punjab Cricket Association Stadium, Mohali",
          "MA Chidambaram Stadium, Chepauk",
          "M Chinnaswamy Stadium",
          "Himachal Pradesh Cricket Association Stadium",
          "Eden Gardens",
          "MA Chidambaram Stadium, Chepauk",
          "Eden Gardens",
          "Sawai Mansingh Stadium",
          "Wankhede Stadium",
          "MA Chidambaram Stadium, Chepauk",
          "Shaheed Veer Narayan Singh International Stadium",
          "Sawai Mansingh Stadium",
          "Wankhede Stadium",
          "Subrata Roy Sahara Stadium",
          "Rajiv Gandhi International Stadium, Uppal",
          "Shaheed Veer Narayan Singh International Stadium",
          "MA Chidambaram Stadium, Chepauk",
          "Subrata Roy Sahara Stadium",
          "Eden Gardens",
          "Rajiv Gandhi International Stadium, Uppal",
          "M Chinnaswamy Stadium",
          "Wankhede Stadium",
          "Sawai Mansingh Stadium",
          "M Chinnaswamy Stadium",
          "Sawai Mansingh Stadium",
          "Wankhede Stadium",
          "Rajiv Gandhi International Stadium, Uppal",
          "Punjab Cricket Association Stadium, Mohali",
          "Subrata Roy Sahara Stadium",
          "Feroz Shah Kotla",
          "Subrata Roy Sahara Stadium",
          "Punjab Cricket Association Stadium, Mohali",
          "JSCA International Stadium Complex",
          "Sawai Mansingh Stadium",
          "Feroz Shah Kotla",
          "Wankhede Stadium",
          "JSCA International Stadium Complex",
          "MA Chidambaram Stadium, Chepauk",
          "Wankhede Stadium",
          "Punjab Cricket Association Stadium, Mohali",
          "Rajiv Gandhi International Stadium, Uppal",
          "Himachal Pradesh Cricket Association Stadium",
          "Subrata Roy Sahara Stadium",
          "M Chinnaswamy Stadium",
          "Rajiv Gandhi International Stadium, Uppal",
          "Feroz Shah Kotla",
          "Feroz Shah Kotla",
          "Eden Gardens",
          "Eden Gardens",
          "Sheikh Zayed Stadium",
          "Sharjah Cricket Stadium",
          "Sheikh Zayed Stadium",
          "Sheikh Zayed Stadium",
          "Dubai International Cricket Stadium",
          "Dubai International Cricket Stadium",
          "Sharjah Cricket Stadium",
          "Sheikh Zayed Stadium",
          "Sharjah Cricket Stadium",
          "Dubai International Cricket Stadium",
          "Sharjah Cricket Stadium",
          "Dubai International Cricket Stadium",
          "Dubai International Cricket Stadium",
          "Sheikh Zayed Stadium",
          "Sheikh Zayed Stadium",
          "Sharjah Cricket Stadium",
          "Sharjah Cricket Stadium",
          "Dubai International Cricket Stadium",
          "Sheikh Zayed Stadium",
          "Dubai International Cricket Stadium",
          "JSCA International Stadium Complex",
          "Wankhede Stadium",
          "Feroz Shah Kotla",
          "M Chinnaswamy Stadium",
          "Sardar Patel Stadium, Motera",
          "Feroz Shah Kotla",
          "Wankhede Stadium",
          "Feroz Shah Kotla",
          "Barabati Stadium",
          "Sardar Patel Stadium, Motera",
          "M Chinnaswamy Stadium",
          "Feroz Shah Kotla",
          "Wankhede Stadium",
          "Barabati Stadium",
          "M Chinnaswamy Stadium",
          "Rajiv Gandhi International Stadium, Uppal",
          "JSCA International Stadium Complex",
          "M Chinnaswamy Stadium",
          "Rajiv Gandhi International Stadium, Uppal",
          "Barabati Stadium",
          "Sardar Patel Stadium, Motera",
          "JSCA International Stadium Complex",
          "Rajiv Gandhi International Stadium, Uppal",
          "Sardar Patel Stadium, Motera",
          "Feroz Shah Kotla",
          "Rajiv Gandhi International Stadium, Uppal",
          "Eden Gardens",
          "Punjab Cricket Association Stadium, Mohali",
          "Eden Gardens",
          "JSCA International Stadium Complex",
          "Wankhede Stadium",
          "Punjab Cricket Association Stadium, Mohali",
          "M Chinnaswamy Stadium",
          "Eden Gardens",
          "Punjab Cricket Association Stadium, Mohali",
          "Wankhede Stadium",
          "Eden Gardens",
          "Brabourne Stadium",
          "Wankhede Stadium",
          "M Chinnaswamy Stadium",
          "Eden Gardens",
          "MA Chidambaram Stadium, Chepauk",
          "Maharashtra Cricket Association Stadium",
          "MA Chidambaram Stadium, Chepauk",
          "Eden Gardens",
          "Feroz Shah Kotla",
          "Wankhede Stadium",
          "M Chinnaswamy Stadium",
          "Sardar Patel Stadium, Motera",
          "Eden Gardens",
          "Maharashtra Cricket Association Stadium",
          "Dr. Y.S. Rajasekhara Reddy ACA-VDCA Cricket Stadium",
          "Wankhede Stadium",
          "Dr. Y.S. Rajasekhara Reddy ACA-VDCA Cricket Stadium",
          "Maharashtra Cricket Association Stadium",
          "Sardar Patel Stadium, Motera",
          "M Chinnaswamy Stadium",
          "Feroz Shah Kotla",
          "Sardar Patel Stadium, Motera",
          "Dr. Y.S. Rajasekhara Reddy ACA-VDCA Cricket Stadium",
          "M Chinnaswamy Stadium",
          "Feroz Shah Kotla",
          "Sardar Patel Stadium, Motera",
          "Wankhede Stadium",
          "MA Chidambaram Stadium, Chepauk",
          "Feroz Shah Kotla",
          "Punjab Cricket Association Stadium, Mohali",
          "Eden Gardens",
          "M Chinnaswamy Stadium",
          "MA Chidambaram Stadium, Chepauk",
          "Feroz Shah Kotla",
          "Wankhede Stadium",
          "M Chinnaswamy Stadium",
          "Rajiv Gandhi International Stadium, Uppal",
          "Punjab Cricket Association Stadium, Mohali",
          "Brabourne Stadium",
          "MA Chidambaram Stadium, Chepauk",
          "Eden Gardens",
          "Wankhede Stadium",
          "M Chinnaswamy Stadium",
          "Brabourne Stadium",
          "MA Chidambaram Stadium, Chepauk",
          "Eden Gardens",
          "Shaheed Veer Narayan Singh International Stadium",
          "Wankhede Stadium",
          "MA Chidambaram Stadium, Chepauk",
          "Rajiv Gandhi International Stadium, Uppal",
          "Shaheed Veer Narayan Singh International Stadium",
          "Punjab Cricket Association Stadium, Mohali",
          "Wankhede Stadium",
          "Rajiv Gandhi International Stadium, Uppal",
          "Punjab Cricket Association Stadium, Mohali",
          "Brabourne Stadium",
          "M Chinnaswamy Stadium",
          "Rajiv Gandhi International Stadium, Uppal",
          "Wankhede Stadium",
          "Maharashtra Cricket Association Stadium",
          "JSCA International Stadium Complex",
          "Eden Gardens",
          "Wankhede Stadium",
          "Eden Gardens",
          "Punjab Cricket Association IS Bindra Stadium, Mohali",
          "M Chinnaswamy Stadium",
          "Eden Gardens",
          "Saurashtra Cricket Association Stadium",
          "Feroz Shah Kotla",
          "Rajiv Gandhi International Stadium, Uppal",
          "Wankhede Stadium",
          "Punjab Cricket Association IS Bindra Stadium, Mohali",
          "M Chinnaswamy Stadium",
          "Rajiv Gandhi International Stadium, Uppal",
          "Punjab Cricket Association IS Bindra Stadium, Mohali",
          "Wankhede Stadium",
          "Saurashtra Cricket Association Stadium",
          "Maharashtra Cricket Association Stadium",
          "Feroz Shah Kotla",
          "Rajiv Gandhi International Stadium, Uppal",
          "Saurashtra Cricket Association Stadium",
          "Maharashtra Cricket Association Stadium",
          "Punjab Cricket Association IS Bindra Stadium, Mohali",
          "Rajiv Gandhi International Stadium, Uppal",
          "Feroz Shah Kotla",
          "Wankhede Stadium",
          "Maharashtra Cricket Association Stadium",
          "Feroz Shah Kotla",
          "Rajiv Gandhi International Stadium, Uppal",
          "Saurashtra Cricket Association Stadium",
          "Maharashtra Cricket Association Stadium",
          "M Chinnaswamy Stadium",
          "Saurashtra Cricket Association Stadium",
          "Eden Gardens",
          "Feroz Shah Kotla",
          "Rajiv Gandhi International Stadium, Uppal",
          "M Chinnaswamy Stadium",
          "Punjab Cricket Association IS Bindra Stadium, Mohali",
          "Dr. Y.S. Rajasekhara Reddy ACA-VDCA Cricket Stadium",
          "Eden Gardens",
          "Punjab Cricket Association IS Bindra Stadium, Mohali",
          "Dr. Y.S. Rajasekhara Reddy ACA-VDCA Cricket Stadium",
          "M Chinnaswamy Stadium",
          "Rajiv Gandhi International Stadium, Uppal",
          "Dr. Y.S. Rajasekhara Reddy ACA-VDCA Cricket Stadium",
          "M Chinnaswamy Stadium",
          "Eden Gardens",
          "Punjab Cricket Association IS Bindra Stadium, Mohali",
          "Dr. Y.S. Rajasekhara Reddy ACA-VDCA Cricket Stadium",
          "Eden Gardens",
          "Dr. Y.S. Rajasekhara Reddy ACA-VDCA Cricket Stadium",
          "M Chinnaswamy Stadium",
          "Green Park",
          "Shaheed Veer Narayan Singh International Stadium",
          "Dr. Y.S. Rajasekhara Reddy ACA-VDCA Cricket Stadium",
          "Green Park",
          "Eden Gardens",
          "Shaheed Veer Narayan Singh International Stadium",
          "M Chinnaswamy Stadium",
          "Feroz Shah Kotla",
          "Feroz Shah Kotla",
          "M Chinnaswamy Stadium",
          "Wankhede Stadium",
          "Punjab Cricket Association IS Bindra Stadium, Mohali",
          "Eden Gardens",
          "Rajiv Gandhi International Stadium, Uppal",
          "MA Chidambaram Stadium, Chepauk",
          "Sawai Mansingh Stadium",
          "Rajiv Gandhi International Stadium, Uppal",
          "M Chinnaswamy Stadium",
          "Wankhede Stadium",
          "Eden Gardens",
          "M Chinnaswamy Stadium",
          "Punjab Cricket Association IS Bindra Stadium, Mohali",
          "Eden Gardens",
          "Wankhede Stadium",
          "Sawai Mansingh Stadium",
          "Punjab Cricket Association IS Bindra Stadium, Mohali",
          "Maharashtra Cricket Association Stadium",
          "Eden Gardens",
          "M Chinnaswamy Stadium",
          "Rajiv Gandhi International Stadium, Uppal",
          "Sawai Mansingh Stadium",
          "Feroz Shah Kotla",
          "Wankhede Stadium",
          "M Chinnaswamy Stadium",
          "Rajiv Gandhi International Stadium, Uppal",
          "Feroz Shah Kotla",
          "Maharashtra Cricket Association Stadium",
          "Sawai Mansingh Stadium",
          "M Chinnaswamy Stadium",
          "Maharashtra Cricket Association Stadium",
          "M Chinnaswamy Stadium",
          "Feroz Shah Kotla",
          "Eden Gardens",
          "Holkar Cricket Stadium",
          "Maharashtra Cricket Association Stadium",
          "Rajiv Gandhi International Stadium, Uppal",
          "Wankhede Stadium",
          "Holkar Cricket Stadium",
          "Rajiv Gandhi International Stadium, Uppal",
          "Sawai Mansingh Stadium",
          "Eden Gardens",
          "Feroz Shah Kotla",
          "Sawai Mansingh Stadium",
          "Holkar Cricket Stadium",
          "Feroz Shah Kotla",
          "Maharashtra Cricket Association Stadium",
          "Wankhede Stadium",
          "Holkar Cricket Stadium",
          "Eden Gardens",
          "Wankhede Stadium",
          "M Chinnaswamy Stadium",
          "Feroz Shah Kotla",
          "Sawai Mansingh Stadium",
          "Rajiv Gandhi International Stadium, Uppal",
          "Feroz Shah Kotla",
          "Maharashtra Cricket Association Stadium",
          "Wankhede Stadium",
          "Eden Gardens",
          "Eden Gardens",
          "Wankhede Stadium"
         ]
        }
       ],
       "layout": {
        "barmode": "overlay",
        "legend": {
         "bgcolor": "#F5F6F9",
         "font": {
          "color": "#4D5663"
         }
        },
        "paper_bgcolor": "#F5F6F9",
        "plot_bgcolor": "#F5F6F9",
        "template": {
         "data": {
          "bar": [
           {
            "error_x": {
             "color": "#2a3f5f"
            },
            "error_y": {
             "color": "#2a3f5f"
            },
            "marker": {
             "line": {
              "color": "#E5ECF6",
              "width": 0.5
             }
            },
            "type": "bar"
           }
          ],
          "barpolar": [
           {
            "marker": {
             "line": {
              "color": "#E5ECF6",
              "width": 0.5
             }
            },
            "type": "barpolar"
           }
          ],
          "carpet": [
           {
            "aaxis": {
             "endlinecolor": "#2a3f5f",
             "gridcolor": "white",
             "linecolor": "white",
             "minorgridcolor": "white",
             "startlinecolor": "#2a3f5f"
            },
            "baxis": {
             "endlinecolor": "#2a3f5f",
             "gridcolor": "white",
             "linecolor": "white",
             "minorgridcolor": "white",
             "startlinecolor": "#2a3f5f"
            },
            "type": "carpet"
           }
          ],
          "choropleth": [
           {
            "colorbar": {
             "outlinewidth": 0,
             "ticks": ""
            },
            "type": "choropleth"
           }
          ],
          "contour": [
           {
            "colorbar": {
             "outlinewidth": 0,
             "ticks": ""
            },
            "colorscale": [
             [
              0,
              "#0d0887"
             ],
             [
              0.1111111111111111,
              "#46039f"
             ],
             [
              0.2222222222222222,
              "#7201a8"
             ],
             [
              0.3333333333333333,
              "#9c179e"
             ],
             [
              0.4444444444444444,
              "#bd3786"
             ],
             [
              0.5555555555555556,
              "#d8576b"
             ],
             [
              0.6666666666666666,
              "#ed7953"
             ],
             [
              0.7777777777777778,
              "#fb9f3a"
             ],
             [
              0.8888888888888888,
              "#fdca26"
             ],
             [
              1,
              "#f0f921"
             ]
            ],
            "type": "contour"
           }
          ],
          "contourcarpet": [
           {
            "colorbar": {
             "outlinewidth": 0,
             "ticks": ""
            },
            "type": "contourcarpet"
           }
          ],
          "heatmap": [
           {
            "colorbar": {
             "outlinewidth": 0,
             "ticks": ""
            },
            "colorscale": [
             [
              0,
              "#0d0887"
             ],
             [
              0.1111111111111111,
              "#46039f"
             ],
             [
              0.2222222222222222,
              "#7201a8"
             ],
             [
              0.3333333333333333,
              "#9c179e"
             ],
             [
              0.4444444444444444,
              "#bd3786"
             ],
             [
              0.5555555555555556,
              "#d8576b"
             ],
             [
              0.6666666666666666,
              "#ed7953"
             ],
             [
              0.7777777777777778,
              "#fb9f3a"
             ],
             [
              0.8888888888888888,
              "#fdca26"
             ],
             [
              1,
              "#f0f921"
             ]
            ],
            "type": "heatmap"
           }
          ],
          "heatmapgl": [
           {
            "colorbar": {
             "outlinewidth": 0,
             "ticks": ""
            },
            "colorscale": [
             [
              0,
              "#0d0887"
             ],
             [
              0.1111111111111111,
              "#46039f"
             ],
             [
              0.2222222222222222,
              "#7201a8"
             ],
             [
              0.3333333333333333,
              "#9c179e"
             ],
             [
              0.4444444444444444,
              "#bd3786"
             ],
             [
              0.5555555555555556,
              "#d8576b"
             ],
             [
              0.6666666666666666,
              "#ed7953"
             ],
             [
              0.7777777777777778,
              "#fb9f3a"
             ],
             [
              0.8888888888888888,
              "#fdca26"
             ],
             [
              1,
              "#f0f921"
             ]
            ],
            "type": "heatmapgl"
           }
          ],
          "histogram": [
           {
            "marker": {
             "colorbar": {
              "outlinewidth": 0,
              "ticks": ""
             }
            },
            "type": "histogram"
           }
          ],
          "histogram2d": [
           {
            "colorbar": {
             "outlinewidth": 0,
             "ticks": ""
            },
            "colorscale": [
             [
              0,
              "#0d0887"
             ],
             [
              0.1111111111111111,
              "#46039f"
             ],
             [
              0.2222222222222222,
              "#7201a8"
             ],
             [
              0.3333333333333333,
              "#9c179e"
             ],
             [
              0.4444444444444444,
              "#bd3786"
             ],
             [
              0.5555555555555556,
              "#d8576b"
             ],
             [
              0.6666666666666666,
              "#ed7953"
             ],
             [
              0.7777777777777778,
              "#fb9f3a"
             ],
             [
              0.8888888888888888,
              "#fdca26"
             ],
             [
              1,
              "#f0f921"
             ]
            ],
            "type": "histogram2d"
           }
          ],
          "histogram2dcontour": [
           {
            "colorbar": {
             "outlinewidth": 0,
             "ticks": ""
            },
            "colorscale": [
             [
              0,
              "#0d0887"
             ],
             [
              0.1111111111111111,
              "#46039f"
             ],
             [
              0.2222222222222222,
              "#7201a8"
             ],
             [
              0.3333333333333333,
              "#9c179e"
             ],
             [
              0.4444444444444444,
              "#bd3786"
             ],
             [
              0.5555555555555556,
              "#d8576b"
             ],
             [
              0.6666666666666666,
              "#ed7953"
             ],
             [
              0.7777777777777778,
              "#fb9f3a"
             ],
             [
              0.8888888888888888,
              "#fdca26"
             ],
             [
              1,
              "#f0f921"
             ]
            ],
            "type": "histogram2dcontour"
           }
          ],
          "mesh3d": [
           {
            "colorbar": {
             "outlinewidth": 0,
             "ticks": ""
            },
            "type": "mesh3d"
           }
          ],
          "parcoords": [
           {
            "line": {
             "colorbar": {
              "outlinewidth": 0,
              "ticks": ""
             }
            },
            "type": "parcoords"
           }
          ],
          "pie": [
           {
            "automargin": true,
            "type": "pie"
           }
          ],
          "scatter": [
           {
            "marker": {
             "colorbar": {
              "outlinewidth": 0,
              "ticks": ""
             }
            },
            "type": "scatter"
           }
          ],
          "scatter3d": [
           {
            "line": {
             "colorbar": {
              "outlinewidth": 0,
              "ticks": ""
             }
            },
            "marker": {
             "colorbar": {
              "outlinewidth": 0,
              "ticks": ""
             }
            },
            "type": "scatter3d"
           }
          ],
          "scattercarpet": [
           {
            "marker": {
             "colorbar": {
              "outlinewidth": 0,
              "ticks": ""
             }
            },
            "type": "scattercarpet"
           }
          ],
          "scattergeo": [
           {
            "marker": {
             "colorbar": {
              "outlinewidth": 0,
              "ticks": ""
             }
            },
            "type": "scattergeo"
           }
          ],
          "scattergl": [
           {
            "marker": {
             "colorbar": {
              "outlinewidth": 0,
              "ticks": ""
             }
            },
            "type": "scattergl"
           }
          ],
          "scattermapbox": [
           {
            "marker": {
             "colorbar": {
              "outlinewidth": 0,
              "ticks": ""
             }
            },
            "type": "scattermapbox"
           }
          ],
          "scatterpolar": [
           {
            "marker": {
             "colorbar": {
              "outlinewidth": 0,
              "ticks": ""
             }
            },
            "type": "scatterpolar"
           }
          ],
          "scatterpolargl": [
           {
            "marker": {
             "colorbar": {
              "outlinewidth": 0,
              "ticks": ""
             }
            },
            "type": "scatterpolargl"
           }
          ],
          "scatterternary": [
           {
            "marker": {
             "colorbar": {
              "outlinewidth": 0,
              "ticks": ""
             }
            },
            "type": "scatterternary"
           }
          ],
          "surface": [
           {
            "colorbar": {
             "outlinewidth": 0,
             "ticks": ""
            },
            "colorscale": [
             [
              0,
              "#0d0887"
             ],
             [
              0.1111111111111111,
              "#46039f"
             ],
             [
              0.2222222222222222,
              "#7201a8"
             ],
             [
              0.3333333333333333,
              "#9c179e"
             ],
             [
              0.4444444444444444,
              "#bd3786"
             ],
             [
              0.5555555555555556,
              "#d8576b"
             ],
             [
              0.6666666666666666,
              "#ed7953"
             ],
             [
              0.7777777777777778,
              "#fb9f3a"
             ],
             [
              0.8888888888888888,
              "#fdca26"
             ],
             [
              1,
              "#f0f921"
             ]
            ],
            "type": "surface"
           }
          ],
          "table": [
           {
            "cells": {
             "fill": {
              "color": "#EBF0F8"
             },
             "line": {
              "color": "white"
             }
            },
            "header": {
             "fill": {
              "color": "#C8D4E3"
             },
             "line": {
              "color": "white"
             }
            },
            "type": "table"
           }
          ]
         },
         "layout": {
          "annotationdefaults": {
           "arrowcolor": "#2a3f5f",
           "arrowhead": 0,
           "arrowwidth": 1
          },
          "coloraxis": {
           "colorbar": {
            "outlinewidth": 0,
            "ticks": ""
           }
          },
          "colorscale": {
           "diverging": [
            [
             0,
             "#8e0152"
            ],
            [
             0.1,
             "#c51b7d"
            ],
            [
             0.2,
             "#de77ae"
            ],
            [
             0.3,
             "#f1b6da"
            ],
            [
             0.4,
             "#fde0ef"
            ],
            [
             0.5,
             "#f7f7f7"
            ],
            [
             0.6,
             "#e6f5d0"
            ],
            [
             0.7,
             "#b8e186"
            ],
            [
             0.8,
             "#7fbc41"
            ],
            [
             0.9,
             "#4d9221"
            ],
            [
             1,
             "#276419"
            ]
           ],
           "sequential": [
            [
             0,
             "#0d0887"
            ],
            [
             0.1111111111111111,
             "#46039f"
            ],
            [
             0.2222222222222222,
             "#7201a8"
            ],
            [
             0.3333333333333333,
             "#9c179e"
            ],
            [
             0.4444444444444444,
             "#bd3786"
            ],
            [
             0.5555555555555556,
             "#d8576b"
            ],
            [
             0.6666666666666666,
             "#ed7953"
            ],
            [
             0.7777777777777778,
             "#fb9f3a"
            ],
            [
             0.8888888888888888,
             "#fdca26"
            ],
            [
             1,
             "#f0f921"
            ]
           ],
           "sequentialminus": [
            [
             0,
             "#0d0887"
            ],
            [
             0.1111111111111111,
             "#46039f"
            ],
            [
             0.2222222222222222,
             "#7201a8"
            ],
            [
             0.3333333333333333,
             "#9c179e"
            ],
            [
             0.4444444444444444,
             "#bd3786"
            ],
            [
             0.5555555555555556,
             "#d8576b"
            ],
            [
             0.6666666666666666,
             "#ed7953"
            ],
            [
             0.7777777777777778,
             "#fb9f3a"
            ],
            [
             0.8888888888888888,
             "#fdca26"
            ],
            [
             1,
             "#f0f921"
            ]
           ]
          },
          "colorway": [
           "#636efa",
           "#EF553B",
           "#00cc96",
           "#ab63fa",
           "#FFA15A",
           "#19d3f3",
           "#FF6692",
           "#B6E880",
           "#FF97FF",
           "#FECB52"
          ],
          "font": {
           "color": "#2a3f5f"
          },
          "geo": {
           "bgcolor": "white",
           "lakecolor": "white",
           "landcolor": "#E5ECF6",
           "showlakes": true,
           "showland": true,
           "subunitcolor": "white"
          },
          "hoverlabel": {
           "align": "left"
          },
          "hovermode": "closest",
          "mapbox": {
           "style": "light"
          },
          "paper_bgcolor": "white",
          "plot_bgcolor": "#E5ECF6",
          "polar": {
           "angularaxis": {
            "gridcolor": "white",
            "linecolor": "white",
            "ticks": ""
           },
           "bgcolor": "#E5ECF6",
           "radialaxis": {
            "gridcolor": "white",
            "linecolor": "white",
            "ticks": ""
           }
          },
          "scene": {
           "xaxis": {
            "backgroundcolor": "#E5ECF6",
            "gridcolor": "white",
            "gridwidth": 2,
            "linecolor": "white",
            "showbackground": true,
            "ticks": "",
            "zerolinecolor": "white"
           },
           "yaxis": {
            "backgroundcolor": "#E5ECF6",
            "gridcolor": "white",
            "gridwidth": 2,
            "linecolor": "white",
            "showbackground": true,
            "ticks": "",
            "zerolinecolor": "white"
           },
           "zaxis": {
            "backgroundcolor": "#E5ECF6",
            "gridcolor": "white",
            "gridwidth": 2,
            "linecolor": "white",
            "showbackground": true,
            "ticks": "",
            "zerolinecolor": "white"
           }
          },
          "shapedefaults": {
           "line": {
            "color": "#2a3f5f"
           }
          },
          "ternary": {
           "aaxis": {
            "gridcolor": "white",
            "linecolor": "white",
            "ticks": ""
           },
           "baxis": {
            "gridcolor": "white",
            "linecolor": "white",
            "ticks": ""
           },
           "bgcolor": "#E5ECF6",
           "caxis": {
            "gridcolor": "white",
            "linecolor": "white",
            "ticks": ""
           }
          },
          "title": {
           "x": 0.05
          },
          "xaxis": {
           "automargin": true,
           "gridcolor": "white",
           "linecolor": "white",
           "ticks": "",
           "title": {
            "standoff": 15
           },
           "zerolinecolor": "white",
           "zerolinewidth": 2
          },
          "yaxis": {
           "automargin": true,
           "gridcolor": "white",
           "linecolor": "white",
           "ticks": "",
           "title": {
            "standoff": 15
           },
           "zerolinecolor": "white",
           "zerolinewidth": 2
          }
         }
        },
        "title": {
         "font": {
          "color": "#4D5663"
         }
        },
        "xaxis": {
         "gridcolor": "#E1E5ED",
         "showgrid": true,
         "tickfont": {
          "color": "#4D5663"
         },
         "title": {
          "font": {
           "color": "#4D5663"
          },
          "text": ""
         },
         "zerolinecolor": "#E1E5ED"
        },
        "yaxis": {
         "gridcolor": "#E1E5ED",
         "showgrid": true,
         "tickfont": {
          "color": "#4D5663"
         },
         "title": {
          "font": {
           "color": "#4D5663"
          },
          "text": ""
         },
         "zerolinecolor": "#E1E5ED"
        }
       }
      },
      "text/html": [
       "<div>\n",
       "        \n",
       "        \n",
       "            <div id=\"50c35ba2-ce62-4f4a-aafa-9ee84068831a\" class=\"plotly-graph-div\" style=\"height:525px; width:100%;\"></div>\n",
       "            <script type=\"text/javascript\">\n",
       "                require([\"plotly\"], function(Plotly) {\n",
       "                    window.PLOTLYENV=window.PLOTLYENV || {};\n",
       "                    window.PLOTLYENV.BASE_URL='https://plot.ly';\n",
       "                    \n",
       "                if (document.getElementById(\"50c35ba2-ce62-4f4a-aafa-9ee84068831a\")) {\n",
       "                    Plotly.newPlot(\n",
       "                        '50c35ba2-ce62-4f4a-aafa-9ee84068831a',\n",
       "                        [{\"histfunc\": \"count\", \"histnorm\": \"\", \"marker\": {\"color\": \"rgba(219, 64, 82, 1.0)\", \"line\": {\"color\": \"#4D5663\", \"width\": 1.3}}, \"name\": \"venue\", \"opacity\": 0.8, \"orientation\": \"v\", \"type\": \"histogram\", \"x\": [\"Rajiv Gandhi International Stadium, Uppal\", \"Maharashtra Cricket Association Stadium\", \"Saurashtra Cricket Association Stadium\", \"Holkar Cricket Stadium\", \"M Chinnaswamy Stadium\", \"Rajiv Gandhi International Stadium, Uppal\", \"Wankhede Stadium\", \"Holkar Cricket Stadium\", \"Maharashtra Cricket Association Stadium\", \"Wankhede Stadium\", \"Eden Gardens\", \"M Chinnaswamy Stadium\", \"Saurashtra Cricket Association Stadium\", \"Eden Gardens\", \"Feroz Shah Kotla\", \"Wankhede Stadium\", \"M Chinnaswamy Stadium\", \"Feroz Shah Kotla\", \"Rajiv Gandhi International Stadium, Uppal\", \"Saurashtra Cricket Association Stadium\", \"Rajiv Gandhi International Stadium, Uppal\", \"Holkar Cricket Stadium\", \"Eden Gardens\", \"Wankhede Stadium\", \"Maharashtra Cricket Association Stadium\", \"Saurashtra Cricket Association Stadium\", \"Eden Gardens\", \"Wankhede Stadium\", \"Maharashtra Cricket Association Stadium\", \"M Chinnaswamy Stadium\", \"Eden Gardens\", \"Punjab Cricket Association IS Bindra Stadium, Mohali\", \"Maharashtra Cricket Association Stadium\", \"Saurashtra Cricket Association Stadium\", \"Punjab Cricket Association IS Bindra Stadium, Mohali\", \"Rajiv Gandhi International Stadium, Uppal\", \"Wankhede Stadium\", \"Maharashtra Cricket Association Stadium\", \"Feroz Shah Kotla\", \"Eden Gardens\", \"Feroz Shah Kotla\", \"M Chinnaswamy Stadium\", \"Rajiv Gandhi International Stadium, Uppal\", \"Feroz Shah Kotla\", \"M Chinnaswamy Stadium\", \"Punjab Cricket Association IS Bindra Stadium, Mohali\", \"Rajiv Gandhi International Stadium, Uppal\", \"Punjab Cricket Association IS Bindra Stadium, Mohali\", \"Green Park\", \"Wankhede Stadium\", \"Feroz Shah Kotla\", \"Green Park\", \"Eden Gardens\", \"Maharashtra Cricket Association Stadium\", \"Feroz Shah Kotla\", \"Wankhede Stadium\", \"M Chinnaswamy Stadium\", \"M Chinnaswamy Stadium\", \"Rajiv Gandhi International Stadium, Uppal\", \"M Chinnaswamy Stadium\", \"Punjab Cricket Association Stadium, Mohali\", \"Feroz Shah Kotla\", \"Wankhede Stadium\", \"Eden Gardens\", \"Sawai Mansingh Stadium\", \"Rajiv Gandhi International Stadium, Uppal\", \"MA Chidambaram Stadium, Chepauk\", \"Rajiv Gandhi International Stadium, Uppal\", \"Punjab Cricket Association Stadium, Mohali\", \"M Chinnaswamy Stadium\", \"MA Chidambaram Stadium, Chepauk\", \"Dr DY Patil Sports Academy\", \"Punjab Cricket Association Stadium, Mohali\", \"M Chinnaswamy Stadium\", \"Eden Gardens\", \"Feroz Shah Kotla\", \"Rajiv Gandhi International Stadium, Uppal\", \"Sawai Mansingh Stadium\", \"MA Chidambaram Stadium, Chepauk\", \"Rajiv Gandhi International Stadium, Uppal\", \"Punjab Cricket Association Stadium, Mohali\", \"Dr DY Patil Sports Academy\", \"Sawai Mansingh Stadium\", \"M Chinnaswamy Stadium\", \"MA Chidambaram Stadium, Chepauk\", \"Dr DY Patil Sports Academy\", \"Feroz Shah Kotla\", \"Eden Gardens\", \"Sawai Mansingh Stadium\", \"M Chinnaswamy Stadium\", \"MA Chidambaram Stadium, Chepauk\", \"Rajiv Gandhi International Stadium, Uppal\", \"Sawai Mansingh Stadium\", \"Punjab Cricket Association Stadium, Mohali\", \"Eden Gardens\", \"Wankhede Stadium\", \"Punjab Cricket Association Stadium, Mohali\", \"Feroz Shah Kotla\", \"Wankhede Stadium\", \"Feroz Shah Kotla\", \"Sawai Mansingh Stadium\", \"Rajiv Gandhi International Stadium, Uppal\", \"Eden Gardens\", \"M Chinnaswamy Stadium\", \"Eden Gardens\", \"Wankhede Stadium\", \"MA Chidambaram Stadium, Chepauk\", \"Punjab Cricket Association Stadium, Mohali\", \"Feroz Shah Kotla\", \"MA Chidambaram Stadium, Chepauk\", \"M Chinnaswamy Stadium\", \"Eden Gardens\", \"Sawai Mansingh Stadium\", \"Rajiv Gandhi International Stadium, Uppal\", \"Wankhede Stadium\", \"Wankhede Stadium\", \"Dr DY Patil Sports Academy\", \"Newlands\", \"Newlands\", \"Newlands\", \"Newlands\", \"St George's Park\", \"Kingsmead\", \"Newlands\", \"Kingsmead\", \"Newlands\", \"Kingsmead\", \"Kingsmead\", \"St George's Park\", \"Newlands\", \"Kingsmead\", \"St George's Park\", \"SuperSport Park\", \"Kingsmead\", \"Kingsmead\", \"SuperSport Park\", \"SuperSport Park\", \"Buffalo Park\", \"Kingsmead\", \"St George's Park\", \"New Wanderers Stadium\", \"St George's Park\", \"New Wanderers Stadium\", \"Buffalo Park\", \"Kingsmead\", \"Kingsmead\", \"SuperSport Park\", \"SuperSport Park\", \"SuperSport Park\", \"Buffalo Park\", \"De Beers Diamond Oval\", \"De Beers Diamond Oval\", \"St George's Park\", \"New Wanderers Stadium\", \"De Beers Diamond Oval\", \"SuperSport Park\", \"SuperSport Park\", \"Kingsmead\", \"Kingsmead\", \"Kingsmead\", \"OUTsurance Oval\", \"St George's Park\", \"New Wanderers Stadium\", \"New Wanderers Stadium\", \"OUTsurance Oval\", \"SuperSport Park\", \"New Wanderers Stadium\", \"Kingsmead\", \"Kingsmead\", \"SuperSport Park\", \"SuperSport Park\", \"SuperSport Park\", \"New Wanderers Stadium\", \"New Wanderers Stadium\", \"Dr DY Patil Sports Academy\", \"Brabourne Stadium\", \"Punjab Cricket Association Stadium, Mohali\", \"Eden Gardens\", \"MA Chidambaram Stadium, Chepauk\", \"Sardar Patel Stadium, Motera\", \"M Chinnaswamy Stadium\", \"Eden Gardens\", \"Feroz Shah Kotla\", \"M Chinnaswamy Stadium\", \"Feroz Shah Kotla\", \"Barabati Stadium\", \"Sardar Patel Stadium, Motera\", \"Brabourne Stadium\", \"Barabati Stadium\", \"MA Chidambaram Stadium, Chepauk\", \"Brabourne Stadium\", \"M Chinnaswamy Stadium\", \"Punjab Cricket Association Stadium, Mohali\", \"Brabourne Stadium\", \"Sardar Patel Stadium, Motera\", \"Punjab Cricket Association Stadium, Mohali\", \"M Chinnaswamy Stadium\", \"Sardar Patel Stadium, Motera\", \"Dr DY Patil Sports Academy\", \"Feroz Shah Kotla\", \"Brabourne Stadium\", \"MA Chidambaram Stadium, Chepauk\", \"Feroz Shah Kotla\", \"Eden Gardens\", \"Punjab Cricket Association Stadium, Mohali\", \"MA Chidambaram Stadium, Chepauk\", \"Brabourne Stadium\", \"Eden Gardens\", \"Feroz Shah Kotla\", \"Vidarbha Cricket Association Stadium, Jamtha\", \"MA Chidambaram Stadium, Chepauk\", \"Sawai Mansingh Stadium\", \"Eden Gardens\", \"M Chinnaswamy Stadium\", \"Punjab Cricket Association Stadium, Mohali\", \"Vidarbha Cricket Association Stadium, Jamtha\", \"M Chinnaswamy Stadium\", \"Feroz Shah Kotla\", \"Sawai Mansingh Stadium\", \"Vidarbha Cricket Association Stadium, Jamtha\", \"Brabourne Stadium\", \"MA Chidambaram Stadium, Chepauk\", \"Sawai Mansingh Stadium\", \"MA Chidambaram Stadium, Chepauk\", \"Himachal Pradesh Cricket Association Stadium\", \"M Chinnaswamy Stadium\", \"Eden Gardens\", \"Himachal Pradesh Cricket Association Stadium\", \"Feroz Shah Kotla\", \"Eden Gardens\", \"Dr DY Patil Sports Academy\", \"Dr DY Patil Sports Academy\", \"Dr DY Patil Sports Academy\", \"Dr DY Patil Sports Academy\", \"MA Chidambaram Stadium, Chepauk\", \"Rajiv Gandhi International Stadium, Uppal\", \"Nehru Stadium\", \"Feroz Shah Kotla\", \"Dr DY Patil Sports Academy\", \"Eden Gardens\", \"Sawai Mansingh Stadium\", \"M Chinnaswamy Stadium\", \"Punjab Cricket Association Stadium, Mohali\", \"Dr DY Patil Sports Academy\", \"Rajiv Gandhi International Stadium, Uppal\", \"Sawai Mansingh Stadium\", \"Wankhede Stadium\", \"MA Chidambaram Stadium, Chepauk\", \"Rajiv Gandhi International Stadium, Uppal\", \"Dr DY Patil Sports Academy\", \"Eden Gardens\", \"Nehru Stadium\", \"Feroz Shah Kotla\", \"Wankhede Stadium\", \"Eden Gardens\", \"Punjab Cricket Association Stadium, Mohali\", \"Wankhede Stadium\", \"Eden Gardens\", \"Feroz Shah Kotla\", \"Rajiv Gandhi International Stadium, Uppal\", \"Sawai Mansingh Stadium\", \"MA Chidambaram Stadium, Chepauk\", \"Feroz Shah Kotla\", \"Dr DY Patil Sports Academy\", \"Nehru Stadium\", \"Feroz Shah Kotla\", \"Sawai Mansingh Stadium\", \"M Chinnaswamy Stadium\", \"Nehru Stadium\", \"Eden Gardens\", \"Sawai Mansingh Stadium\", \"MA Chidambaram Stadium, Chepauk\", \"Wankhede Stadium\", \"Feroz Shah Kotla\", \"Rajiv Gandhi International Stadium, Uppal\", \"MA Chidambaram Stadium, Chepauk\", \"Dr DY Patil Sports Academy\", \"Nehru Stadium\", \"Rajiv Gandhi International Stadium, Uppal\", \"M Chinnaswamy Stadium\", \"Eden Gardens\", \"Wankhede Stadium\", \"M Chinnaswamy Stadium\", \"Punjab Cricket Association Stadium, Mohali\", \"Sawai Mansingh Stadium\", \"Rajiv Gandhi International Stadium, Uppal\", \"Punjab Cricket Association Stadium, Mohali\", \"Sawai Mansingh Stadium\", \"MA Chidambaram Stadium, Chepauk\", \"Holkar Cricket Stadium\", \"M Chinnaswamy Stadium\", \"Wankhede Stadium\", \"Himachal Pradesh Cricket Association Stadium\", \"Holkar Cricket Stadium\", \"Dr DY Patil Sports Academy\", \"Himachal Pradesh Cricket Association Stadium\", \"MA Chidambaram Stadium, Chepauk\", \"Dr DY Patil Sports Academy\", \"Wankhede Stadium\", \"Himachal Pradesh Cricket Association Stadium\", \"Feroz Shah Kotla\", \"M Chinnaswamy Stadium\", \"Eden Gardens\", \"Wankhede Stadium\", \"Wankhede Stadium\", \"MA Chidambaram Stadium, Chepauk\", \"MA Chidambaram Stadium, Chepauk\", \"MA Chidambaram Stadium, Chepauk\", \"Eden Gardens\", \"Wankhede Stadium\", \"Sawai Mansingh Stadium\", \"M Chinnaswamy Stadium\", \"Dr. Y.S. Rajasekhara Reddy ACA-VDCA Cricket Stadium\", \"Sawai Mansingh Stadium\", \"Subrata Roy Sahara Stadium\", \"Dr. Y.S. Rajasekhara Reddy ACA-VDCA Cricket Stadium\", \"M Chinnaswamy Stadium\", \"Feroz Shah Kotla\", \"Wankhede Stadium\", \"MA Chidambaram Stadium, Chepauk\", \"Punjab Cricket Association Stadium, Mohali\", \"Eden Gardens\", \"Feroz Shah Kotla\", \"Subrata Roy Sahara Stadium\", \"Eden Gardens\", \"M Chinnaswamy Stadium\", \"Wankhede Stadium\", \"Sawai Mansingh Stadium\", \"M Chinnaswamy Stadium\", \"Punjab Cricket Association Stadium, Mohali\", \"Rajiv Gandhi International Stadium, Uppal\", \"MA Chidambaram Stadium, Chepauk\", \"Punjab Cricket Association Stadium, Mohali\", \"MA Chidambaram Stadium, Chepauk\", \"Feroz Shah Kotla\", \"Wankhede Stadium\", \"Barabati Stadium\", \"Sawai Mansingh Stadium\", \"Subrata Roy Sahara Stadium\", \"Punjab Cricket Association Stadium, Mohali\", \"Subrata Roy Sahara Stadium\", \"Feroz Shah Kotla\", \"MA Chidambaram Stadium, Chepauk\", \"Eden Gardens\", \"Feroz Shah Kotla\", \"Wankhede Stadium\", \"MA Chidambaram Stadium, Chepauk\", \"Barabati Stadium\", \"Sawai Mansingh Stadium\", \"M Chinnaswamy Stadium\", \"Subrata Roy Sahara Stadium\", \"MA Chidambaram Stadium, Chepauk\", \"Eden Gardens\", \"Punjab Cricket Association Stadium, Mohali\", \"Wankhede Stadium\", \"M Chinnaswamy Stadium\", \"Feroz Shah Kotla\", \"Subrata Roy Sahara Stadium\", \"Rajiv Gandhi International Stadium, Uppal\", \"Wankhede Stadium\", \"Sawai Mansingh Stadium\", \"Subrata Roy Sahara Stadium\", \"Eden Gardens\", \"MA Chidambaram Stadium, Chepauk\", \"Sawai Mansingh Stadium\", \"Punjab Cricket Association Stadium, Mohali\", \"M Chinnaswamy Stadium\", \"Eden Gardens\", \"Feroz Shah Kotla\", \"Wankhede Stadium\", \"Himachal Pradesh Cricket Association Stadium\", \"Feroz Shah Kotla\", \"Rajiv Gandhi International Stadium, Uppal\", \"Himachal Pradesh Cricket Association Stadium\", \"Subrata Roy Sahara Stadium\", \"Rajiv Gandhi International Stadium, Uppal\", \"Sawai Mansingh Stadium\", \"Subrata Roy Sahara Stadium\", \"M Chinnaswamy Stadium\", \"MA Chidambaram Stadium, Chepauk\", \"MA Chidambaram Stadium, Chepauk\", \"Eden Gardens\", \"M Chinnaswamy Stadium\", \"Rajiv Gandhi International Stadium, Uppal\", \"Feroz Shah Kotla\", \"MA Chidambaram Stadium, Chepauk\", \"Subrata Roy Sahara Stadium\", \"Rajiv Gandhi International Stadium, Uppal\", \"Sawai Mansingh Stadium\", \"Wankhede Stadium\", \"Punjab Cricket Association Stadium, Mohali\", \"M Chinnaswamy Stadium\", \"Subrata Roy Sahara Stadium\", \"Feroz Shah Kotla\", \"Wankhede Stadium\", \"MA Chidambaram Stadium, Chepauk\", \"Eden Gardens\", \"Sawai Mansingh Stadium\", \"MA Chidambaram Stadium, Chepauk\", \"Punjab Cricket Association Stadium, Mohali\", \"M Chinnaswamy Stadium\", \"Subrata Roy Sahara Stadium\", \"Sawai Mansingh Stadium\", \"Feroz Shah Kotla\", \"Rajiv Gandhi International Stadium, Uppal\", \"Eden Gardens\", \"M Chinnaswamy Stadium\", \"Feroz Shah Kotla\", \"Punjab Cricket Association Stadium, Mohali\", \"MA Chidambaram Stadium, Chepauk\", \"M Chinnaswamy Stadium\", \"Himachal Pradesh Cricket Association Stadium\", \"Eden Gardens\", \"MA Chidambaram Stadium, Chepauk\", \"Eden Gardens\", \"Sawai Mansingh Stadium\", \"Wankhede Stadium\", \"MA Chidambaram Stadium, Chepauk\", \"Shaheed Veer Narayan Singh International Stadium\", \"Sawai Mansingh Stadium\", \"Wankhede Stadium\", \"Subrata Roy Sahara Stadium\", \"Rajiv Gandhi International Stadium, Uppal\", \"Shaheed Veer Narayan Singh International Stadium\", \"MA Chidambaram Stadium, Chepauk\", \"Subrata Roy Sahara Stadium\", \"Eden Gardens\", \"Rajiv Gandhi International Stadium, Uppal\", \"M Chinnaswamy Stadium\", \"Wankhede Stadium\", \"Sawai Mansingh Stadium\", \"M Chinnaswamy Stadium\", \"Sawai Mansingh Stadium\", \"Wankhede Stadium\", \"Rajiv Gandhi International Stadium, Uppal\", \"Punjab Cricket Association Stadium, Mohali\", \"Subrata Roy Sahara Stadium\", \"Feroz Shah Kotla\", \"Subrata Roy Sahara Stadium\", \"Punjab Cricket Association Stadium, Mohali\", \"JSCA International Stadium Complex\", \"Sawai Mansingh Stadium\", \"Feroz Shah Kotla\", \"Wankhede Stadium\", \"JSCA International Stadium Complex\", \"MA Chidambaram Stadium, Chepauk\", \"Wankhede Stadium\", \"Punjab Cricket Association Stadium, Mohali\", \"Rajiv Gandhi International Stadium, Uppal\", \"Himachal Pradesh Cricket Association Stadium\", \"Subrata Roy Sahara Stadium\", \"M Chinnaswamy Stadium\", \"Rajiv Gandhi International Stadium, Uppal\", \"Feroz Shah Kotla\", \"Feroz Shah Kotla\", \"Eden Gardens\", \"Eden Gardens\", \"Sheikh Zayed Stadium\", \"Sharjah Cricket Stadium\", \"Sheikh Zayed Stadium\", \"Sheikh Zayed Stadium\", \"Dubai International Cricket Stadium\", \"Dubai International Cricket Stadium\", \"Sharjah Cricket Stadium\", \"Sheikh Zayed Stadium\", \"Sharjah Cricket Stadium\", \"Dubai International Cricket Stadium\", \"Sharjah Cricket Stadium\", \"Dubai International Cricket Stadium\", \"Dubai International Cricket Stadium\", \"Sheikh Zayed Stadium\", \"Sheikh Zayed Stadium\", \"Sharjah Cricket Stadium\", \"Sharjah Cricket Stadium\", \"Dubai International Cricket Stadium\", \"Sheikh Zayed Stadium\", \"Dubai International Cricket Stadium\", \"JSCA International Stadium Complex\", \"Wankhede Stadium\", \"Feroz Shah Kotla\", \"M Chinnaswamy Stadium\", \"Sardar Patel Stadium, Motera\", \"Feroz Shah Kotla\", \"Wankhede Stadium\", \"Feroz Shah Kotla\", \"Barabati Stadium\", \"Sardar Patel Stadium, Motera\", \"M Chinnaswamy Stadium\", \"Feroz Shah Kotla\", \"Wankhede Stadium\", \"Barabati Stadium\", \"M Chinnaswamy Stadium\", \"Rajiv Gandhi International Stadium, Uppal\", \"JSCA International Stadium Complex\", \"M Chinnaswamy Stadium\", \"Rajiv Gandhi International Stadium, Uppal\", \"Barabati Stadium\", \"Sardar Patel Stadium, Motera\", \"JSCA International Stadium Complex\", \"Rajiv Gandhi International Stadium, Uppal\", \"Sardar Patel Stadium, Motera\", \"Feroz Shah Kotla\", \"Rajiv Gandhi International Stadium, Uppal\", \"Eden Gardens\", \"Punjab Cricket Association Stadium, Mohali\", \"Eden Gardens\", \"JSCA International Stadium Complex\", \"Wankhede Stadium\", \"Punjab Cricket Association Stadium, Mohali\", \"M Chinnaswamy Stadium\", \"Eden Gardens\", \"Punjab Cricket Association Stadium, Mohali\", \"Wankhede Stadium\", \"Eden Gardens\", \"Brabourne Stadium\", \"Wankhede Stadium\", \"M Chinnaswamy Stadium\", \"Eden Gardens\", \"MA Chidambaram Stadium, Chepauk\", \"Maharashtra Cricket Association Stadium\", \"MA Chidambaram Stadium, Chepauk\", \"Eden Gardens\", \"Feroz Shah Kotla\", \"Wankhede Stadium\", \"M Chinnaswamy Stadium\", \"Sardar Patel Stadium, Motera\", \"Eden Gardens\", \"Maharashtra Cricket Association Stadium\", \"Dr. Y.S. Rajasekhara Reddy ACA-VDCA Cricket Stadium\", \"Wankhede Stadium\", \"Dr. Y.S. Rajasekhara Reddy ACA-VDCA Cricket Stadium\", \"Maharashtra Cricket Association Stadium\", \"Sardar Patel Stadium, Motera\", \"M Chinnaswamy Stadium\", \"Feroz Shah Kotla\", \"Sardar Patel Stadium, Motera\", \"Dr. Y.S. Rajasekhara Reddy ACA-VDCA Cricket Stadium\", \"M Chinnaswamy Stadium\", \"Feroz Shah Kotla\", \"Sardar Patel Stadium, Motera\", \"Wankhede Stadium\", \"MA Chidambaram Stadium, Chepauk\", \"Feroz Shah Kotla\", \"Punjab Cricket Association Stadium, Mohali\", \"Eden Gardens\", \"M Chinnaswamy Stadium\", \"MA Chidambaram Stadium, Chepauk\", \"Feroz Shah Kotla\", \"Wankhede Stadium\", \"M Chinnaswamy Stadium\", \"Rajiv Gandhi International Stadium, Uppal\", \"Punjab Cricket Association Stadium, Mohali\", \"Brabourne Stadium\", \"MA Chidambaram Stadium, Chepauk\", \"Eden Gardens\", \"Wankhede Stadium\", \"M Chinnaswamy Stadium\", \"Brabourne Stadium\", \"MA Chidambaram Stadium, Chepauk\", \"Eden Gardens\", \"Shaheed Veer Narayan Singh International Stadium\", \"Wankhede Stadium\", \"MA Chidambaram Stadium, Chepauk\", \"Rajiv Gandhi International Stadium, Uppal\", \"Shaheed Veer Narayan Singh International Stadium\", \"Punjab Cricket Association Stadium, Mohali\", \"Wankhede Stadium\", \"Rajiv Gandhi International Stadium, Uppal\", \"Punjab Cricket Association Stadium, Mohali\", \"Brabourne Stadium\", \"M Chinnaswamy Stadium\", \"Rajiv Gandhi International Stadium, Uppal\", \"Wankhede Stadium\", \"Maharashtra Cricket Association Stadium\", \"JSCA International Stadium Complex\", \"Eden Gardens\", \"Wankhede Stadium\", \"Eden Gardens\", \"Punjab Cricket Association IS Bindra Stadium, Mohali\", \"M Chinnaswamy Stadium\", \"Eden Gardens\", \"Saurashtra Cricket Association Stadium\", \"Feroz Shah Kotla\", \"Rajiv Gandhi International Stadium, Uppal\", \"Wankhede Stadium\", \"Punjab Cricket Association IS Bindra Stadium, Mohali\", \"M Chinnaswamy Stadium\", \"Rajiv Gandhi International Stadium, Uppal\", \"Punjab Cricket Association IS Bindra Stadium, Mohali\", \"Wankhede Stadium\", \"Saurashtra Cricket Association Stadium\", \"Maharashtra Cricket Association Stadium\", \"Feroz Shah Kotla\", \"Rajiv Gandhi International Stadium, Uppal\", \"Saurashtra Cricket Association Stadium\", \"Maharashtra Cricket Association Stadium\", \"Punjab Cricket Association IS Bindra Stadium, Mohali\", \"Rajiv Gandhi International Stadium, Uppal\", \"Feroz Shah Kotla\", \"Wankhede Stadium\", \"Maharashtra Cricket Association Stadium\", \"Feroz Shah Kotla\", \"Rajiv Gandhi International Stadium, Uppal\", \"Saurashtra Cricket Association Stadium\", \"Maharashtra Cricket Association Stadium\", \"M Chinnaswamy Stadium\", \"Saurashtra Cricket Association Stadium\", \"Eden Gardens\", \"Feroz Shah Kotla\", \"Rajiv Gandhi International Stadium, Uppal\", \"M Chinnaswamy Stadium\", \"Punjab Cricket Association IS Bindra Stadium, Mohali\", \"Dr. Y.S. Rajasekhara Reddy ACA-VDCA Cricket Stadium\", \"Eden Gardens\", \"Punjab Cricket Association IS Bindra Stadium, Mohali\", \"Dr. Y.S. Rajasekhara Reddy ACA-VDCA Cricket Stadium\", \"M Chinnaswamy Stadium\", \"Rajiv Gandhi International Stadium, Uppal\", \"Dr. Y.S. Rajasekhara Reddy ACA-VDCA Cricket Stadium\", \"M Chinnaswamy Stadium\", \"Eden Gardens\", \"Punjab Cricket Association IS Bindra Stadium, Mohali\", \"Dr. Y.S. Rajasekhara Reddy ACA-VDCA Cricket Stadium\", \"Eden Gardens\", \"Dr. Y.S. Rajasekhara Reddy ACA-VDCA Cricket Stadium\", \"M Chinnaswamy Stadium\", \"Green Park\", \"Shaheed Veer Narayan Singh International Stadium\", \"Dr. Y.S. Rajasekhara Reddy ACA-VDCA Cricket Stadium\", \"Green Park\", \"Eden Gardens\", \"Shaheed Veer Narayan Singh International Stadium\", \"M Chinnaswamy Stadium\", \"Feroz Shah Kotla\", \"Feroz Shah Kotla\", \"M Chinnaswamy Stadium\", \"Wankhede Stadium\", \"Punjab Cricket Association IS Bindra Stadium, Mohali\", \"Eden Gardens\", \"Rajiv Gandhi International Stadium, Uppal\", \"MA Chidambaram Stadium, Chepauk\", \"Sawai Mansingh Stadium\", \"Rajiv Gandhi International Stadium, Uppal\", \"M Chinnaswamy Stadium\", \"Wankhede Stadium\", \"Eden Gardens\", \"M Chinnaswamy Stadium\", \"Punjab Cricket Association IS Bindra Stadium, Mohali\", \"Eden Gardens\", \"Wankhede Stadium\", \"Sawai Mansingh Stadium\", \"Punjab Cricket Association IS Bindra Stadium, Mohali\", \"Maharashtra Cricket Association Stadium\", \"Eden Gardens\", \"M Chinnaswamy Stadium\", \"Rajiv Gandhi International Stadium, Uppal\", \"Sawai Mansingh Stadium\", \"Feroz Shah Kotla\", \"Wankhede Stadium\", \"M Chinnaswamy Stadium\", \"Rajiv Gandhi International Stadium, Uppal\", \"Feroz Shah Kotla\", \"Maharashtra Cricket Association Stadium\", \"Sawai Mansingh Stadium\", \"M Chinnaswamy Stadium\", \"Maharashtra Cricket Association Stadium\", \"M Chinnaswamy Stadium\", \"Feroz Shah Kotla\", \"Eden Gardens\", \"Holkar Cricket Stadium\", \"Maharashtra Cricket Association Stadium\", \"Rajiv Gandhi International Stadium, Uppal\", \"Wankhede Stadium\", \"Holkar Cricket Stadium\", \"Rajiv Gandhi International Stadium, Uppal\", \"Sawai Mansingh Stadium\", \"Eden Gardens\", \"Feroz Shah Kotla\", \"Sawai Mansingh Stadium\", \"Holkar Cricket Stadium\", \"Feroz Shah Kotla\", \"Maharashtra Cricket Association Stadium\", \"Wankhede Stadium\", \"Holkar Cricket Stadium\", \"Eden Gardens\", \"Wankhede Stadium\", \"M Chinnaswamy Stadium\", \"Feroz Shah Kotla\", \"Sawai Mansingh Stadium\", \"Rajiv Gandhi International Stadium, Uppal\", \"Feroz Shah Kotla\", \"Maharashtra Cricket Association Stadium\", \"Wankhede Stadium\", \"Eden Gardens\", \"Eden Gardens\", \"Wankhede Stadium\"]}],\n",
       "                        {\"barmode\": \"overlay\", \"legend\": {\"bgcolor\": \"#F5F6F9\", \"font\": {\"color\": \"#4D5663\"}}, \"paper_bgcolor\": \"#F5F6F9\", \"plot_bgcolor\": \"#F5F6F9\", \"template\": {\"data\": {\"bar\": [{\"error_x\": {\"color\": \"#2a3f5f\"}, \"error_y\": {\"color\": \"#2a3f5f\"}, \"marker\": {\"line\": {\"color\": \"#E5ECF6\", \"width\": 0.5}}, \"type\": \"bar\"}], \"barpolar\": [{\"marker\": {\"line\": {\"color\": \"#E5ECF6\", \"width\": 0.5}}, \"type\": \"barpolar\"}], \"carpet\": [{\"aaxis\": {\"endlinecolor\": \"#2a3f5f\", \"gridcolor\": \"white\", \"linecolor\": \"white\", \"minorgridcolor\": \"white\", \"startlinecolor\": \"#2a3f5f\"}, \"baxis\": {\"endlinecolor\": \"#2a3f5f\", \"gridcolor\": \"white\", \"linecolor\": \"white\", \"minorgridcolor\": \"white\", \"startlinecolor\": \"#2a3f5f\"}, \"type\": \"carpet\"}], \"choropleth\": [{\"colorbar\": {\"outlinewidth\": 0, \"ticks\": \"\"}, \"type\": \"choropleth\"}], \"contour\": [{\"colorbar\": {\"outlinewidth\": 0, \"ticks\": \"\"}, \"colorscale\": [[0.0, \"#0d0887\"], [0.1111111111111111, \"#46039f\"], [0.2222222222222222, \"#7201a8\"], [0.3333333333333333, \"#9c179e\"], [0.4444444444444444, \"#bd3786\"], [0.5555555555555556, \"#d8576b\"], [0.6666666666666666, \"#ed7953\"], [0.7777777777777778, \"#fb9f3a\"], [0.8888888888888888, \"#fdca26\"], [1.0, \"#f0f921\"]], \"type\": \"contour\"}], \"contourcarpet\": [{\"colorbar\": {\"outlinewidth\": 0, \"ticks\": \"\"}, \"type\": \"contourcarpet\"}], \"heatmap\": [{\"colorbar\": {\"outlinewidth\": 0, \"ticks\": \"\"}, \"colorscale\": [[0.0, \"#0d0887\"], [0.1111111111111111, \"#46039f\"], [0.2222222222222222, \"#7201a8\"], [0.3333333333333333, \"#9c179e\"], [0.4444444444444444, \"#bd3786\"], [0.5555555555555556, \"#d8576b\"], [0.6666666666666666, \"#ed7953\"], [0.7777777777777778, \"#fb9f3a\"], [0.8888888888888888, \"#fdca26\"], [1.0, \"#f0f921\"]], \"type\": \"heatmap\"}], \"heatmapgl\": [{\"colorbar\": {\"outlinewidth\": 0, \"ticks\": \"\"}, \"colorscale\": [[0.0, \"#0d0887\"], [0.1111111111111111, \"#46039f\"], [0.2222222222222222, \"#7201a8\"], [0.3333333333333333, \"#9c179e\"], [0.4444444444444444, \"#bd3786\"], [0.5555555555555556, \"#d8576b\"], [0.6666666666666666, \"#ed7953\"], [0.7777777777777778, \"#fb9f3a\"], [0.8888888888888888, \"#fdca26\"], [1.0, \"#f0f921\"]], \"type\": \"heatmapgl\"}], \"histogram\": [{\"marker\": {\"colorbar\": {\"outlinewidth\": 0, \"ticks\": \"\"}}, \"type\": \"histogram\"}], \"histogram2d\": [{\"colorbar\": {\"outlinewidth\": 0, \"ticks\": \"\"}, \"colorscale\": [[0.0, \"#0d0887\"], [0.1111111111111111, \"#46039f\"], [0.2222222222222222, \"#7201a8\"], [0.3333333333333333, \"#9c179e\"], [0.4444444444444444, \"#bd3786\"], [0.5555555555555556, \"#d8576b\"], [0.6666666666666666, \"#ed7953\"], [0.7777777777777778, \"#fb9f3a\"], [0.8888888888888888, \"#fdca26\"], [1.0, \"#f0f921\"]], \"type\": \"histogram2d\"}], \"histogram2dcontour\": [{\"colorbar\": {\"outlinewidth\": 0, \"ticks\": \"\"}, \"colorscale\": [[0.0, \"#0d0887\"], [0.1111111111111111, \"#46039f\"], [0.2222222222222222, \"#7201a8\"], [0.3333333333333333, \"#9c179e\"], [0.4444444444444444, \"#bd3786\"], [0.5555555555555556, \"#d8576b\"], [0.6666666666666666, \"#ed7953\"], [0.7777777777777778, \"#fb9f3a\"], [0.8888888888888888, \"#fdca26\"], [1.0, \"#f0f921\"]], \"type\": \"histogram2dcontour\"}], \"mesh3d\": [{\"colorbar\": {\"outlinewidth\": 0, \"ticks\": \"\"}, \"type\": \"mesh3d\"}], \"parcoords\": [{\"line\": {\"colorbar\": {\"outlinewidth\": 0, \"ticks\": \"\"}}, \"type\": \"parcoords\"}], \"pie\": [{\"automargin\": true, \"type\": \"pie\"}], \"scatter\": [{\"marker\": {\"colorbar\": {\"outlinewidth\": 0, \"ticks\": \"\"}}, \"type\": \"scatter\"}], \"scatter3d\": [{\"line\": {\"colorbar\": {\"outlinewidth\": 0, \"ticks\": \"\"}}, \"marker\": {\"colorbar\": {\"outlinewidth\": 0, \"ticks\": \"\"}}, \"type\": \"scatter3d\"}], \"scattercarpet\": [{\"marker\": {\"colorbar\": {\"outlinewidth\": 0, \"ticks\": \"\"}}, \"type\": \"scattercarpet\"}], \"scattergeo\": [{\"marker\": {\"colorbar\": {\"outlinewidth\": 0, \"ticks\": \"\"}}, \"type\": \"scattergeo\"}], \"scattergl\": [{\"marker\": {\"colorbar\": {\"outlinewidth\": 0, \"ticks\": \"\"}}, \"type\": \"scattergl\"}], \"scattermapbox\": [{\"marker\": {\"colorbar\": {\"outlinewidth\": 0, \"ticks\": \"\"}}, \"type\": \"scattermapbox\"}], \"scatterpolar\": [{\"marker\": {\"colorbar\": {\"outlinewidth\": 0, \"ticks\": \"\"}}, \"type\": \"scatterpolar\"}], \"scatterpolargl\": [{\"marker\": {\"colorbar\": {\"outlinewidth\": 0, \"ticks\": \"\"}}, \"type\": \"scatterpolargl\"}], \"scatterternary\": [{\"marker\": {\"colorbar\": {\"outlinewidth\": 0, \"ticks\": \"\"}}, \"type\": \"scatterternary\"}], \"surface\": [{\"colorbar\": {\"outlinewidth\": 0, \"ticks\": \"\"}, \"colorscale\": [[0.0, \"#0d0887\"], [0.1111111111111111, \"#46039f\"], [0.2222222222222222, \"#7201a8\"], [0.3333333333333333, \"#9c179e\"], [0.4444444444444444, \"#bd3786\"], [0.5555555555555556, \"#d8576b\"], [0.6666666666666666, \"#ed7953\"], [0.7777777777777778, \"#fb9f3a\"], [0.8888888888888888, \"#fdca26\"], [1.0, \"#f0f921\"]], \"type\": \"surface\"}], \"table\": [{\"cells\": {\"fill\": {\"color\": \"#EBF0F8\"}, \"line\": {\"color\": \"white\"}}, \"header\": {\"fill\": {\"color\": \"#C8D4E3\"}, \"line\": {\"color\": \"white\"}}, \"type\": \"table\"}]}, \"layout\": {\"annotationdefaults\": {\"arrowcolor\": \"#2a3f5f\", \"arrowhead\": 0, \"arrowwidth\": 1}, \"coloraxis\": {\"colorbar\": {\"outlinewidth\": 0, \"ticks\": \"\"}}, \"colorscale\": {\"diverging\": [[0, \"#8e0152\"], [0.1, \"#c51b7d\"], [0.2, \"#de77ae\"], [0.3, \"#f1b6da\"], [0.4, \"#fde0ef\"], [0.5, \"#f7f7f7\"], [0.6, \"#e6f5d0\"], [0.7, \"#b8e186\"], [0.8, \"#7fbc41\"], [0.9, \"#4d9221\"], [1, \"#276419\"]], \"sequential\": [[0.0, \"#0d0887\"], [0.1111111111111111, \"#46039f\"], [0.2222222222222222, \"#7201a8\"], [0.3333333333333333, \"#9c179e\"], [0.4444444444444444, \"#bd3786\"], [0.5555555555555556, \"#d8576b\"], [0.6666666666666666, \"#ed7953\"], [0.7777777777777778, \"#fb9f3a\"], [0.8888888888888888, \"#fdca26\"], [1.0, \"#f0f921\"]], \"sequentialminus\": [[0.0, \"#0d0887\"], [0.1111111111111111, \"#46039f\"], [0.2222222222222222, \"#7201a8\"], [0.3333333333333333, \"#9c179e\"], [0.4444444444444444, \"#bd3786\"], [0.5555555555555556, \"#d8576b\"], [0.6666666666666666, \"#ed7953\"], [0.7777777777777778, \"#fb9f3a\"], [0.8888888888888888, \"#fdca26\"], [1.0, \"#f0f921\"]]}, \"colorway\": [\"#636efa\", \"#EF553B\", \"#00cc96\", \"#ab63fa\", \"#FFA15A\", \"#19d3f3\", \"#FF6692\", \"#B6E880\", \"#FF97FF\", \"#FECB52\"], \"font\": {\"color\": \"#2a3f5f\"}, \"geo\": {\"bgcolor\": \"white\", \"lakecolor\": \"white\", \"landcolor\": \"#E5ECF6\", \"showlakes\": true, \"showland\": true, \"subunitcolor\": \"white\"}, \"hoverlabel\": {\"align\": \"left\"}, \"hovermode\": \"closest\", \"mapbox\": {\"style\": \"light\"}, \"paper_bgcolor\": \"white\", \"plot_bgcolor\": \"#E5ECF6\", \"polar\": {\"angularaxis\": {\"gridcolor\": \"white\", \"linecolor\": \"white\", \"ticks\": \"\"}, \"bgcolor\": \"#E5ECF6\", \"radialaxis\": {\"gridcolor\": \"white\", \"linecolor\": \"white\", \"ticks\": \"\"}}, \"scene\": {\"xaxis\": {\"backgroundcolor\": \"#E5ECF6\", \"gridcolor\": \"white\", \"gridwidth\": 2, \"linecolor\": \"white\", \"showbackground\": true, \"ticks\": \"\", \"zerolinecolor\": \"white\"}, \"yaxis\": {\"backgroundcolor\": \"#E5ECF6\", \"gridcolor\": \"white\", \"gridwidth\": 2, \"linecolor\": \"white\", \"showbackground\": true, \"ticks\": \"\", \"zerolinecolor\": \"white\"}, \"zaxis\": {\"backgroundcolor\": \"#E5ECF6\", \"gridcolor\": \"white\", \"gridwidth\": 2, \"linecolor\": \"white\", \"showbackground\": true, \"ticks\": \"\", \"zerolinecolor\": \"white\"}}, \"shapedefaults\": {\"line\": {\"color\": \"#2a3f5f\"}}, \"ternary\": {\"aaxis\": {\"gridcolor\": \"white\", \"linecolor\": \"white\", \"ticks\": \"\"}, \"baxis\": {\"gridcolor\": \"white\", \"linecolor\": \"white\", \"ticks\": \"\"}, \"bgcolor\": \"#E5ECF6\", \"caxis\": {\"gridcolor\": \"white\", \"linecolor\": \"white\", \"ticks\": \"\"}}, \"title\": {\"x\": 0.05}, \"xaxis\": {\"automargin\": true, \"gridcolor\": \"white\", \"linecolor\": \"white\", \"ticks\": \"\", \"title\": {\"standoff\": 15}, \"zerolinecolor\": \"white\", \"zerolinewidth\": 2}, \"yaxis\": {\"automargin\": true, \"gridcolor\": \"white\", \"linecolor\": \"white\", \"ticks\": \"\", \"title\": {\"standoff\": 15}, \"zerolinecolor\": \"white\", \"zerolinewidth\": 2}}}, \"title\": {\"font\": {\"color\": \"#4D5663\"}}, \"xaxis\": {\"gridcolor\": \"#E1E5ED\", \"showgrid\": true, \"tickfont\": {\"color\": \"#4D5663\"}, \"title\": {\"font\": {\"color\": \"#4D5663\"}, \"text\": \"\"}, \"zerolinecolor\": \"#E1E5ED\"}, \"yaxis\": {\"gridcolor\": \"#E1E5ED\", \"showgrid\": true, \"tickfont\": {\"color\": \"#4D5663\"}, \"title\": {\"font\": {\"color\": \"#4D5663\"}, \"text\": \"\"}, \"zerolinecolor\": \"#E1E5ED\"}},\n",
       "                        {\"showLink\": true, \"linkText\": \"Export to plot.ly\", \"plotlyServerURL\": \"https://plot.ly\", \"responsive\": true}\n",
       "                    ).then(function(){\n",
       "                            \n",
       "var gd = document.getElementById('50c35ba2-ce62-4f4a-aafa-9ee84068831a');\n",
       "var x = new MutationObserver(function (mutations, observer) {{\n",
       "        var display = window.getComputedStyle(gd).display;\n",
       "        if (!display || display === 'none') {{\n",
       "            console.log([gd, 'removed!']);\n",
       "            Plotly.purge(gd);\n",
       "            observer.disconnect();\n",
       "        }}\n",
       "}});\n",
       "\n",
       "// Listen for the removal of the full notebook cells\n",
       "var notebookContainer = gd.closest('#notebook-container');\n",
       "if (notebookContainer) {{\n",
       "    x.observe(notebookContainer, {childList: true});\n",
       "}}\n",
       "\n",
       "// Listen for the clearing of the current output cell\n",
       "var outputEl = gd.closest('.output');\n",
       "if (outputEl) {{\n",
       "    x.observe(outputEl, {childList: true});\n",
       "}}\n",
       "\n",
       "                        })\n",
       "                };\n",
       "                });\n",
       "            </script>\n",
       "        </div>"
      ]
     },
     "metadata": {},
     "output_type": "display_data"
    }
   ],
   "source": [
    "df['venue'].iplot(kind='hist',theme='pearl',colors='red')"
   ]
  },
  {
   "cell_type": "code",
   "execution_count": 44,
   "metadata": {},
   "outputs": [
    {
     "data": {
      "text/plain": [
       "(array([ 0,  1,  2,  3,  4,  5,  6,  7,  8,  9, 10, 11, 12, 13]),\n",
       " <a list of 14 Text xticklabel objects>)"
      ]
     },
     "execution_count": 44,
     "metadata": {},
     "output_type": "execute_result"
    },
    {
     "data": {
      "image/png": "[encoded data removed]",
      "text/plain": [
       "<Figure size 720x360 with 1 Axes>"
      ]
     },
     "metadata": {},
     "output_type": "display_data"
    }
   ],
   "source": [
    "plt.figure(figsize=(10,5))\n",
    "sns.countplot(x='winner',data=df,palette='viridis')\n",
    "plt.xticks(rotation='vertical')  # Total win for each team since tournament started..."
   ]
  },
  {
   "cell_type": "code",
   "execution_count": 118,
   "metadata": {},
   "outputs": [
    {
     "data": {
      "text/plain": [
       "(array([ 58.,  57.,  60.,  73.,  74.,  76.,  60.,  59.,  60., 119.]),\n",
       " array([2008., 2009., 2010., 2011., 2012., 2013., 2014., 2015., 2016.,\n",
       "        2017., 2018.]),\n",
       " <a list of 10 Patch objects>)"
      ]
     },
     "execution_count": 118,
     "metadata": {},
     "output_type": "execute_result"
    },
    {
     "data": {
      "image/png": "[encoded data removed]",
      "text/plain": [
       "<Figure size 432x288 with 1 Axes>"
      ]
     },
     "metadata": {
      "needs_background": "light"
     },
     "output_type": "display_data"
    }
   ],
   "source": [
    "plt.hist(x=df['season'],color='purple')  # NO. of matches in each season..."
   ]
  },
  {
   "cell_type": "code",
   "execution_count": 46,
   "metadata": {},
   "outputs": [
    {
     "data": {
      "text/plain": [
       "<matplotlib.axes._subplots.AxesSubplot at 0x249d6d56d88>"
      ]
     },
     "execution_count": 46,
     "metadata": {},
     "output_type": "execute_result"
    },
    {
     "data": {
      "image/png": "[encoded data removed]",
      "text/plain": [
       "<Figure size 432x288 with 1 Axes>"
      ]
     },
     "metadata": {},
     "output_type": "display_data"
    }
   ],
   "source": [
    "# No. of times team won finals...\n",
    "Trophy['winner'].value_counts().plot(kind='bar',color='red')"
   ]
  },
  {
   "cell_type": "code",
   "execution_count": 120,
   "metadata": {},
   "outputs": [
    {
     "data": {
      "text/plain": [
       "<matplotlib.axes._subplots.AxesSubplot at 0x249de3c4208>"
      ]
     },
     "execution_count": 120,
     "metadata": {},
     "output_type": "execute_result"
    },
    {
     "data": {
      "image/png": "[encoded data removed]",
      "text/plain": [
       "<Figure size 432x288 with 1 Axes>"
      ]
     },
     "metadata": {
      "needs_background": "light"
     },
     "output_type": "display_data"
    }
   ],
   "source": [
    "ss= df['winner'].value_counts().to_frame().reset_index().copy()\n",
    "ss.rename(columns={'index':'Team','winner':'win'},inplace=True)\n",
    "ss.plot.bar(x='Team',y='win',cmap='rainbow')  # Use built in pandas plotting facility..."
   ]
  },
  {
   "cell_type": "code",
   "execution_count": 48,
   "metadata": {},
   "outputs": [
    {
     "data": {
      "text/plain": [
       "<matplotlib.axes._subplots.AxesSubplot at 0x249d6db3988>"
      ]
     },
     "execution_count": 48,
     "metadata": {},
     "output_type": "execute_result"
    },
    {
     "data": {
      "image/png": "[encoded data removed]",
      "text/plain": [
       "<Figure size 864x432 with 1 Axes>"
      ]
     },
     "metadata": {},
     "output_type": "display_data"
    }
   ],
   "source": [
    "plt.figure(figsize=(12,6))\n",
    "sns.countplot(x='season',hue='toss_decision',data=df,palette='rainbow') # Matches in each season using simply hue..."
   ]
  },
  {
   "cell_type": "code",
   "execution_count": 49,
   "metadata": {},
   "outputs": [],
   "source": [
    "dd = df['player_of_match'].value_counts().to_frame().reset_index()\n",
    "dd.rename(columns={'index':'Player','player_of_match':'MOM'},inplace=True)"
   ]
  },
  {
   "cell_type": "code",
   "execution_count": 50,
   "metadata": {},
   "outputs": [],
   "source": [
    "dd = dd[dd['MOM']>10]"
   ]
  },
  {
   "cell_type": "markdown",
   "metadata": {},
   "source": [
    "# Man Of The Match by visualizing.."
   ]
  },
  {
   "cell_type": "code",
   "execution_count": 103,
   "metadata": {},
   "outputs": [
    {
     "data": {
      "text/plain": [
       "(array([ 0,  1,  2,  3,  4,  5,  6,  7,  8,  9, 10, 11, 12, 13]),\n",
       " <a list of 14 Text xticklabel objects>)"
      ]
     },
     "execution_count": 103,
     "metadata": {},
     "output_type": "execute_result"
    },
    {
     "data": {
      "image/png": "[encoded data removed]",
      "text/plain": [
       "<Figure size 864x432 with 1 Axes>"
      ]
     },
     "metadata": {
      "needs_background": "light"
     },
     "output_type": "display_data"
    }
   ],
   "source": [
    "plt.figure(figsize=(12,6))\n",
    "sns.barplot(x='Player',y='MOM',data=dd,palette='twilight')\n",
    "plt.title('Best Player For One Match',{'fontsize':20})\n",
    "plt.xticks(rotation='vertical')  "
   ]
  },
  {
   "cell_type": "code",
   "execution_count": 102,
   "metadata": {},
   "outputs": [
    {
     "data": {
      "text/plain": [
       "<matplotlib.legend.Legend at 0x249da5f7f48>"
      ]
     },
     "execution_count": 102,
     "metadata": {},
     "output_type": "execute_result"
    },
    {
     "data": {
      "image/png": "[encoded data removed]",
      "text/plain": [
       "<Figure size 1080x540 with 1 Axes>"
      ]
     },
     "metadata": {
      "needs_background": "light"
     },
     "output_type": "display_data"
    }
   ],
   "source": [
    "# We can see the city where match had stopped due to rain and result was decided on the basis of \"DLS\"...\n",
    "plt.figure(figsize=(12,6),dpi=90)\n",
    "sns.countplot(x='city',hue='dl_applied',data=df,palette='seismic')\n",
    "plt.xticks(rotation='vertical')\n",
    "plt.legend(loc='upper right')"
   ]
  },
  {
   "cell_type": "code",
   "execution_count": 53,
   "metadata": {},
   "outputs": [],
   "source": [
    "stadium2 = stadium.to_frame().reset_index().rename(columns={'index':'Ground','venue':'Final_held'})"
   ]
  },
  {
   "cell_type": "code",
   "execution_count": 54,
   "metadata": {},
   "outputs": [
    {
     "data": {
      "text/plain": [
       "(array([0, 1, 2, 3, 4, 5, 6]), <a list of 7 Text xticklabel objects>)"
      ]
     },
     "execution_count": 54,
     "metadata": {},
     "output_type": "execute_result"
    },
    {
     "data": {
      "image/png": "[encoded data removed]",
      "text/plain": [
       "<Figure size 864x432 with 1 Axes>"
      ]
     },
     "metadata": {},
     "output_type": "display_data"
    }
   ],
   "source": [
    "plt.figure(figsize=(12,6))\n",
    "sns.barplot(x='Ground',y='Final_held',data=stadium2,palette='magma')\n",
    "plt.xticks(rotation='vertical')  # Most favourite ground for finals of \"IPL\"..."
   ]
  },
  {
   "cell_type": "code",
   "execution_count": 55,
   "metadata": {},
   "outputs": [],
   "source": [
    "umpire_info1 = umpire_info['U_name'].value_counts().head(10).copy()"
   ]
  },
  {
   "cell_type": "code",
   "execution_count": 56,
   "metadata": {},
   "outputs": [],
   "source": [
    "umpire_info1.to_frame().reset_index().rename(columns={'index':'U_name','U_name':'Match'},inplace=True)"
   ]
  },
  {
   "cell_type": "code",
   "execution_count": 101,
   "metadata": {},
   "outputs": [
    {
     "data": {
      "text/plain": [
       "Text(0.5, 1.0, 'Top Umpires In IPL')"
      ]
     },
     "execution_count": 101,
     "metadata": {},
     "output_type": "execute_result"
    },
    {
     "data": {
      "image/png": "[encoded data removed]",
      "text/plain": [
       "<Figure size 864x432 with 1 Axes>"
      ]
     },
     "metadata": {
      "needs_background": "light"
     },
     "output_type": "display_data"
    }
   ],
   "source": [
    "plt.figure(figsize=(12,6))\n",
    "umpire_info1.plot(kind='bar',x='U_name',y='Match',cmap='jet')\n",
    "plt.title('Top Umpires In IPL',{'fontsize':20})"
   ]
  },
  {
   "cell_type": "code",
   "execution_count": 117,
   "metadata": {
    "scrolled": false
   },
   "outputs": [
    {
     "data": {
      "text/plain": [
       "Text(0.5, 1.0, 'Toss Decision Percentage')"
      ]
     },
     "execution_count": 117,
     "metadata": {},
     "output_type": "execute_result"
    },
    {
     "data": {
      "image/png": "[encoded data removed]",
      "text/plain": [
       "<Figure size 864x432 with 1 Axes>"
      ]
     },
     "metadata": {},
     "output_type": "display_data"
    }
   ],
   "source": [
    "Pie_chart = df['toss_decision'].value_counts().copy()\n",
    "sizes = (np.array((Pie_chart/Pie_chart.sum())*100))\n",
    "labels = np.array(Pie_chart.index)\n",
    "color = ['lightblue','lightpink']\n",
    "plt.figure(figsize=(12,6))\n",
    "plt.pie(sizes,labels=labels,colors=color,startangle=80,autopct='%1.1f%%', shadow=True,explode=(0.05,0))\n",
    "plt.title('Toss Decision Percentage',{'fontsize':20})"
   ]
  }
 ],
 "metadata": {
  "kernelspec": {
   "display_name": "Python 3",
   "language": "python",
   "name": "python3"
  },
  "language_info": {
   "codemirror_mode": {
    "name": "ipython",
    "version": 3
   },
   "file_extension": ".py",
   "mimetype": "text/x-python",
   "name": "python",
   "nbconvert_exporter": "python",
   "pygments_lexer": "ipython3",
   "version": "3.7.6"
  }
 },
 "nbformat": 4,
 "nbformat_minor": 4
}
